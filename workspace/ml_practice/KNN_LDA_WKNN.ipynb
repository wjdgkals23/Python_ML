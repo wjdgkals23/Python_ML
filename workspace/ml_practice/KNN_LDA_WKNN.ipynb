{
 "cells": [
  {
   "cell_type": "code",
   "execution_count": 1,
   "metadata": {},
   "outputs": [],
   "source": [
    "######### 분석과제!\n",
    "rm(list=ls())\n",
    "### setwd"
   ]
  },
  {
   "cell_type": "code",
   "execution_count": 2,
   "metadata": {},
   "outputs": [
    {
     "name": "stderr",
     "output_type": "stream",
     "text": [
      "Loading required package: caret\n",
      "Loading required package: lattice\n",
      "Loading required package: ggplot2\n",
      "Loading required package: e1071\n",
      "Loading required package: dplyr\n",
      "\n",
      "Attaching package: 'dplyr'\n",
      "\n",
      "The following objects are masked from 'package:stats':\n",
      "\n",
      "    filter, lag\n",
      "\n",
      "The following objects are masked from 'package:base':\n",
      "\n",
      "    intersect, setdiff, setequal, union\n",
      "\n",
      "Loading required package: class\n",
      "Loading required package: kknn\n",
      "\n",
      "Attaching package: 'kknn'\n",
      "\n",
      "The following object is masked from 'package:caret':\n",
      "\n",
      "    contr.dummy\n",
      "\n",
      "Loading required package: data.table\n",
      "\n",
      "Attaching package: 'data.table'\n",
      "\n",
      "The following objects are masked from 'package:dplyr':\n",
      "\n",
      "    between, first, last\n",
      "\n"
     ]
    }
   ],
   "source": [
    "### packages\n",
    "if(!require(caret)) install.packages(\"caret\"); library(caret)\n",
    "if(!require(e1071)) install.packages(\"e1071\"); library(e1071)\n",
    "if(!require(dplyr)) install.packages(\"dplyr\"); library(dplyr)\n",
    "if(!require(class)) install.packages(\"class\"); library(class) # for knn\n",
    "if(!require(kknn)) install.packages(\"kknn\"); library(kknn) # for wknn\n",
    "if(!require(data.table)) install.packages(\"data.table\"); library(data.table)"
   ]
  },
  {
   "cell_type": "code",
   "execution_count": 35,
   "metadata": {},
   "outputs": [
    {
     "data": {
      "text/html": [
       "<table>\n",
       "<thead><tr><th scope=col>id</th><th scope=col>gen</th><th scope=col>job</th><th scope=col>resid</th></tr></thead>\n",
       "<tbody>\n",
       "\t<tr><td>1003         </td><td>여자         </td><td>의료         </td><td>서울         </td></tr>\n",
       "\t<tr><td>1006         </td><td>남자         </td><td>자영업       </td><td>대전         </td></tr>\n",
       "\t<tr><td>1014         </td><td>남자         </td><td>자영업       </td><td>경상         </td></tr>\n",
       "\t<tr><td>1025         </td><td>여자         </td><td>대학/대학원생</td><td>부산         </td></tr>\n",
       "\t<tr><td>1027         </td><td>남자         </td><td>전산직       </td><td>경기         </td></tr>\n",
       "\t<tr><td>1039         </td><td>남자         </td><td>사무관리직   </td><td>경기         </td></tr>\n",
       "</tbody>\n",
       "</table>\n"
      ],
      "text/latex": [
       "\\begin{tabular}{r|llll}\n",
       " id & gen & job & resid\\\\\n",
       "\\hline\n",
       "\t 1003          & 여자          & 의료          & 서울         \\\\\n",
       "\t 1006          & 남자          & 자영업        & 대전         \\\\\n",
       "\t 1014          & 남자          & 자영업        & 경상         \\\\\n",
       "\t 1025          & 여자          & 대학/대학원생 & 부산         \\\\\n",
       "\t 1027          & 남자          & 전산직        & 경기         \\\\\n",
       "\t 1039          & 남자          & 사무관리직    & 경기         \\\\\n",
       "\\end{tabular}\n"
      ],
      "text/markdown": [
       "\n",
       "id | gen | job | resid | \n",
       "|---|---|---|---|---|---|\n",
       "| 1003          | 여자          | 의료          | 서울          | \n",
       "| 1006          | 남자          | 자영업        | 대전          | \n",
       "| 1014          | 남자          | 자영업        | 경상          | \n",
       "| 1025          | 여자          | 대학/대학원생 | 부산          | \n",
       "| 1027          | 남자          | 전산직        | 경기          | \n",
       "| 1039          | 남자          | 사무관리직    | 경기          | \n",
       "\n",
       "\n"
      ],
      "text/plain": [
       "  id   gen  job           resid\n",
       "1 1003 여자 의료          서울 \n",
       "2 1006 남자 자영업        대전 \n",
       "3 1014 남자 자영업        경상 \n",
       "4 1025 여자 대학/대학원생 부산 \n",
       "5 1027 남자 전산직        경기 \n",
       "6 1039 남자 사무관리직    경기 "
      ]
     },
     "metadata": {},
     "output_type": "display_data"
    },
    {
     "data": {
      "text/html": [
       "<table>\n",
       "<thead><tr><th scope=col>id</th><th scope=col>time</th><th scope=col>st</th><th scope=col>st_c</th><th scope=col>st_t</th><th scope=col>cate</th></tr></thead>\n",
       "<tbody>\n",
       "\t<tr><td>1003             </td><td>2012072311       </td><td>up.cafe.naver.com</td><td> 1               </td><td>  0              </td><td>커뮤니티         </td></tr>\n",
       "\t<tr><td>1003             </td><td>2012080211       </td><td>blog.naver.com   </td><td>11               </td><td> 26              </td><td>커뮤니티         </td></tr>\n",
       "\t<tr><td>1003             </td><td>2012080712       </td><td>cafe.naver.com   </td><td> 1               </td><td> 60              </td><td>커뮤니티         </td></tr>\n",
       "\t<tr><td>1003             </td><td>2012081011       </td><td>blog.naver.com   </td><td>59               </td><td>346              </td><td>커뮤니티         </td></tr>\n",
       "\t<tr><td>1003             </td><td>2012082713       </td><td>blog.daum.net    </td><td>10               </td><td>532              </td><td>커뮤니티         </td></tr>\n",
       "\t<tr><td>1003             </td><td>2012090711       </td><td>blog.naver.com   </td><td>39               </td><td> 93              </td><td>커뮤니티         </td></tr>\n",
       "</tbody>\n",
       "</table>\n"
      ],
      "text/latex": [
       "\\begin{tabular}{r|llllll}\n",
       " id & time & st & st\\_c & st\\_t & cate\\\\\n",
       "\\hline\n",
       "\t 1003              & 2012072311        & up.cafe.naver.com &  1                &   0               & 커뮤니티         \\\\\n",
       "\t 1003              & 2012080211        & blog.naver.com    & 11                &  26               & 커뮤니티         \\\\\n",
       "\t 1003              & 2012080712        & cafe.naver.com    &  1                &  60               & 커뮤니티         \\\\\n",
       "\t 1003              & 2012081011        & blog.naver.com    & 59                & 346               & 커뮤니티         \\\\\n",
       "\t 1003              & 2012082713        & blog.daum.net     & 10                & 532               & 커뮤니티         \\\\\n",
       "\t 1003              & 2012090711        & blog.naver.com    & 39                &  93               & 커뮤니티         \\\\\n",
       "\\end{tabular}\n"
      ],
      "text/markdown": [
       "\n",
       "id | time | st | st_c | st_t | cate | \n",
       "|---|---|---|---|---|---|\n",
       "| 1003              | 2012072311        | up.cafe.naver.com |  1                |   0               | 커뮤니티          | \n",
       "| 1003              | 2012080211        | blog.naver.com    | 11                |  26               | 커뮤니티          | \n",
       "| 1003              | 2012080712        | cafe.naver.com    |  1                |  60               | 커뮤니티          | \n",
       "| 1003              | 2012081011        | blog.naver.com    | 59                | 346               | 커뮤니티          | \n",
       "| 1003              | 2012082713        | blog.daum.net     | 10                | 532               | 커뮤니티          | \n",
       "| 1003              | 2012090711        | blog.naver.com    | 39                |  93               | 커뮤니티          | \n",
       "\n",
       "\n"
      ],
      "text/plain": [
       "  id   time       st                st_c st_t cate    \n",
       "1 1003 2012072311 up.cafe.naver.com  1     0  커뮤니티\n",
       "2 1003 2012080211 blog.naver.com    11    26  커뮤니티\n",
       "3 1003 2012080712 cafe.naver.com     1    60  커뮤니티\n",
       "4 1003 2012081011 blog.naver.com    59   346  커뮤니티\n",
       "5 1003 2012082713 blog.daum.net     10   532  커뮤니티\n",
       "6 1003 2012090711 blog.naver.com    39    93  커뮤니티"
      ]
     },
     "metadata": {},
     "output_type": "display_data"
    },
    {
     "name": "stdout",
     "output_type": "stream",
     "text": [
      "'data.frame':\t1393986 obs. of  6 variables:\n",
      " $ id  : chr  \"1003\" \"1003\" \"1003\" \"1003\" ...\n",
      " $ time: int  2012072311 2012080211 2012080712 2012081011 2012082713 2012090711 2012091710 2012110615 2012110617 2012111012 ...\n",
      " $ st  : chr  \"up.cafe.naver.com\" \"blog.naver.com\" \"cafe.naver.com\" \"blog.naver.com\" ...\n",
      " $ st_c: int  1 11 1 59 10 39 8 1 1 7 ...\n",
      " $ st_t: int  0 26 60 346 532 93 12 53 60 805 ...\n",
      " $ cate: chr  \"커뮤니티\" \"커뮤니티\" \"커뮤니티\" \"커뮤니티\" ...\n"
     ]
    }
   ],
   "source": [
    "#### load data\n",
    "pro.train <- fread('data/profiles_train.csv')\n",
    "pro.train <- as.data.frame(pro.train)\n",
    "pro.train$gen <- as.factor(pro.train$gen)\n",
    "click.train <- fread('data/click_train.csv')\n",
    "click.train <- as.data.frame(click.train)\n",
    "pro.test <- fread('data/profiles_test.csv')\n",
    "pro.test <- as.data.frame(pro.test)\n",
    "click.test <- fread('data/click_test.csv')\n",
    "click.test <- as.data.frame(click.test)\n",
    "pro.train %>% head\n",
    "click.train %>% head\n",
    "str(click.train)"
   ]
  },
  {
   "cell_type": "code",
   "execution_count": 55,
   "metadata": {},
   "outputs": [],
   "source": [
    "click.train$time = as.character(click.train$time)\n",
    "click.train$time = strtrim(click.train$time,8)\n",
    "click.train$time = as.numeric(click.train$time)\n",
    "click.test$time = as.character(click.test$time)\n",
    "click.test$time = strtrim(click.test$time,8)\n",
    "click.test$time = as.numeric(click.test$time)"
   ]
  },
  {
   "cell_type": "code",
   "execution_count": 69,
   "metadata": {},
   "outputs": [],
   "source": [
    "d <- click.train %>% group_by(id) %>% summarise(Day = length(unique(time)))\n",
    "a <- click.train %>% group_by(id) %>% summarise(ST_T = sum(st_t)) # 총 체류시간\n",
    "b <- click.train %>% group_by(id) %>% summarise(ST_C = sum(st_c)) # 총 페이지본 횟수\n",
    "c <- click.train %>% group_by(id) %>% summarise(CATE = length(unique(cate)))\n"
   ]
  },
  {
   "cell_type": "code",
   "execution_count": 68,
   "metadata": {},
   "outputs": [
    {
     "name": "stdout",
     "output_type": "stream",
     "text": [
      "'data.frame':\t1393986 obs. of  6 variables:\n",
      " $ id  : chr  \"1003\" \"1003\" \"1003\" \"1003\" ...\n",
      " $ time: num  20120723 20120802 20120807 20120810 20120827 ...\n",
      " $ st  : chr  \"up.cafe.naver.com\" \"blog.naver.com\" \"cafe.naver.com\" \"blog.naver.com\" ...\n",
      " $ st_c: int  1 11 1 59 10 39 8 1 1 7 ...\n",
      " $ st_t: int  0 26 60 346 532 93 12 53 60 805 ...\n",
      " $ cate: chr  \"커뮤니티\" \"커뮤니티\" \"커뮤니티\" \"커뮤니티\" ...\n"
     ]
    }
   ],
   "source": []
  },
  {
   "cell_type": "code",
   "execution_count": 70,
   "metadata": {},
   "outputs": [
    {
     "name": "stderr",
     "output_type": "stream",
     "text": [
      "Warning message in rm(\"job\", \"resid\", \"id\"):\n",
      "\"객체 'job'를 찾을 수 없습니다\"Warning message in rm(\"job\", \"resid\", \"id\"):\n",
      "\"객체 'resid'를 찾을 수 없습니다\"Warning message in rm(\"job\", \"resid\", \"id\"):\n",
      "\"객체 'id'를 찾을 수 없습니다\""
     ]
    }
   ],
   "source": [
    "pro.train$st_t = as.numeric(a$ST_T)\n",
    "pro.train$st_c = as.numeric(b$ST_C)\n",
    "pro.train$cov = as.numeric(c$CATE/22)\n",
    "pro.train$day = as.numeric(d$Day)\n",
    "pro.train = within(pro.train, rm(\"job\",\"resid\", \"id\"))"
   ]
  },
  {
   "cell_type": "code",
   "execution_count": 71,
   "metadata": {},
   "outputs": [
    {
     "name": "stdout",
     "output_type": "stream",
     "text": [
      "'data.frame':\t402 obs. of  5 variables:\n",
      " $ gen : Factor w/ 2 levels \"남자\",\"여자\": 2 1 1 2 1 1 2 1 1 1 ...\n",
      " $ st_t: num  885021 138740 337567 426651 354698 ...\n",
      " $ st_c: num  34024 10651 9288 28349 12539 ...\n",
      " $ cov : num  0.773 0.818 0.864 0.864 0.818 ...\n",
      " $ day : num  129 129 185 107 194 223 130 166 150 126 ...\n"
     ]
    }
   ],
   "source": [
    "pro.train %>% str()"
   ]
  },
  {
   "cell_type": "code",
   "execution_count": 72,
   "metadata": {},
   "outputs": [
    {
     "name": "stderr",
     "output_type": "stream",
     "text": [
      "Warning message in rm(\"job\", \"resid\", \"id\"):\n",
      "\"객체 'job'를 찾을 수 없습니다\"Warning message in rm(\"job\", \"resid\", \"id\"):\n",
      "\"객체 'resid'를 찾을 수 없습니다\"Warning message in rm(\"job\", \"resid\", \"id\"):\n",
      "\"객체 'id'를 찾을 수 없습니다\""
     ]
    },
    {
     "name": "stdout",
     "output_type": "stream",
     "text": [
      "'data.frame':\t99 obs. of  4 variables:\n",
      " $ st_t: num  230324 161998 137625 474261 730673 ...\n",
      " $ st_c: num  10102 8368 6750 16146 29484 ...\n",
      " $ cov : num  0.818 0.591 0.682 0.909 0.909 ...\n",
      " $ day : num  113 147 197 111 123 117 108 113 213 113 ...\n"
     ]
    }
   ],
   "source": [
    "d <- click.test %>% group_by(id) %>% summarise(Day = length(unique(time)))\n",
    "a <- click.test %>% group_by(id) %>% summarise(ST_T = sum(st_t)) # 총 체류시간\n",
    "b <- click.test %>% group_by(id) %>% summarise(ST_C = sum(st_c)) # 총 페이지본 횟수\n",
    "c <- click.test %>% group_by(id) %>% summarise(CATE = length(unique(cate)))\n",
    "# pro.test$gen = as.numeric(pro.test$gen)-1\n",
    "pro.test$st_t = as.numeric(a$ST_T)\n",
    "pro.test$st_c = as.numeric(b$ST_C)\n",
    "pro.test$cov = as.numeric(c$CATE/22)\n",
    "pro.test$day = as.numeric(d$Day)\n",
    "pro.test = within(pro.test, rm(\"job\",\"resid\", \"id\"))\n",
    "pro.test %>% str()"
   ]
  },
  {
   "cell_type": "code",
   "execution_count": 73,
   "metadata": {},
   "outputs": [],
   "source": [
    "## min-max 스케일링\n",
    "normalize <- function(x){\n",
    "  return( (x-min(x))/(max(x)-min(x)) )\n",
    "}"
   ]
  },
  {
   "cell_type": "code",
   "execution_count": 74,
   "metadata": {},
   "outputs": [],
   "source": [
    "pro.train.normal <- as.data.frame(lapply(pro.train[-1], normalize))\n",
    "pro.test.normal <- as.data.frame(lapply(pro.test[-3], normalize))\n"
   ]
  },
  {
   "cell_type": "code",
   "execution_count": 75,
   "metadata": {},
   "outputs": [],
   "source": [
    "pro.train.normal$gen = pro.train$gen\n",
    "pro.train.normal$cov = pro.train$cov\n",
    "pro.test.normal$cov = pro.test$cov"
   ]
  },
  {
   "cell_type": "code",
   "execution_count": 76,
   "metadata": {},
   "outputs": [
    {
     "name": "stdout",
     "output_type": "stream",
     "text": [
      "'data.frame':\t402 obs. of  5 variables:\n",
      " $ st_t: num  0.2044 0.0302 0.0766 0.0974 0.0806 ...\n",
      " $ st_c: num  0.412 0.122 0.105 0.342 0.145 ...\n",
      " $ cov : num  0.773 0.818 0.864 0.864 0.818 ...\n",
      " $ day : num  0.195 0.195 0.414 0.109 0.449 ...\n",
      " $ gen : Factor w/ 2 levels \"남자\",\"여자\": 2 1 1 2 1 1 2 1 1 1 ...\n"
     ]
    }
   ],
   "source": [
    "str(pro.train.normal)"
   ]
  },
  {
   "cell_type": "code",
   "execution_count": 77,
   "metadata": {},
   "outputs": [
    {
     "data": {
      "text/html": [
       "<table>\n",
       "<thead><tr><th scope=col>st_t</th><th scope=col>st_c</th><th scope=col>cov</th><th scope=col>day</th><th scope=col>gen</th></tr></thead>\n",
       "<tbody>\n",
       "\t<tr><td>0.20435473</td><td>0.4120312 </td><td>0.7727273 </td><td>0.1953125 </td><td>여자      </td></tr>\n",
       "\t<tr><td>0.03024735</td><td>0.1219500 </td><td>0.8181818 </td><td>0.1953125 </td><td>남자      </td></tr>\n",
       "\t<tr><td>0.07663370</td><td>0.1050339 </td><td>0.8636364 </td><td>0.4140625 </td><td>남자      </td></tr>\n",
       "\t<tr><td>0.09741700</td><td>0.3415990 </td><td>0.8636364 </td><td>0.1093750 </td><td>여자      </td></tr>\n",
       "\t<tr><td>0.08063036</td><td>0.1453819 </td><td>0.8181818 </td><td>0.4492188 </td><td>남자      </td></tr>\n",
       "\t<tr><td>0.28894979</td><td>0.4882344 </td><td>1.0000000 </td><td>0.5625000 </td><td>남자      </td></tr>\n",
       "</tbody>\n",
       "</table>\n"
      ],
      "text/latex": [
       "\\begin{tabular}{r|lllll}\n",
       " st\\_t & st\\_c & cov & day & gen\\\\\n",
       "\\hline\n",
       "\t 0.20435473 & 0.4120312  & 0.7727273  & 0.1953125  & 여자      \\\\\n",
       "\t 0.03024735 & 0.1219500  & 0.8181818  & 0.1953125  & 남자      \\\\\n",
       "\t 0.07663370 & 0.1050339  & 0.8636364  & 0.4140625  & 남자      \\\\\n",
       "\t 0.09741700 & 0.3415990  & 0.8636364  & 0.1093750  & 여자      \\\\\n",
       "\t 0.08063036 & 0.1453819  & 0.8181818  & 0.4492188  & 남자      \\\\\n",
       "\t 0.28894979 & 0.4882344  & 1.0000000  & 0.5625000  & 남자      \\\\\n",
       "\\end{tabular}\n"
      ],
      "text/markdown": [
       "\n",
       "st_t | st_c | cov | day | gen | \n",
       "|---|---|---|---|---|---|\n",
       "| 0.20435473 | 0.4120312  | 0.7727273  | 0.1953125  | 여자       | \n",
       "| 0.03024735 | 0.1219500  | 0.8181818  | 0.1953125  | 남자       | \n",
       "| 0.07663370 | 0.1050339  | 0.8636364  | 0.4140625  | 남자       | \n",
       "| 0.09741700 | 0.3415990  | 0.8636364  | 0.1093750  | 여자       | \n",
       "| 0.08063036 | 0.1453819  | 0.8181818  | 0.4492188  | 남자       | \n",
       "| 0.28894979 | 0.4882344  | 1.0000000  | 0.5625000  | 남자       | \n",
       "\n",
       "\n"
      ],
      "text/plain": [
       "  st_t       st_c      cov       day       gen \n",
       "1 0.20435473 0.4120312 0.7727273 0.1953125 여자\n",
       "2 0.03024735 0.1219500 0.8181818 0.1953125 남자\n",
       "3 0.07663370 0.1050339 0.8636364 0.4140625 남자\n",
       "4 0.09741700 0.3415990 0.8636364 0.1093750 여자\n",
       "5 0.08063036 0.1453819 0.8181818 0.4492188 남자\n",
       "6 0.28894979 0.4882344 1.0000000 0.5625000 남자"
      ]
     },
     "metadata": {},
     "output_type": "display_data"
    },
    {
     "data": {
      "text/html": [
       "<table>\n",
       "<thead><tr><th scope=col>st_t</th><th scope=col>st_c</th><th scope=col>day</th><th scope=col>cov</th></tr></thead>\n",
       "<tbody>\n",
       "\t<tr><td>0.08878565</td><td>0.11385648</td><td>0.07608696</td><td>0.8181818 </td></tr>\n",
       "\t<tr><td>0.05415057</td><td>0.08897594</td><td>0.26086957</td><td>0.5909091 </td></tr>\n",
       "\t<tr><td>0.04179568</td><td>0.06575983</td><td>0.53260870</td><td>0.6818182 </td></tr>\n",
       "\t<tr><td>0.21243955</td><td>0.20057969</td><td>0.06521739</td><td>0.9090909 </td></tr>\n",
       "\t<tr><td>0.34241715</td><td>0.39196189</td><td>0.13043478</td><td>0.9090909 </td></tr>\n",
       "\t<tr><td>0.07811622</td><td>0.28124776</td><td>0.09782609</td><td>0.5909091 </td></tr>\n",
       "</tbody>\n",
       "</table>\n"
      ],
      "text/latex": [
       "\\begin{tabular}{r|llll}\n",
       " st\\_t & st\\_c & day & cov\\\\\n",
       "\\hline\n",
       "\t 0.08878565 & 0.11385648 & 0.07608696 & 0.8181818 \\\\\n",
       "\t 0.05415057 & 0.08897594 & 0.26086957 & 0.5909091 \\\\\n",
       "\t 0.04179568 & 0.06575983 & 0.53260870 & 0.6818182 \\\\\n",
       "\t 0.21243955 & 0.20057969 & 0.06521739 & 0.9090909 \\\\\n",
       "\t 0.34241715 & 0.39196189 & 0.13043478 & 0.9090909 \\\\\n",
       "\t 0.07811622 & 0.28124776 & 0.09782609 & 0.5909091 \\\\\n",
       "\\end{tabular}\n"
      ],
      "text/markdown": [
       "\n",
       "st_t | st_c | day | cov | \n",
       "|---|---|---|---|---|---|\n",
       "| 0.08878565 | 0.11385648 | 0.07608696 | 0.8181818  | \n",
       "| 0.05415057 | 0.08897594 | 0.26086957 | 0.5909091  | \n",
       "| 0.04179568 | 0.06575983 | 0.53260870 | 0.6818182  | \n",
       "| 0.21243955 | 0.20057969 | 0.06521739 | 0.9090909  | \n",
       "| 0.34241715 | 0.39196189 | 0.13043478 | 0.9090909  | \n",
       "| 0.07811622 | 0.28124776 | 0.09782609 | 0.5909091  | \n",
       "\n",
       "\n"
      ],
      "text/plain": [
       "  st_t       st_c       day        cov      \n",
       "1 0.08878565 0.11385648 0.07608696 0.8181818\n",
       "2 0.05415057 0.08897594 0.26086957 0.5909091\n",
       "3 0.04179568 0.06575983 0.53260870 0.6818182\n",
       "4 0.21243955 0.20057969 0.06521739 0.9090909\n",
       "5 0.34241715 0.39196189 0.13043478 0.9090909\n",
       "6 0.07811622 0.28124776 0.09782609 0.5909091"
      ]
     },
     "metadata": {},
     "output_type": "display_data"
    }
   ],
   "source": [
    "pro.train.normal %>% head\n",
    "pro.test.normal %>% head"
   ]
  },
  {
   "cell_type": "code",
   "execution_count": 81,
   "metadata": {},
   "outputs": [],
   "source": [
    "set.seed(1)\n",
    "# createDataPartition\n",
    "# caret패키지 안에 있는 데이터 파티션, 층화추출\n",
    "idx <- createDataPartition(y = pro.train.normal$gen, p = 0.7, list =FALSE)\n",
    "train1 <- pro.train.normal[idx,]\n",
    "test1 <- pro.train.normal[-idx,]"
   ]
  },
  {
   "cell_type": "code",
   "execution_count": 84,
   "metadata": {},
   "outputs": [
    {
     "data": {
      "text/html": [
       "<table>\n",
       "<thead><tr><th></th><th scope=col>st_t</th><th scope=col>st_c</th><th scope=col>cov</th><th scope=col>day</th><th scope=col>gen</th></tr></thead>\n",
       "<tbody>\n",
       "\t<tr><th scope=row>3</th><td>0.07663370</td><td>0.10503388</td><td>0.8636364 </td><td>0.41406250</td><td>남자      </td></tr>\n",
       "\t<tr><th scope=row>4</th><td>0.09741700</td><td>0.34159903</td><td>0.8636364 </td><td>0.10937500</td><td>여자      </td></tr>\n",
       "\t<tr><th scope=row>6</th><td>0.28894979</td><td>0.48823442</td><td>1.0000000 </td><td>0.56250000</td><td>남자      </td></tr>\n",
       "\t<tr><th scope=row>8</th><td>0.19578749</td><td>0.39882592</td><td>0.9545455 </td><td>0.33984375</td><td>남자      </td></tr>\n",
       "\t<tr><th scope=row>9</th><td>0.02459052</td><td>0.03978951</td><td>0.6818182 </td><td>0.27734375</td><td>남자      </td></tr>\n",
       "\t<tr><th scope=row>11</th><td>0.04665721</td><td>0.15020975</td><td>0.8636364 </td><td>0.16406250</td><td>남자      </td></tr>\n",
       "\t<tr><th scope=row>13</th><td>0.07150716</td><td>0.14967607</td><td>0.8181818 </td><td>0.09375000</td><td>여자      </td></tr>\n",
       "\t<tr><th scope=row>14</th><td>0.16943392</td><td>0.44108521</td><td>0.8181818 </td><td>0.22265625</td><td>여자      </td></tr>\n",
       "\t<tr><th scope=row>15</th><td>0.19990547</td><td>0.51202621</td><td>0.8636364 </td><td>0.15234375</td><td>여자      </td></tr>\n",
       "\t<tr><th scope=row>16</th><td>0.11019134</td><td>0.22039368</td><td>0.8181818 </td><td>0.10156250</td><td>남자      </td></tr>\n",
       "\t<tr><th scope=row>18</th><td>0.17859048</td><td>0.27498945</td><td>0.9545455 </td><td>0.44140625</td><td>남자      </td></tr>\n",
       "\t<tr><th scope=row>22</th><td>0.15503300</td><td>0.35765880</td><td>0.8181818 </td><td>0.29296875</td><td>여자      </td></tr>\n",
       "\t<tr><th scope=row>23</th><td>0.08342669</td><td>0.13068732</td><td>0.5909091 </td><td>0.57031250</td><td>남자      </td></tr>\n",
       "\t<tr><th scope=row>24</th><td>0.06305283</td><td>0.14720629</td><td>0.8181818 </td><td>0.31640625</td><td>남자      </td></tr>\n",
       "\t<tr><th scope=row>27</th><td>0.06752450</td><td>0.09658202</td><td>0.8636364 </td><td>0.43359375</td><td>남자      </td></tr>\n",
       "\t<tr><th scope=row>28</th><td>0.07040155</td><td>0.15447911</td><td>0.8636364 </td><td>0.14453125</td><td>여자      </td></tr>\n",
       "\t<tr><th scope=row>29</th><td>0.16436291</td><td>0.34667511</td><td>0.9545455 </td><td>0.14062500</td><td>남자      </td></tr>\n",
       "\t<tr><th scope=row>30</th><td>0.09971453</td><td>0.30318713</td><td>0.8181818 </td><td>0.13671875</td><td>남자      </td></tr>\n",
       "\t<tr><th scope=row>32</th><td>0.17736168</td><td>0.33390424</td><td>0.8636364 </td><td>0.09765625</td><td>여자      </td></tr>\n",
       "\t<tr><th scope=row>33</th><td>0.07129812</td><td>0.18483630</td><td>0.9090909 </td><td>0.08593750</td><td>남자      </td></tr>\n",
       "\t<tr><th scope=row>34</th><td>0.06108635</td><td>0.06565393</td><td>0.7727273 </td><td>0.13671875</td><td>남자      </td></tr>\n",
       "\t<tr><th scope=row>36</th><td>0.11108768</td><td>0.33178196</td><td>0.6818182 </td><td>0.25000000</td><td>여자      </td></tr>\n",
       "\t<tr><th scope=row>38</th><td>0.02006170</td><td>0.02813563</td><td>0.6818182 </td><td>0.34765625</td><td>남자      </td></tr>\n",
       "\t<tr><th scope=row>39</th><td>0.01377730</td><td>0.04407129</td><td>0.6363636 </td><td>0.13281250</td><td>남자      </td></tr>\n",
       "\t<tr><th scope=row>40</th><td>0.07570819</td><td>0.17201579</td><td>0.8636364 </td><td>0.17968750</td><td>여자      </td></tr>\n",
       "\t<tr><th scope=row>41</th><td>0.14618650</td><td>0.48511927</td><td>0.9090909 </td><td>0.19140625</td><td>여자      </td></tr>\n",
       "\t<tr><th scope=row>42</th><td>0.05462930</td><td>0.12713779</td><td>0.8636364 </td><td>0.27734375</td><td>남자      </td></tr>\n",
       "\t<tr><th scope=row>43</th><td>0.06707796</td><td>0.15910840</td><td>0.7727273 </td><td>0.15625000</td><td>여자      </td></tr>\n",
       "\t<tr><th scope=row>44</th><td>0.13079640</td><td>0.19953087</td><td>0.8636364 </td><td>0.45703125</td><td>남자      </td></tr>\n",
       "\t<tr><th scope=row>45</th><td>0.05315088</td><td>0.11214536</td><td>0.8636364 </td><td>0.12890625</td><td>여자      </td></tr>\n",
       "\t<tr><th scope=row>...</th><td>...</td><td>...</td><td>...</td><td>...</td><td>...</td></tr>\n",
       "\t<tr><th scope=row>360</th><td>0.12164800</td><td>0.31574702</td><td>1.0000000 </td><td>0.16796875</td><td>남자      </td></tr>\n",
       "\t<tr><th scope=row>361</th><td>0.07164551</td><td>0.14675950</td><td>0.9090909 </td><td>0.41406250</td><td>남자      </td></tr>\n",
       "\t<tr><th scope=row>362</th><td>0.23363085</td><td>0.49939186</td><td>0.9090909 </td><td>0.32812500</td><td>남자      </td></tr>\n",
       "\t<tr><th scope=row>363</th><td>0.06692165</td><td>0.10073969</td><td>0.8181818 </td><td>0.10156250</td><td>남자      </td></tr>\n",
       "\t<tr><th scope=row>364</th><td>0.05103578</td><td>0.16141683</td><td>0.8181818 </td><td>0.09765625</td><td>남자      </td></tr>\n",
       "\t<tr><th scope=row>365</th><td>0.08583318</td><td>0.14283764</td><td>0.7272727 </td><td>0.13671875</td><td>남자      </td></tr>\n",
       "\t<tr><th scope=row>366</th><td>0.06570289</td><td>0.11990220</td><td>0.8636364 </td><td>0.18750000</td><td>여자      </td></tr>\n",
       "\t<tr><th scope=row>367</th><td>0.07093534</td><td>0.18390548</td><td>0.8181818 </td><td>0.16406250</td><td>남자      </td></tr>\n",
       "\t<tr><th scope=row>368</th><td>0.06423800</td><td>0.17812197</td><td>0.8181818 </td><td>0.48828125</td><td>남자      </td></tr>\n",
       "\t<tr><th scope=row>369</th><td>0.09566701</td><td>0.24236106</td><td>0.9090909 </td><td>0.26171875</td><td>남자      </td></tr>\n",
       "\t<tr><th scope=row>370</th><td>0.07499173</td><td>0.14211780</td><td>0.7727273 </td><td>0.37890625</td><td>남자      </td></tr>\n",
       "\t<tr><th scope=row>372</th><td>0.02115985</td><td>0.05123241</td><td>0.8181818 </td><td>0.11328125</td><td>여자      </td></tr>\n",
       "\t<tr><th scope=row>373</th><td>0.24060302</td><td>0.49440266</td><td>0.6818182 </td><td>0.35156250</td><td>남자      </td></tr>\n",
       "\t<tr><th scope=row>376</th><td>0.06111574</td><td>0.09407501</td><td>0.7727273 </td><td>0.14453125</td><td>남자      </td></tr>\n",
       "\t<tr><th scope=row>379</th><td>0.08213094</td><td>0.20041204</td><td>0.9090909 </td><td>0.11718750</td><td>여자      </td></tr>\n",
       "\t<tr><th scope=row>381</th><td>0.09585015</td><td>0.17699258</td><td>0.9545455 </td><td>0.10156250</td><td>남자      </td></tr>\n",
       "\t<tr><th scope=row>384</th><td>0.11855165</td><td>0.29437536</td><td>0.8181818 </td><td>0.10156250</td><td>남자      </td></tr>\n",
       "\t<tr><th scope=row>385</th><td>0.08881569</td><td>0.18088962</td><td>0.8181818 </td><td>0.25000000</td><td>남자      </td></tr>\n",
       "\t<tr><th scope=row>387</th><td>0.14212148</td><td>0.29099958</td><td>0.9545455 </td><td>0.30859375</td><td>남자      </td></tr>\n",
       "\t<tr><th scope=row>388</th><td>0.06019794</td><td>0.09612282</td><td>0.8636364 </td><td>0.17968750</td><td>남자      </td></tr>\n",
       "\t<tr><th scope=row>390</th><td>0.36231612</td><td>0.51856678</td><td>0.9545455 </td><td>0.11718750</td><td>여자      </td></tr>\n",
       "\t<tr><th scope=row>391</th><td>0.01140347</td><td>0.02919056</td><td>0.7272727 </td><td>0.00000000</td><td>여자      </td></tr>\n",
       "\t<tr><th scope=row>392</th><td>0.14244250</td><td>0.17251222</td><td>0.9090909 </td><td>0.23828125</td><td>여자      </td></tr>\n",
       "\t<tr><th scope=row>393</th><td>0.09548924</td><td>0.32548961</td><td>0.9545455 </td><td>0.23437500</td><td>남자      </td></tr>\n",
       "\t<tr><th scope=row>395</th><td>0.01859121</td><td>0.03403083</td><td>0.7727273 </td><td>0.10937500</td><td>여자      </td></tr>\n",
       "\t<tr><th scope=row>396</th><td>0.04853621</td><td>0.10737955</td><td>0.6818182 </td><td>0.21875000</td><td>남자      </td></tr>\n",
       "\t<tr><th scope=row>397</th><td>0.18730283</td><td>0.31955718</td><td>0.8636364 </td><td>0.10546875</td><td>여자      </td></tr>\n",
       "\t<tr><th scope=row>398</th><td>0.05172798</td><td>0.09187827</td><td>0.7727273 </td><td>0.14843750</td><td>남자      </td></tr>\n",
       "\t<tr><th scope=row>399</th><td>0.02136538</td><td>0.05684216</td><td>0.8181818 </td><td>0.34765625</td><td>여자      </td></tr>\n",
       "\t<tr><th scope=row>402</th><td>0.08369872</td><td>0.15047038</td><td>0.8181818 </td><td>0.10546875</td><td>여자      </td></tr>\n",
       "</tbody>\n",
       "</table>\n"
      ],
      "text/latex": [
       "\\begin{tabular}{r|lllll}\n",
       "  & st\\_t & st\\_c & cov & day & gen\\\\\n",
       "\\hline\n",
       "\t3 & 0.07663370 & 0.10503388 & 0.8636364  & 0.41406250 & 남자      \\\\\n",
       "\t4 & 0.09741700 & 0.34159903 & 0.8636364  & 0.10937500 & 여자      \\\\\n",
       "\t6 & 0.28894979 & 0.48823442 & 1.0000000  & 0.56250000 & 남자      \\\\\n",
       "\t8 & 0.19578749 & 0.39882592 & 0.9545455  & 0.33984375 & 남자      \\\\\n",
       "\t9 & 0.02459052 & 0.03978951 & 0.6818182  & 0.27734375 & 남자      \\\\\n",
       "\t11 & 0.04665721 & 0.15020975 & 0.8636364  & 0.16406250 & 남자      \\\\\n",
       "\t13 & 0.07150716 & 0.14967607 & 0.8181818  & 0.09375000 & 여자      \\\\\n",
       "\t14 & 0.16943392 & 0.44108521 & 0.8181818  & 0.22265625 & 여자      \\\\\n",
       "\t15 & 0.19990547 & 0.51202621 & 0.8636364  & 0.15234375 & 여자      \\\\\n",
       "\t16 & 0.11019134 & 0.22039368 & 0.8181818  & 0.10156250 & 남자      \\\\\n",
       "\t18 & 0.17859048 & 0.27498945 & 0.9545455  & 0.44140625 & 남자      \\\\\n",
       "\t22 & 0.15503300 & 0.35765880 & 0.8181818  & 0.29296875 & 여자      \\\\\n",
       "\t23 & 0.08342669 & 0.13068732 & 0.5909091  & 0.57031250 & 남자      \\\\\n",
       "\t24 & 0.06305283 & 0.14720629 & 0.8181818  & 0.31640625 & 남자      \\\\\n",
       "\t27 & 0.06752450 & 0.09658202 & 0.8636364  & 0.43359375 & 남자      \\\\\n",
       "\t28 & 0.07040155 & 0.15447911 & 0.8636364  & 0.14453125 & 여자      \\\\\n",
       "\t29 & 0.16436291 & 0.34667511 & 0.9545455  & 0.14062500 & 남자      \\\\\n",
       "\t30 & 0.09971453 & 0.30318713 & 0.8181818  & 0.13671875 & 남자      \\\\\n",
       "\t32 & 0.17736168 & 0.33390424 & 0.8636364  & 0.09765625 & 여자      \\\\\n",
       "\t33 & 0.07129812 & 0.18483630 & 0.9090909  & 0.08593750 & 남자      \\\\\n",
       "\t34 & 0.06108635 & 0.06565393 & 0.7727273  & 0.13671875 & 남자      \\\\\n",
       "\t36 & 0.11108768 & 0.33178196 & 0.6818182  & 0.25000000 & 여자      \\\\\n",
       "\t38 & 0.02006170 & 0.02813563 & 0.6818182  & 0.34765625 & 남자      \\\\\n",
       "\t39 & 0.01377730 & 0.04407129 & 0.6363636  & 0.13281250 & 남자      \\\\\n",
       "\t40 & 0.07570819 & 0.17201579 & 0.8636364  & 0.17968750 & 여자      \\\\\n",
       "\t41 & 0.14618650 & 0.48511927 & 0.9090909  & 0.19140625 & 여자      \\\\\n",
       "\t42 & 0.05462930 & 0.12713779 & 0.8636364  & 0.27734375 & 남자      \\\\\n",
       "\t43 & 0.06707796 & 0.15910840 & 0.7727273  & 0.15625000 & 여자      \\\\\n",
       "\t44 & 0.13079640 & 0.19953087 & 0.8636364  & 0.45703125 & 남자      \\\\\n",
       "\t45 & 0.05315088 & 0.11214536 & 0.8636364  & 0.12890625 & 여자      \\\\\n",
       "\t... & ... & ... & ... & ... & ...\\\\\n",
       "\t360 & 0.12164800 & 0.31574702 & 1.0000000  & 0.16796875 & 남자      \\\\\n",
       "\t361 & 0.07164551 & 0.14675950 & 0.9090909  & 0.41406250 & 남자      \\\\\n",
       "\t362 & 0.23363085 & 0.49939186 & 0.9090909  & 0.32812500 & 남자      \\\\\n",
       "\t363 & 0.06692165 & 0.10073969 & 0.8181818  & 0.10156250 & 남자      \\\\\n",
       "\t364 & 0.05103578 & 0.16141683 & 0.8181818  & 0.09765625 & 남자      \\\\\n",
       "\t365 & 0.08583318 & 0.14283764 & 0.7272727  & 0.13671875 & 남자      \\\\\n",
       "\t366 & 0.06570289 & 0.11990220 & 0.8636364  & 0.18750000 & 여자      \\\\\n",
       "\t367 & 0.07093534 & 0.18390548 & 0.8181818  & 0.16406250 & 남자      \\\\\n",
       "\t368 & 0.06423800 & 0.17812197 & 0.8181818  & 0.48828125 & 남자      \\\\\n",
       "\t369 & 0.09566701 & 0.24236106 & 0.9090909  & 0.26171875 & 남자      \\\\\n",
       "\t370 & 0.07499173 & 0.14211780 & 0.7727273  & 0.37890625 & 남자      \\\\\n",
       "\t372 & 0.02115985 & 0.05123241 & 0.8181818  & 0.11328125 & 여자      \\\\\n",
       "\t373 & 0.24060302 & 0.49440266 & 0.6818182  & 0.35156250 & 남자      \\\\\n",
       "\t376 & 0.06111574 & 0.09407501 & 0.7727273  & 0.14453125 & 남자      \\\\\n",
       "\t379 & 0.08213094 & 0.20041204 & 0.9090909  & 0.11718750 & 여자      \\\\\n",
       "\t381 & 0.09585015 & 0.17699258 & 0.9545455  & 0.10156250 & 남자      \\\\\n",
       "\t384 & 0.11855165 & 0.29437536 & 0.8181818  & 0.10156250 & 남자      \\\\\n",
       "\t385 & 0.08881569 & 0.18088962 & 0.8181818  & 0.25000000 & 남자      \\\\\n",
       "\t387 & 0.14212148 & 0.29099958 & 0.9545455  & 0.30859375 & 남자      \\\\\n",
       "\t388 & 0.06019794 & 0.09612282 & 0.8636364  & 0.17968750 & 남자      \\\\\n",
       "\t390 & 0.36231612 & 0.51856678 & 0.9545455  & 0.11718750 & 여자      \\\\\n",
       "\t391 & 0.01140347 & 0.02919056 & 0.7272727  & 0.00000000 & 여자      \\\\\n",
       "\t392 & 0.14244250 & 0.17251222 & 0.9090909  & 0.23828125 & 여자      \\\\\n",
       "\t393 & 0.09548924 & 0.32548961 & 0.9545455  & 0.23437500 & 남자      \\\\\n",
       "\t395 & 0.01859121 & 0.03403083 & 0.7727273  & 0.10937500 & 여자      \\\\\n",
       "\t396 & 0.04853621 & 0.10737955 & 0.6818182  & 0.21875000 & 남자      \\\\\n",
       "\t397 & 0.18730283 & 0.31955718 & 0.8636364  & 0.10546875 & 여자      \\\\\n",
       "\t398 & 0.05172798 & 0.09187827 & 0.7727273  & 0.14843750 & 남자      \\\\\n",
       "\t399 & 0.02136538 & 0.05684216 & 0.8181818  & 0.34765625 & 여자      \\\\\n",
       "\t402 & 0.08369872 & 0.15047038 & 0.8181818  & 0.10546875 & 여자      \\\\\n",
       "\\end{tabular}\n"
      ],
      "text/markdown": [
       "\n",
       "| <!--/--> | st_t | st_c | cov | day | gen | \n",
       "|---|---|---|---|---|---|---|---|---|---|---|---|---|---|---|---|---|---|---|---|---|---|---|---|---|---|---|---|---|---|---|---|---|---|---|---|---|---|---|---|---|---|---|---|---|---|---|---|---|---|---|---|---|---|---|---|---|---|---|---|---|\n",
       "| 3 | 0.07663370 | 0.10503388 | 0.8636364  | 0.41406250 | 남자       | \n",
       "| 4 | 0.09741700 | 0.34159903 | 0.8636364  | 0.10937500 | 여자       | \n",
       "| 6 | 0.28894979 | 0.48823442 | 1.0000000  | 0.56250000 | 남자       | \n",
       "| 8 | 0.19578749 | 0.39882592 | 0.9545455  | 0.33984375 | 남자       | \n",
       "| 9 | 0.02459052 | 0.03978951 | 0.6818182  | 0.27734375 | 남자       | \n",
       "| 11 | 0.04665721 | 0.15020975 | 0.8636364  | 0.16406250 | 남자       | \n",
       "| 13 | 0.07150716 | 0.14967607 | 0.8181818  | 0.09375000 | 여자       | \n",
       "| 14 | 0.16943392 | 0.44108521 | 0.8181818  | 0.22265625 | 여자       | \n",
       "| 15 | 0.19990547 | 0.51202621 | 0.8636364  | 0.15234375 | 여자       | \n",
       "| 16 | 0.11019134 | 0.22039368 | 0.8181818  | 0.10156250 | 남자       | \n",
       "| 18 | 0.17859048 | 0.27498945 | 0.9545455  | 0.44140625 | 남자       | \n",
       "| 22 | 0.15503300 | 0.35765880 | 0.8181818  | 0.29296875 | 여자       | \n",
       "| 23 | 0.08342669 | 0.13068732 | 0.5909091  | 0.57031250 | 남자       | \n",
       "| 24 | 0.06305283 | 0.14720629 | 0.8181818  | 0.31640625 | 남자       | \n",
       "| 27 | 0.06752450 | 0.09658202 | 0.8636364  | 0.43359375 | 남자       | \n",
       "| 28 | 0.07040155 | 0.15447911 | 0.8636364  | 0.14453125 | 여자       | \n",
       "| 29 | 0.16436291 | 0.34667511 | 0.9545455  | 0.14062500 | 남자       | \n",
       "| 30 | 0.09971453 | 0.30318713 | 0.8181818  | 0.13671875 | 남자       | \n",
       "| 32 | 0.17736168 | 0.33390424 | 0.8636364  | 0.09765625 | 여자       | \n",
       "| 33 | 0.07129812 | 0.18483630 | 0.9090909  | 0.08593750 | 남자       | \n",
       "| 34 | 0.06108635 | 0.06565393 | 0.7727273  | 0.13671875 | 남자       | \n",
       "| 36 | 0.11108768 | 0.33178196 | 0.6818182  | 0.25000000 | 여자       | \n",
       "| 38 | 0.02006170 | 0.02813563 | 0.6818182  | 0.34765625 | 남자       | \n",
       "| 39 | 0.01377730 | 0.04407129 | 0.6363636  | 0.13281250 | 남자       | \n",
       "| 40 | 0.07570819 | 0.17201579 | 0.8636364  | 0.17968750 | 여자       | \n",
       "| 41 | 0.14618650 | 0.48511927 | 0.9090909  | 0.19140625 | 여자       | \n",
       "| 42 | 0.05462930 | 0.12713779 | 0.8636364  | 0.27734375 | 남자       | \n",
       "| 43 | 0.06707796 | 0.15910840 | 0.7727273  | 0.15625000 | 여자       | \n",
       "| 44 | 0.13079640 | 0.19953087 | 0.8636364  | 0.45703125 | 남자       | \n",
       "| 45 | 0.05315088 | 0.11214536 | 0.8636364  | 0.12890625 | 여자       | \n",
       "| ... | ... | ... | ... | ... | ... | \n",
       "| 360 | 0.12164800 | 0.31574702 | 1.0000000  | 0.16796875 | 남자       | \n",
       "| 361 | 0.07164551 | 0.14675950 | 0.9090909  | 0.41406250 | 남자       | \n",
       "| 362 | 0.23363085 | 0.49939186 | 0.9090909  | 0.32812500 | 남자       | \n",
       "| 363 | 0.06692165 | 0.10073969 | 0.8181818  | 0.10156250 | 남자       | \n",
       "| 364 | 0.05103578 | 0.16141683 | 0.8181818  | 0.09765625 | 남자       | \n",
       "| 365 | 0.08583318 | 0.14283764 | 0.7272727  | 0.13671875 | 남자       | \n",
       "| 366 | 0.06570289 | 0.11990220 | 0.8636364  | 0.18750000 | 여자       | \n",
       "| 367 | 0.07093534 | 0.18390548 | 0.8181818  | 0.16406250 | 남자       | \n",
       "| 368 | 0.06423800 | 0.17812197 | 0.8181818  | 0.48828125 | 남자       | \n",
       "| 369 | 0.09566701 | 0.24236106 | 0.9090909  | 0.26171875 | 남자       | \n",
       "| 370 | 0.07499173 | 0.14211780 | 0.7727273  | 0.37890625 | 남자       | \n",
       "| 372 | 0.02115985 | 0.05123241 | 0.8181818  | 0.11328125 | 여자       | \n",
       "| 373 | 0.24060302 | 0.49440266 | 0.6818182  | 0.35156250 | 남자       | \n",
       "| 376 | 0.06111574 | 0.09407501 | 0.7727273  | 0.14453125 | 남자       | \n",
       "| 379 | 0.08213094 | 0.20041204 | 0.9090909  | 0.11718750 | 여자       | \n",
       "| 381 | 0.09585015 | 0.17699258 | 0.9545455  | 0.10156250 | 남자       | \n",
       "| 384 | 0.11855165 | 0.29437536 | 0.8181818  | 0.10156250 | 남자       | \n",
       "| 385 | 0.08881569 | 0.18088962 | 0.8181818  | 0.25000000 | 남자       | \n",
       "| 387 | 0.14212148 | 0.29099958 | 0.9545455  | 0.30859375 | 남자       | \n",
       "| 388 | 0.06019794 | 0.09612282 | 0.8636364  | 0.17968750 | 남자       | \n",
       "| 390 | 0.36231612 | 0.51856678 | 0.9545455  | 0.11718750 | 여자       | \n",
       "| 391 | 0.01140347 | 0.02919056 | 0.7272727  | 0.00000000 | 여자       | \n",
       "| 392 | 0.14244250 | 0.17251222 | 0.9090909  | 0.23828125 | 여자       | \n",
       "| 393 | 0.09548924 | 0.32548961 | 0.9545455  | 0.23437500 | 남자       | \n",
       "| 395 | 0.01859121 | 0.03403083 | 0.7727273  | 0.10937500 | 여자       | \n",
       "| 396 | 0.04853621 | 0.10737955 | 0.6818182  | 0.21875000 | 남자       | \n",
       "| 397 | 0.18730283 | 0.31955718 | 0.8636364  | 0.10546875 | 여자       | \n",
       "| 398 | 0.05172798 | 0.09187827 | 0.7727273  | 0.14843750 | 남자       | \n",
       "| 399 | 0.02136538 | 0.05684216 | 0.8181818  | 0.34765625 | 여자       | \n",
       "| 402 | 0.08369872 | 0.15047038 | 0.8181818  | 0.10546875 | 여자       | \n",
       "\n",
       "\n"
      ],
      "text/plain": [
       "    st_t       st_c       cov       day        gen \n",
       "3   0.07663370 0.10503388 0.8636364 0.41406250 남자\n",
       "4   0.09741700 0.34159903 0.8636364 0.10937500 여자\n",
       "6   0.28894979 0.48823442 1.0000000 0.56250000 남자\n",
       "8   0.19578749 0.39882592 0.9545455 0.33984375 남자\n",
       "9   0.02459052 0.03978951 0.6818182 0.27734375 남자\n",
       "11  0.04665721 0.15020975 0.8636364 0.16406250 남자\n",
       "13  0.07150716 0.14967607 0.8181818 0.09375000 여자\n",
       "14  0.16943392 0.44108521 0.8181818 0.22265625 여자\n",
       "15  0.19990547 0.51202621 0.8636364 0.15234375 여자\n",
       "16  0.11019134 0.22039368 0.8181818 0.10156250 남자\n",
       "18  0.17859048 0.27498945 0.9545455 0.44140625 남자\n",
       "22  0.15503300 0.35765880 0.8181818 0.29296875 여자\n",
       "23  0.08342669 0.13068732 0.5909091 0.57031250 남자\n",
       "24  0.06305283 0.14720629 0.8181818 0.31640625 남자\n",
       "27  0.06752450 0.09658202 0.8636364 0.43359375 남자\n",
       "28  0.07040155 0.15447911 0.8636364 0.14453125 여자\n",
       "29  0.16436291 0.34667511 0.9545455 0.14062500 남자\n",
       "30  0.09971453 0.30318713 0.8181818 0.13671875 남자\n",
       "32  0.17736168 0.33390424 0.8636364 0.09765625 여자\n",
       "33  0.07129812 0.18483630 0.9090909 0.08593750 남자\n",
       "34  0.06108635 0.06565393 0.7727273 0.13671875 남자\n",
       "36  0.11108768 0.33178196 0.6818182 0.25000000 여자\n",
       "38  0.02006170 0.02813563 0.6818182 0.34765625 남자\n",
       "39  0.01377730 0.04407129 0.6363636 0.13281250 남자\n",
       "40  0.07570819 0.17201579 0.8636364 0.17968750 여자\n",
       "41  0.14618650 0.48511927 0.9090909 0.19140625 여자\n",
       "42  0.05462930 0.12713779 0.8636364 0.27734375 남자\n",
       "43  0.06707796 0.15910840 0.7727273 0.15625000 여자\n",
       "44  0.13079640 0.19953087 0.8636364 0.45703125 남자\n",
       "45  0.05315088 0.11214536 0.8636364 0.12890625 여자\n",
       "... ...        ...        ...       ...        ... \n",
       "360 0.12164800 0.31574702 1.0000000 0.16796875 남자\n",
       "361 0.07164551 0.14675950 0.9090909 0.41406250 남자\n",
       "362 0.23363085 0.49939186 0.9090909 0.32812500 남자\n",
       "363 0.06692165 0.10073969 0.8181818 0.10156250 남자\n",
       "364 0.05103578 0.16141683 0.8181818 0.09765625 남자\n",
       "365 0.08583318 0.14283764 0.7272727 0.13671875 남자\n",
       "366 0.06570289 0.11990220 0.8636364 0.18750000 여자\n",
       "367 0.07093534 0.18390548 0.8181818 0.16406250 남자\n",
       "368 0.06423800 0.17812197 0.8181818 0.48828125 남자\n",
       "369 0.09566701 0.24236106 0.9090909 0.26171875 남자\n",
       "370 0.07499173 0.14211780 0.7727273 0.37890625 남자\n",
       "372 0.02115985 0.05123241 0.8181818 0.11328125 여자\n",
       "373 0.24060302 0.49440266 0.6818182 0.35156250 남자\n",
       "376 0.06111574 0.09407501 0.7727273 0.14453125 남자\n",
       "379 0.08213094 0.20041204 0.9090909 0.11718750 여자\n",
       "381 0.09585015 0.17699258 0.9545455 0.10156250 남자\n",
       "384 0.11855165 0.29437536 0.8181818 0.10156250 남자\n",
       "385 0.08881569 0.18088962 0.8181818 0.25000000 남자\n",
       "387 0.14212148 0.29099958 0.9545455 0.30859375 남자\n",
       "388 0.06019794 0.09612282 0.8636364 0.17968750 남자\n",
       "390 0.36231612 0.51856678 0.9545455 0.11718750 여자\n",
       "391 0.01140347 0.02919056 0.7272727 0.00000000 여자\n",
       "392 0.14244250 0.17251222 0.9090909 0.23828125 여자\n",
       "393 0.09548924 0.32548961 0.9545455 0.23437500 남자\n",
       "395 0.01859121 0.03403083 0.7727273 0.10937500 여자\n",
       "396 0.04853621 0.10737955 0.6818182 0.21875000 남자\n",
       "397 0.18730283 0.31955718 0.8636364 0.10546875 여자\n",
       "398 0.05172798 0.09187827 0.7727273 0.14843750 남자\n",
       "399 0.02136538 0.05684216 0.8181818 0.34765625 여자\n",
       "402 0.08369872 0.15047038 0.8181818 0.10546875 여자"
      ]
     },
     "metadata": {},
     "output_type": "display_data"
    }
   ],
   "source": [
    "train1"
   ]
  },
  {
   "cell_type": "code",
   "execution_count": 88,
   "metadata": {},
   "outputs": [],
   "source": [
    "repCv <- trainControl(method = \"repeatedcv\", number = 6,repeats = 4, verbose = T)"
   ]
  },
  {
   "cell_type": "code",
   "execution_count": 89,
   "metadata": {},
   "outputs": [
    {
     "name": "stdout",
     "output_type": "stream",
     "text": [
      "+ Fold1.Rep1: parameter=none \n",
      "- Fold1.Rep1: parameter=none \n",
      "+ Fold2.Rep1: parameter=none \n",
      "- Fold2.Rep1: parameter=none \n",
      "+ Fold3.Rep1: parameter=none \n",
      "- Fold3.Rep1: parameter=none \n",
      "+ Fold4.Rep1: parameter=none \n",
      "- Fold4.Rep1: parameter=none \n",
      "+ Fold5.Rep1: parameter=none \n",
      "- Fold5.Rep1: parameter=none \n",
      "+ Fold6.Rep1: parameter=none \n",
      "- Fold6.Rep1: parameter=none \n",
      "+ Fold1.Rep2: parameter=none \n",
      "- Fold1.Rep2: parameter=none \n",
      "+ Fold2.Rep2: parameter=none \n",
      "- Fold2.Rep2: parameter=none \n",
      "+ Fold3.Rep2: parameter=none \n",
      "- Fold3.Rep2: parameter=none \n",
      "+ Fold4.Rep2: parameter=none \n",
      "- Fold4.Rep2: parameter=none \n",
      "+ Fold5.Rep2: parameter=none \n",
      "- Fold5.Rep2: parameter=none \n",
      "+ Fold6.Rep2: parameter=none \n",
      "- Fold6.Rep2: parameter=none \n",
      "+ Fold1.Rep3: parameter=none \n",
      "- Fold1.Rep3: parameter=none \n",
      "+ Fold2.Rep3: parameter=none \n",
      "- Fold2.Rep3: parameter=none \n",
      "+ Fold3.Rep3: parameter=none \n",
      "- Fold3.Rep3: parameter=none \n",
      "+ Fold4.Rep3: parameter=none \n",
      "- Fold4.Rep3: parameter=none \n",
      "+ Fold5.Rep3: parameter=none \n",
      "- Fold5.Rep3: parameter=none \n",
      "+ Fold6.Rep3: parameter=none \n",
      "- Fold6.Rep3: parameter=none \n",
      "+ Fold1.Rep4: parameter=none \n",
      "- Fold1.Rep4: parameter=none \n",
      "+ Fold2.Rep4: parameter=none \n",
      "- Fold2.Rep4: parameter=none \n",
      "+ Fold3.Rep4: parameter=none \n",
      "- Fold3.Rep4: parameter=none \n",
      "+ Fold4.Rep4: parameter=none \n",
      "- Fold4.Rep4: parameter=none \n",
      "+ Fold5.Rep4: parameter=none \n",
      "- Fold5.Rep4: parameter=none \n",
      "+ Fold6.Rep4: parameter=none \n",
      "- Fold6.Rep4: parameter=none \n",
      "Aggregating results\n",
      "Fitting final model on full training set\n"
     ]
    }
   ],
   "source": [
    "train.lda <- train(gen~., train1, method = \"lda\", trControl = repCv)"
   ]
  },
  {
   "cell_type": "code",
   "execution_count": 90,
   "metadata": {},
   "outputs": [
    {
     "data": {
      "text/plain": [
       "Confusion Matrix and Statistics\n",
       "\n",
       "          Reference\n",
       "Prediction 남자 여자\n",
       "      남자   65   38\n",
       "      여자   11    6\n",
       "                                          \n",
       "               Accuracy : 0.5917          \n",
       "                 95% CI : (0.4982, 0.6805)\n",
       "    No Information Rate : 0.6333          \n",
       "    P-Value [Acc > NIR] : 0.8511442       \n",
       "                                          \n",
       "                  Kappa : -0.0096         \n",
       " Mcnemar's Test P-Value : 0.0002038       \n",
       "                                          \n",
       "            Sensitivity : 0.8553          \n",
       "            Specificity : 0.1364          \n",
       "         Pos Pred Value : 0.6311          \n",
       "         Neg Pred Value : 0.3529          \n",
       "             Prevalence : 0.6333          \n",
       "         Detection Rate : 0.5417          \n",
       "   Detection Prevalence : 0.8583          \n",
       "      Balanced Accuracy : 0.4958          \n",
       "                                          \n",
       "       'Positive' Class : 남자            \n",
       "                                          "
      ]
     },
     "metadata": {},
     "output_type": "display_data"
    }
   ],
   "source": [
    "predict.lda <- predict(train.lda, test1)\n",
    "confusionMatrix(predict.lda, test1$gen)"
   ]
  },
  {
   "cell_type": "code",
   "execution_count": null,
   "metadata": {},
   "outputs": [],
   "source": [
    "# a 앙상블할 모델의 갯수\n",
    "###  b,c,d ... : method\n",
    "### 1. 과제서 제시한 3개의 모델 우선!\n",
    "### 2. 나아가서 일반화 및 파라매터 조정도 해봅시다!\n",
    "voteClassifier <- function(a,b,c,d) {\n",
    "  # 학습 부분, caret패키지 함수로 해주세요!\n",
    "  \n",
    "  # 예측 부분\n",
    "  \n",
    "  # predict count 부분\n",
    "  \n",
    "  # 최종 결과물 반환\n",
    "  return()\n",
    "}\n",
    "predict.ensemble <- voteClassifier()\n",
    "confusionMatrix(predict.ensemble, test.set)\n",
    "\n",
    "#### 최종 결과물 제출\n",
    "pred.test <- predict(~~모델, pro.test)\n",
    "pred.test <- as.data.frame(pred.test)\n",
    "names(pred.test) <- \"gen\"\n",
    "write.csv(pred.test,'본인이름.csv',row.names =F)\n",
    "###"
   ]
  }
 ],
 "metadata": {
  "kernelspec": {
   "display_name": "R",
   "language": "R",
   "name": "ir"
  },
  "language_info": {
   "codemirror_mode": "r",
   "file_extension": ".r",
   "mimetype": "text/x-r-source",
   "name": "R",
   "pygments_lexer": "r",
   "version": "3.4.3"
  }
 },
 "nbformat": 4,
 "nbformat_minor": 2
}
