{
 "cells": [
  {
   "cell_type": "code",
   "execution_count": 1,
   "metadata": {},
   "outputs": [
    {
     "name": "stdout",
     "output_type": "stream",
     "text": [
      "package 'kernlab' successfully unpacked and MD5 sums checked\n",
      "\n",
      "The downloaded binary packages are in\n",
      "\tC:\\Users\\ewon\\AppData\\Local\\Temp\\RtmpKS6Tkt\\downloaded_packages\n"
     ]
    }
   ],
   "source": [
    "rm(list=ls())\n",
    "\n",
    "#svm을 R로 분석 해 보면, 먼저 R에서 svm에 관한 패키지는 다음과 같이 3개가 있다.\n",
    "#e1071 : C++로 작성된 오픈소스 SVM 프로그램을 라이브러리를 R로 구현\n",
    "#klaR : 도르트문트 기술대학 통계학과의 패키지로 알고리즘을 구현.\n",
    "#kernlab : R로 개발된 패키지로, 쉽게 변경할 수 있고 모든 면을 자세히 살펴볼 수 있다. \n",
    "#2가지에 대해서만 실습!\n",
    "\n",
    "# install.packages(\"e1071\")\n",
    "install.packages(\"kernlab\")"
   ]
  },
  {
   "cell_type": "code",
   "execution_count": 2,
   "metadata": {},
   "outputs": [],
   "source": [
    "library(e1071)\n",
    "\n",
    "#e1071라이브러리에서는 svm이라는 함수를 쓴다.\n",
    "#default Kernerl 값은 radial 이고\n",
    "#cost는 과적합을 막는 정도를 지정하는 파라미터 이다.\n",
    "#즉 cost는 잘못 분류하면 얼마만큼의 비용을 지불할 것인지 결정하는 것이다."
   ]
  },
  {
   "cell_type": "code",
   "execution_count": 2,
   "metadata": {},
   "outputs": [
    {
     "data": {
      "text/plain": [
       "group\n",
       " 1  2 \n",
       "45 55 "
      ]
     },
     "metadata": {},
     "output_type": "display_data"
    }
   ],
   "source": [
    "#데이터 만들기\n",
    "\n",
    "#시드 고정\n",
    "set.seed(0801)\n",
    "\n",
    "#matrix형태로 저장\n",
    "\n",
    "x=matrix(rnorm(200),100,2)\n",
    "group=ifelse(apply(x*x,1,sum)<=1.4,1,2)\n",
    "#apply(var, 1:row;2:col, function)\n",
    "#ifelse(logic , T일때, F일때 )\n",
    "\n",
    "table(group)"
   ]
  },
  {
   "cell_type": "code",
   "execution_count": 4,
   "metadata": {},
   "outputs": [
    {
     "data": {
      "text/plain": [
       "\n",
       "Call:\n",
       "svm(formula = y ~ x, kernel = \"radial\")\n",
       "\n",
       "\n",
       "Parameters:\n",
       "   SVM-Type:  C-classification \n",
       " SVM-Kernel:  radial \n",
       "       cost:  1 \n",
       "      gamma:  0.5 \n",
       "\n",
       "Number of Support Vectors:  41\n",
       "\n",
       " ( 20 21 )\n",
       "\n",
       "\n",
       "Number of Classes:  2 \n",
       "\n",
       "Levels: \n",
       " 1 2\n",
       "\n",
       "\n"
      ]
     },
     "metadata": {},
     "output_type": "display_data"
    },
    {
     "data": {
      "image/png": "[encoded data removed]",
      "text/plain": [
       "plot without title"
      ]
     },
     "metadata": {},
     "output_type": "display_data"
    }
   ],
   "source": [
    "#x의 열별로 색을 위에서 붙인 라벨\n",
    "plot(x,col=group)\n",
    "\n",
    "library(e1071)\n",
    "y=as.factor(group)\n",
    "\n",
    "svm.model=svm(y~x,kernel='radial')\n",
    "# ?svm\n",
    "summary(svm.model)"
   ]
  },
  {
   "cell_type": "code",
   "execution_count": null,
   "metadata": {},
   "outputs": [],
   "source": [
    "#시각화하기\n",
    "\n",
    "#그래프 창 활성화\n",
    "windows(height=10,width=10)\n",
    "\n",
    "plot(x,pch=c(20,21)[svm.model$fitted],col=c('blue','red')[svm.model$fitted],xlim=c(-3,3),ylim=c(-3,3),xlab='x1',ylab='x2',main=\"비선형 SVM 예측값 시각화\")"
   ]
  },
  {
   "cell_type": "code",
   "execution_count": 6,
   "metadata": {},
   "outputs": [
    {
     "data": {
      "text/html": [
       "0.95"
      ],
      "text/latex": [
       "0.95"
      ],
      "text/markdown": [
       "0.95"
      ],
      "text/plain": [
       "[1] 0.95"
      ]
     },
     "metadata": {},
     "output_type": "display_data"
    }
   ],
   "source": [
    "#Acc 확인하기\n",
    "sum(group==svm.model$fitted)/length(group)"
   ]
  },
  {
   "cell_type": "code",
   "execution_count": 3,
   "metadata": {},
   "outputs": [],
   "source": [
    "######################################\n",
    "\n",
    "####예제2 스팸메일\n",
    "\n",
    "library(e1071)\n",
    "library(kernlab)"
   ]
  },
  {
   "cell_type": "code",
   "execution_count": 4,
   "metadata": {},
   "outputs": [
    {
     "name": "stdout",
     "output_type": "stream",
     "text": [
      "'data.frame':\t4601 obs. of  58 variables:\n",
      " $ make             : num  0 0.21 0.06 0 0 0 0 0 0.15 0.06 ...\n",
      " $ address          : num  0.64 0.28 0 0 0 0 0 0 0 0.12 ...\n",
      " $ all              : num  0.64 0.5 0.71 0 0 0 0 0 0.46 0.77 ...\n",
      " $ num3d            : num  0 0 0 0 0 0 0 0 0 0 ...\n",
      " $ our              : num  0.32 0.14 1.23 0.63 0.63 1.85 1.92 1.88 0.61 0.19 ...\n",
      " $ over             : num  0 0.28 0.19 0 0 0 0 0 0 0.32 ...\n",
      " $ remove           : num  0 0.21 0.19 0.31 0.31 0 0 0 0.3 0.38 ...\n",
      " $ internet         : num  0 0.07 0.12 0.63 0.63 1.85 0 1.88 0 0 ...\n",
      " $ order            : num  0 0 0.64 0.31 0.31 0 0 0 0.92 0.06 ...\n",
      " $ mail             : num  0 0.94 0.25 0.63 0.63 0 0.64 0 0.76 0 ...\n",
      " $ receive          : num  0 0.21 0.38 0.31 0.31 0 0.96 0 0.76 0 ...\n",
      " $ will             : num  0.64 0.79 0.45 0.31 0.31 0 1.28 0 0.92 0.64 ...\n",
      " $ people           : num  0 0.65 0.12 0.31 0.31 0 0 0 0 0.25 ...\n",
      " $ report           : num  0 0.21 0 0 0 0 0 0 0 0 ...\n",
      " $ addresses        : num  0 0.14 1.75 0 0 0 0 0 0 0.12 ...\n",
      " $ free             : num  0.32 0.14 0.06 0.31 0.31 0 0.96 0 0 0 ...\n",
      " $ business         : num  0 0.07 0.06 0 0 0 0 0 0 0 ...\n",
      " $ email            : num  1.29 0.28 1.03 0 0 0 0.32 0 0.15 0.12 ...\n",
      " $ you              : num  1.93 3.47 1.36 3.18 3.18 0 3.85 0 1.23 1.67 ...\n",
      " $ credit           : num  0 0 0.32 0 0 0 0 0 3.53 0.06 ...\n",
      " $ your             : num  0.96 1.59 0.51 0.31 0.31 0 0.64 0 2 0.71 ...\n",
      " $ font             : num  0 0 0 0 0 0 0 0 0 0 ...\n",
      " $ num000           : num  0 0.43 1.16 0 0 0 0 0 0 0.19 ...\n",
      " $ money            : num  0 0.43 0.06 0 0 0 0 0 0.15 0 ...\n",
      " $ hp               : num  0 0 0 0 0 0 0 0 0 0 ...\n",
      " $ hpl              : num  0 0 0 0 0 0 0 0 0 0 ...\n",
      " $ george           : num  0 0 0 0 0 0 0 0 0 0 ...\n",
      " $ num650           : num  0 0 0 0 0 0 0 0 0 0 ...\n",
      " $ lab              : num  0 0 0 0 0 0 0 0 0 0 ...\n",
      " $ labs             : num  0 0 0 0 0 0 0 0 0 0 ...\n",
      " $ telnet           : num  0 0 0 0 0 0 0 0 0 0 ...\n",
      " $ num857           : num  0 0 0 0 0 0 0 0 0 0 ...\n",
      " $ data             : num  0 0 0 0 0 0 0 0 0.15 0 ...\n",
      " $ num415           : num  0 0 0 0 0 0 0 0 0 0 ...\n",
      " $ num85            : num  0 0 0 0 0 0 0 0 0 0 ...\n",
      " $ technology       : num  0 0 0 0 0 0 0 0 0 0 ...\n",
      " $ num1999          : num  0 0.07 0 0 0 0 0 0 0 0 ...\n",
      " $ parts            : num  0 0 0 0 0 0 0 0 0 0 ...\n",
      " $ pm               : num  0 0 0 0 0 0 0 0 0 0 ...\n",
      " $ direct           : num  0 0 0.06 0 0 0 0 0 0 0 ...\n",
      " $ cs               : num  0 0 0 0 0 0 0 0 0 0 ...\n",
      " $ meeting          : num  0 0 0 0 0 0 0 0 0 0 ...\n",
      " $ original         : num  0 0 0.12 0 0 0 0 0 0.3 0 ...\n",
      " $ project          : num  0 0 0 0 0 0 0 0 0 0.06 ...\n",
      " $ re               : num  0 0 0.06 0 0 0 0 0 0 0 ...\n",
      " $ edu              : num  0 0 0.06 0 0 0 0 0 0 0 ...\n",
      " $ table            : num  0 0 0 0 0 0 0 0 0 0 ...\n",
      " $ conference       : num  0 0 0 0 0 0 0 0 0 0 ...\n",
      " $ charSemicolon    : num  0 0 0.01 0 0 0 0 0 0 0.04 ...\n",
      " $ charRoundbracket : num  0 0.132 0.143 0.137 0.135 0.223 0.054 0.206 0.271 0.03 ...\n",
      " $ charSquarebracket: num  0 0 0 0 0 0 0 0 0 0 ...\n",
      " $ charExclamation  : num  0.778 0.372 0.276 0.137 0.135 0 0.164 0 0.181 0.244 ...\n",
      " $ charDollar       : num  0 0.18 0.184 0 0 0 0.054 0 0.203 0.081 ...\n",
      " $ charHash         : num  0 0.048 0.01 0 0 0 0 0 0.022 0 ...\n",
      " $ capitalAve       : num  3.76 5.11 9.82 3.54 3.54 ...\n",
      " $ capitalLong      : num  61 101 485 40 40 15 4 11 445 43 ...\n",
      " $ capitalTotal     : num  278 1028 2259 191 191 ...\n",
      " $ type             : Factor w/ 2 levels \"nonspam\",\"spam\": 2 2 2 2 2 2 2 2 2 2 ...\n"
     ]
    },
    {
     "data": {
      "text/html": [
       "<ol class=list-inline>\n",
       "\t<li>4601</li>\n",
       "\t<li>58</li>\n",
       "</ol>\n"
      ],
      "text/latex": [
       "\\begin{enumerate*}\n",
       "\\item 4601\n",
       "\\item 58\n",
       "\\end{enumerate*}\n"
      ],
      "text/markdown": [
       "1. 4601\n",
       "2. 58\n",
       "\n",
       "\n"
      ],
      "text/plain": [
       "[1] 4601   58"
      ]
     },
     "metadata": {},
     "output_type": "display_data"
    }
   ],
   "source": [
    "#데이터 불러오기\n",
    "data(spam)\n",
    "str(spam)\n",
    "dim(spam)\n",
    "#단어 및 기호의 빈도,특성이 변수값으로 들어가있음"
   ]
  },
  {
   "cell_type": "code",
   "execution_count": 5,
   "metadata": {},
   "outputs": [],
   "source": [
    "svm.model<- svm(type~., data=spam, gamma=1, cost=1) #gamma랑 cost parameter를 둘 다 1로 잡은 것."
   ]
  },
  {
   "cell_type": "code",
   "execution_count": 6,
   "metadata": {},
   "outputs": [
    {
     "data": {
      "text/html": [
       "<table>\n",
       "<thead><tr><th></th><th scope=col>nonspam</th><th scope=col>spam</th><th scope=col>Sum</th></tr></thead>\n",
       "<tbody>\n",
       "\t<tr><th scope=row>nonspam</th><td>2788</td><td>   0</td><td>2788</td></tr>\n",
       "\t<tr><th scope=row>spam</th><td>  27</td><td>1786</td><td>1813</td></tr>\n",
       "\t<tr><th scope=row>Sum</th><td>2815</td><td>1786</td><td>4601</td></tr>\n",
       "</tbody>\n",
       "</table>\n"
      ],
      "text/latex": [
       "\\begin{tabular}{r|lll}\n",
       "  & nonspam & spam & Sum\\\\\n",
       "\\hline\n",
       "\tnonspam & 2788 &    0 & 2788\\\\\n",
       "\tspam &   27 & 1786 & 1813\\\\\n",
       "\tSum & 2815 & 1786 & 4601\\\\\n",
       "\\end{tabular}\n"
      ],
      "text/markdown": [
       "\n",
       "| <!--/--> | nonspam | spam | Sum | \n",
       "|---|---|---|\n",
       "| nonspam | 2788 |    0 | 2788 | \n",
       "| spam |   27 | 1786 | 1813 | \n",
       "| Sum | 2815 | 1786 | 4601 | \n",
       "\n",
       "\n"
      ],
      "text/plain": [
       "         \n",
       "          nonspam spam Sum \n",
       "  nonspam 2788       0 2788\n",
       "  spam      27    1786 1813\n",
       "  Sum     2815    1786 4601"
      ]
     },
     "metadata": {},
     "output_type": "display_data"
    }
   ],
   "source": [
    "addmargins(table(spam$type, svm.model$fitted)) #sum까지 같이 보려면 이렇게~!~!\n",
    "\n",
    "#엄청 좋다. but?"
   ]
  },
  {
   "cell_type": "code",
   "execution_count": 7,
   "metadata": {},
   "outputs": [],
   "source": [
    "# train/test 분리\n",
    "\n",
    "n<-nrow(spam)\n",
    "sub<-sample(1:n,round(0.7*n))\n",
    "spam.train<-spam[sub,]\n",
    "spam.test<-spam[-sub,]"
   ]
  },
  {
   "cell_type": "code",
   "execution_count": 8,
   "metadata": {},
   "outputs": [
    {
     "data": {
      "text/html": [
       "<table>\n",
       "<thead><tr><th></th><th scope=col>nonspam</th><th scope=col>spam</th><th scope=col>Sum</th></tr></thead>\n",
       "<tbody>\n",
       "\t<tr><th scope=row>nonspam</th><td> 837</td><td>  2 </td><td> 839</td></tr>\n",
       "\t<tr><th scope=row>spam</th><td> 287</td><td>254 </td><td> 541</td></tr>\n",
       "\t<tr><th scope=row>Sum</th><td>1124</td><td>256 </td><td>1380</td></tr>\n",
       "</tbody>\n",
       "</table>\n"
      ],
      "text/latex": [
       "\\begin{tabular}{r|lll}\n",
       "  & nonspam & spam & Sum\\\\\n",
       "\\hline\n",
       "\tnonspam &  837 &   2  &  839\\\\\n",
       "\tspam &  287 & 254  &  541\\\\\n",
       "\tSum & 1124 & 256  & 1380\\\\\n",
       "\\end{tabular}\n"
      ],
      "text/markdown": [
       "\n",
       "| <!--/--> | nonspam | spam | Sum | \n",
       "|---|---|---|\n",
       "| nonspam |  837 |   2  |  839 | \n",
       "| spam |  287 | 254  |  541 | \n",
       "| Sum | 1124 | 256  | 1380 | \n",
       "\n",
       "\n"
      ],
      "text/plain": [
       "         svm.predict.2\n",
       "          nonspam spam Sum \n",
       "  nonspam  837      2   839\n",
       "  spam     287    254   541\n",
       "  Sum     1124    256  1380"
      ]
     },
     "metadata": {},
     "output_type": "display_data"
    }
   ],
   "source": [
    "svm.model.1<- svm(type~.,data=spam.train, gamma=1, cost=1)\n",
    "svm.predict.2<-predict(svm.model.1,newdata=spam.test)\n",
    "\n",
    "addmargins(table(spam.test$type,svm.predict.2)) #위와 똑같이 sum 한번에 보려고 addmargins 하는것!"
   ]
  },
  {
   "cell_type": "code",
   "execution_count": 9,
   "metadata": {},
   "outputs": [
    {
     "data": {
      "text/html": [
       "0.209420289855072"
      ],
      "text/latex": [
       "0.209420289855072"
      ],
      "text/markdown": [
       "0.209420289855072"
      ],
      "text/plain": [
       "[1] 0.2094203"
      ]
     },
     "metadata": {},
     "output_type": "display_data"
    }
   ],
   "source": [
    "#총오류율 얼마?\n",
    "(2+287)/1380"
   ]
  },
  {
   "cell_type": "code",
   "execution_count": null,
   "metadata": {},
   "outputs": [],
   "source": [
    "####파라미터 튜닝해보기\n",
    "#위의 예제들에선 gamma=1 ,cost=1인 경우로 대부분 해봤다.\n",
    "\n",
    "#튜닝하는 함수가 있음!\n",
    "#tune.svm( )\n",
    "#SVM 모형의 최적 파라미터를 찾아준다.\n",
    "\n",
    "#대신 커널은 설정해야함!!\n",
    "\n",
    "#(10-fold cross-validation) 방법으로 튜닝해준다.\n",
    "?tune\n",
    "\n",
    "tune.svm<- tune(svm,type~., data=spam.train,\n",
    "                kernel=\"radial\", ranges =list(gamma=c(0.1,1,10),\n",
    "                                              cost=c(0.1,1,10)))\n",
    "#각각 gamma와 cost의 후보임! 커널 함수 자체에 대해 이해가 필요하다고 판단.\n",
    "#경험적으로..\n",
    "\n",
    "#꼭 세 개 아니어도 괜찮고 더 많아도 상관없습니당!\n",
    "\n",
    "summary(tune.svm)"
   ]
  },
  {
   "cell_type": "code",
   "execution_count": 6,
   "metadata": {},
   "outputs": [
    {
     "data": {
      "text/plain": [
       "\n",
       "Call:\n",
       "svm(formula = Species ~ ., data = iris)\n",
       "\n",
       "\n",
       "Parameters:\n",
       "   SVM-Type:  C-classification \n",
       " SVM-Kernel:  radial \n",
       "       cost:  1 \n",
       "      gamma:  0.25 \n",
       "\n",
       "Number of Support Vectors:  51\n"
      ]
     },
     "metadata": {},
     "output_type": "display_data"
    }
   ],
   "source": [
    "####예제 3 iris data\n",
    "\n",
    "model <- svm(Species~., data=iris)\n",
    "model"
   ]
  },
  {
   "cell_type": "code",
   "execution_count": 7,
   "metadata": {},
   "outputs": [],
   "source": [
    "pred <- predict(model, iris[, -5])"
   ]
  },
  {
   "cell_type": "code",
   "execution_count": 8,
   "metadata": {},
   "outputs": [
    {
     "data": {
      "text/plain": [
       "            \n",
       "pred         setosa versicolor virginica\n",
       "  setosa         50          0         0\n",
       "  versicolor      0         48         2\n",
       "  virginica       0          2        48"
      ]
     },
     "metadata": {},
     "output_type": "display_data"
    }
   ],
   "source": [
    "#model로 iris를 예즉한 값을 pred란 변수에 저장한다.\n",
    "table(pred, iris$Species)\n",
    "\n",
    "#table을 통해 비교한면 된다."
   ]
  },
  {
   "cell_type": "code",
   "execution_count": 9,
   "metadata": {},
   "outputs": [
    {
     "data": {
      "image/png": "[encoded data removed]",
      "text/plain": [
       "plot without title"
      ]
     },
     "metadata": {},
     "output_type": "display_data"
    }
   ],
   "source": [
    "plot(cmdscale(dist(iris[,-5])), col = as.integer(iris[,5]),\n",
    "     \n",
    "     pch = c(\"o\",\"+\")[1:150 %in% model$index + 1])\n",
    "\n",
    "\n",
    "\n",
    "#예측한 model을 plot함수로 그리는데, support vector는 + 모양으로, 아닌거들은 O로 나타낸다"
   ]
  },
  {
   "cell_type": "code",
   "execution_count": null,
   "metadata": {},
   "outputs": [],
   "source": [
    "#다음은 kernlab라이브러리를 살펴보자\n",
    "#ksvm라는 함수를 사용하고, irist 데이터를 가지고 하면,\n",
    "library(kernlab)"
   ]
  },
  {
   "cell_type": "code",
   "execution_count": 10,
   "metadata": {},
   "outputs": [],
   "source": [
    "irismodel <- ksvm(Species ~ ., data = iris,\n",
    "  \n",
    "                  type = \"C-bsvc\", kernel = \"rbfdot\",\n",
    "                  \n",
    "                  kpar = list(sigma = 0.1), C = 10,\n",
    "                  \n",
    "                  prob.model = TRUE)"
   ]
  },
  {
   "cell_type": "code",
   "execution_count": null,
   "metadata": {},
   "outputs": [],
   "source": [
    "#이번에는 다양한 옵션값들을 주고 model 생성\n",
    "\n",
    "predict(irismodel, iris[c(3, 10, 56, 68, 107, 120), -5], type = \"probabilities\")\n",
    "\n",
    "predict(irismodel, iris[c(3, 10, 56, 68, 107, 120), -5], type = \"decision\")\n",
    "\n",
    "predict(irismodel, iris[c(3, 10, 56, 68, 107, 120), -5])\n",
    "\n",
    "\n",
    "\n",
    "#그리고 그값들을 type별로 예측해보면 반환값이 다르다는것을 알수있다.\n",
    "#또한 내가 마음대로 kernel을 만들어 줄수 있는데,\n",
    "\n",
    "k <- function(x, y) {\n",
    "  \n",
    "  (sum(x * y) + 1) * exp(0.001 * sum((x - y)^2))\n",
    "  \n",
    "}\n",
    "\n",
    "class(k) <- \"kernel\"\n",
    "\n",
    "\n",
    "#이번에는 다른 data를 가지고 써보자.\n",
    "data(\"promotergene\")\n",
    "str(promotergene)\n",
    "gene <- ksvm(Class ~ ., data = promotergene, kernel = k, C = 10, cross = 5)\n",
    "\n",
    "\n",
    "\n",
    "#이렇게 내가 임의의 커널을 만들어 넣어 줄수도 있다\n",
    "\n",
    "\n",
    "\n",
    "\n",
    "\n",
    "##############+++ \n",
    "#불러오기\n",
    "data(iris)\n",
    "\n",
    "#모델 적합\n",
    "svm.model <- svm(Species ~ Sepal.Length + Sepal.Width, data = iris, kernel = \"linear\")\n",
    "# the + are support vectors\n",
    "plot(iris$Sepal.Length, iris$Sepal.Width, col = as.integer(iris[, 5]), \n",
    "     pch = c(\"o\",\"+\")[1:150 %in% svm.model$index + 1], cex = 2, \n",
    "     xlab = \"Sepal length\", ylab = \"Sepal width\")\n",
    "\n",
    "plot(svm.model, iris, Sepal.Width ~ Sepal.Length, \n",
    "     slice = list(sepal.width = 1, sepal.length = 2))\n",
    "\n",
    "svm.pred  <- predict(svm.model, iris[,-5]) \n",
    "table(pred = svm.pred, true = iris[,5]) # show the confusion matrix"
   ]
  }
 ],
 "metadata": {
  "kernelspec": {
   "display_name": "R",
   "language": "R",
   "name": "ir"
  },
  "language_info": {
   "codemirror_mode": "r",
   "file_extension": ".r",
   "mimetype": "text/x-r-source",
   "name": "R",
   "pygments_lexer": "r",
   "version": "3.4.3"
  }
 },
 "nbformat": 4,
 "nbformat_minor": 2
}
