{
 "cells": [
  {
   "cell_type": "code",
   "execution_count": 1,
   "metadata": {},
   "outputs": [
    {
     "data": {
      "text/html": [
       "'C'"
      ],
      "text/latex": [
       "'C'"
      ],
      "text/markdown": [
       "'C'"
      ],
      "text/plain": [
       "[1] \"C\""
      ]
     },
     "metadata": {},
     "output_type": "display_data"
    }
   ],
   "source": [
    "## Filtering spam SMS using Naive Bayes\n",
    "\n",
    "rm(list=ls())\n",
    "## Window 환경에서 UTF-8로 인코딩된 csv파일을 read.csv로 읽는 경우 \n",
    "## EOF within quoted string 이라는 Warning이 발생하기도한다\n",
    "## 이 문제를 해결하기 위해 아래 코드를 실행하여 시스템 기본 locale을 바꿔주면 해결된다!\n",
    "Sys.setlocale(category=\"LC_CTYPE\", locale=\"C\")"
   ]
  },
  {
   "cell_type": "code",
   "execution_count": 3,
   "metadata": {},
   "outputs": [
    {
     "name": "stdout",
     "output_type": "stream",
     "text": [
      "'data.frame':\t5574 obs. of  2 variables:\n",
      " $ type: chr  \"ham\" \"ham\" \"spam\" \"ham\" ...\n",
      " $ text: chr  \"Go until jurong point, crazy.. Available only in bugis n great world la e buffet... Cine there got amore wat...\" \"Ok lar... Joking wif u oni...\" \"Free entry in 2 a wkly comp to win FA Cup final tkts 21st May 2005. Text FA to 87121 to receive entry question(\"| __truncated__ \"U dun say so early hor... U c already then say...\" ...\n"
     ]
    }
   ],
   "source": [
    "sms_raw <-read.csv(\"sms_spam.csv\",stringsAsFactors = FALSE)\n",
    "# StringAsFactors 글자 변환할 때 유의해서 할 것\n",
    "str(sms_raw)"
   ]
  },
  {
   "cell_type": "code",
   "execution_count": 4,
   "metadata": {},
   "outputs": [
    {
     "name": "stderr",
     "output_type": "stream",
     "text": [
      "Your code contains a unicode char which cannot be displayed in your\n",
      "current locale and R will silently convert it to an escaped form when the\n",
      "R kernel executes this code. This can lead to subtle errors if you use\n",
      "such chars to do comparisons. For more information, please see\n",
      "https://github.com/IRkernel/repr/wiki/Problems-with-unicode-on-windows"
     ]
    },
    {
     "data": {
      "text/plain": [
       "\n",
       " ham spam \n",
       "4827  747 "
      ]
     },
     "metadata": {},
     "output_type": "display_data"
    }
   ],
   "source": [
    "## 5574개의 메시지와 두 속성(햄/스팸)으로 구성\n",
    "## type변수가 chr 형으로 저장되어 있는데, factor 변수로 변경해야 한다.\n",
    "## 분류할 속성은 factor\n",
    "## 13.4%가 스팸메시지이다!!\n",
    "sms_raw$type<-factor(sms_raw$type)\n",
    "table(sms_raw$type)"
   ]
  },
  {
   "cell_type": "code",
   "execution_count": 5,
   "metadata": {},
   "outputs": [
    {
     "name": "stderr",
     "output_type": "stream",
     "text": [
      "Your code contains a unicode char which cannot be displayed in your\n",
      "current locale and R will silently convert it to an escaped form when the\n",
      "R kernel executes this code. This can lead to subtle errors if you use\n",
      "such chars to do comparisons. For more information, please see\n",
      "https://github.com/IRkernel/repr/wiki/Problems-with-unicode-on-windowsLoading required package: NLP\n"
     ]
    }
   ],
   "source": [
    "## 메시지는 문자열로 구성되어있다. \n",
    "## 여러 접속사 등이 포함되어 처리를 해야되고, 문장을 개별 단어로도 분리해야한다 \n",
    "## tm 패키지를 불러와 함수를 사용하자!\n",
    "## install.packages(\"tm\")\n",
    "library(tm)"
   ]
  },
  {
   "cell_type": "code",
   "execution_count": 6,
   "metadata": {},
   "outputs": [
    {
     "name": "stderr",
     "output_type": "stream",
     "text": [
      "Your code contains a unicode char which cannot be displayed in your\n",
      "current locale and R will silently convert it to an escaped form when the\n",
      "R kernel executes this code. This can lead to subtle errors if you use\n",
      "such chars to do comparisons. For more information, please see\n",
      "https://github.com/IRkernel/repr/wiki/Problems-with-unicode-on-windows"
     ]
    },
    {
     "name": "stdout",
     "output_type": "stream",
     "text": [
      "<<VCorpus>>\n",
      "Metadata:  corpus specific: 0, document level (indexed): 0\n",
      "Content:  documents: 5574\n"
     ]
    }
   ],
   "source": [
    "## step1.Corpus(말뭉치)를 만들자\n",
    "## corpus란 텍스트 문서의 모음을 말함 \n",
    "## VCorpus()는 corpus를 만들어서 메모리상에 저장한다\n",
    "## PCorpus()는 corpus를 직접 디스크에 저장한다\n",
    "## 말뭉치가 5574개의 메시지에 대한 문서를 포함하고있다. \n",
    "sms_corpus <- VCorpus(VectorSource(sms_raw$text))\n",
    "# VectorSource는 각 벡터 요소를 document요소로 변경시켜준다.\n",
    "print(sms_corpus)"
   ]
  },
  {
   "cell_type": "code",
   "execution_count": 11,
   "metadata": {},
   "outputs": [
    {
     "name": "stderr",
     "output_type": "stream",
     "text": [
      "Your code contains a unicode char which cannot be displayed in your\n",
      "current locale and R will silently convert it to an escaped form when the\n",
      "R kernel executes this code. This can lead to subtle errors if you use\n",
      "such chars to do comparisons. For more information, please see\n",
      "https://github.com/IRkernel/repr/wiki/Problems-with-unicode-on-windows"
     ]
    },
    {
     "data": {
      "text/html": [
       "'Go until jurong point, crazy.. Available only in bugis n great world la e buffet... Cine there got amore wat...'"
      ],
      "text/latex": [
       "'Go until jurong point, crazy.. Available only in bugis n great world la e buffet... Cine there got amore wat...'"
      ],
      "text/markdown": [
       "'Go until jurong point, crazy.. Available only in bugis n great world la e buffet... Cine there got amore wat...'"
      ],
      "text/plain": [
       "[1] \"Go until jurong point, crazy.. Available only in bugis n great world la e buffet... Cine there got amore wat...\""
      ]
     },
     "metadata": {},
     "output_type": "display_data"
    }
   ],
   "source": [
    "## 말뭉치 내부의 메시지 내용을 보기위해서는 as.character()를 이용해야한다\n",
    "as.character(sms_corpus[[1]])"
   ]
  },
  {
   "cell_type": "code",
   "execution_count": 12,
   "metadata": {},
   "outputs": [
    {
     "name": "stderr",
     "output_type": "stream",
     "text": [
      "Your code contains a unicode char which cannot be displayed in your\n",
      "current locale and R will silently convert it to an escaped form when the\n",
      "R kernel executes this code. This can lead to subtle errors if you use\n",
      "such chars to do comparisons. For more information, please see\n",
      "https://github.com/IRkernel/repr/wiki/Problems-with-unicode-on-windows"
     ]
    },
    {
     "data": {
      "text/html": [
       "'go until jurong point, crazy.. available only in bugis n great world la e buffet... cine there got amore wat...'"
      ],
      "text/latex": [
       "'go until jurong point, crazy.. available only in bugis n great world la e buffet... cine there got amore wat...'"
      ],
      "text/markdown": [
       "'go until jurong point, crazy.. available only in bugis n great world la e buffet... cine there got amore wat...'"
      ],
      "text/plain": [
       "[1] \"go until jurong point, crazy.. available only in bugis n great world la e buffet... cine there got amore wat...\""
      ]
     },
     "metadata": {},
     "output_type": "display_data"
    }
   ],
   "source": [
    "## step2. Corpus내부의 텍스트를 정제하자 \n",
    "## tm_map()를 이용해 말뭉치를 mapping한다 \n",
    "## 우선 tolower()를 이용해 모든 문자를 소문자로 변환하고\n",
    "## mapping한 결과물을 corpus_clean에 저장하자!!\n",
    "sms_corpus_clean<-tm_map(sms_corpus, content_transformer(tolower))\n",
    "as.character(sms_corpus_clean[[1]])"
   ]
  },
  {
   "cell_type": "code",
   "execution_count": 13,
   "metadata": {},
   "outputs": [
    {
     "name": "stderr",
     "output_type": "stream",
     "text": [
      "Your code contains a unicode char which cannot be displayed in your\n",
      "current locale and R will silently convert it to an escaped form when the\n",
      "R kernel executes this code. This can lead to subtle errors if you use\n",
      "such chars to do comparisons. For more information, please see\n",
      "https://github.com/IRkernel/repr/wiki/Problems-with-unicode-on-windows"
     ]
    },
    {
     "data": {
      "text/html": [
       "<ol class=list-inline>\n",
       "\t<li>'i'</li>\n",
       "\t<li>'me'</li>\n",
       "\t<li>'my'</li>\n",
       "\t<li>'myself'</li>\n",
       "\t<li>'we'</li>\n",
       "\t<li>'our'</li>\n",
       "\t<li>'ours'</li>\n",
       "\t<li>'ourselves'</li>\n",
       "\t<li>'you'</li>\n",
       "\t<li>'your'</li>\n",
       "\t<li>'yours'</li>\n",
       "\t<li>'yourself'</li>\n",
       "\t<li>'yourselves'</li>\n",
       "\t<li>'he'</li>\n",
       "\t<li>'him'</li>\n",
       "\t<li>'his'</li>\n",
       "\t<li>'himself'</li>\n",
       "\t<li>'she'</li>\n",
       "\t<li>'her'</li>\n",
       "\t<li>'hers'</li>\n",
       "</ol>\n"
      ],
      "text/latex": [
       "\\begin{enumerate*}\n",
       "\\item 'i'\n",
       "\\item 'me'\n",
       "\\item 'my'\n",
       "\\item 'myself'\n",
       "\\item 'we'\n",
       "\\item 'our'\n",
       "\\item 'ours'\n",
       "\\item 'ourselves'\n",
       "\\item 'you'\n",
       "\\item 'your'\n",
       "\\item 'yours'\n",
       "\\item 'yourself'\n",
       "\\item 'yourselves'\n",
       "\\item 'he'\n",
       "\\item 'him'\n",
       "\\item 'his'\n",
       "\\item 'himself'\n",
       "\\item 'she'\n",
       "\\item 'her'\n",
       "\\item 'hers'\n",
       "\\end{enumerate*}\n"
      ],
      "text/markdown": [
       "1. 'i'\n",
       "2. 'me'\n",
       "3. 'my'\n",
       "4. 'myself'\n",
       "5. 'we'\n",
       "6. 'our'\n",
       "7. 'ours'\n",
       "8. 'ourselves'\n",
       "9. 'you'\n",
       "10. 'your'\n",
       "11. 'yours'\n",
       "12. 'yourself'\n",
       "13. 'yourselves'\n",
       "14. 'he'\n",
       "15. 'him'\n",
       "16. 'his'\n",
       "17. 'himself'\n",
       "18. 'she'\n",
       "19. 'her'\n",
       "20. 'hers'\n",
       "\n",
       "\n"
      ],
      "text/plain": [
       " [1] \"i\"          \"me\"         \"my\"         \"myself\"     \"we\"        \n",
       " [6] \"our\"        \"ours\"       \"ourselves\"  \"you\"        \"your\"      \n",
       "[11] \"yours\"      \"yourself\"   \"yourselves\" \"he\"         \"him\"       \n",
       "[16] \"his\"        \"himself\"    \"she\"        \"her\"        \"hers\"      "
      ]
     },
     "metadata": {},
     "output_type": "display_data"
    },
    {
     "data": {
      "text/html": [
       "174"
      ],
      "text/latex": [
       "174"
      ],
      "text/markdown": [
       "174"
      ],
      "text/plain": [
       "[1] 174"
      ]
     },
     "metadata": {},
     "output_type": "display_data"
    },
    {
     "data": {
      "text/html": [
       "'character'"
      ],
      "text/latex": [
       "'character'"
      ],
      "text/markdown": [
       "'character'"
      ],
      "text/plain": [
       "[1] \"character\""
      ]
     },
     "metadata": {},
     "output_type": "display_data"
    }
   ],
   "source": [
    "## removeNumbers()를 이용해서 숫자도 제거하도록하자\n",
    "sms_corpus_clean<-tm_map(sms_corpus_clean, removeNumbers)\n",
    "\n",
    "## to, and, but, or 같은 단어를 제거하자(stop word)\n",
    "## 자주 등장하지만 의미있는 정보를 제공하지 않기 때문에 미련없이 제거ㅎㅎ\n",
    "## head를 쓰면 stopword로 분류되는 단어들이 뭐가 있는지 볼 수 있다\n",
    "## stopword가 174개 존재하는군 \n",
    "head(stopwords(), 20)\n",
    "length(stopwords())\n",
    "class(stopwords())\n",
    "sms_corpus_clean<-tm_map(sms_corpus_clean, removeWords, stopwords())"
   ]
  },
  {
   "cell_type": "code",
   "execution_count": 14,
   "metadata": {},
   "outputs": [
    {
     "name": "stderr",
     "output_type": "stream",
     "text": [
      "Your code contains a unicode char which cannot be displayed in your\n",
      "current locale and R will silently convert it to an escaped form when the\n",
      "R kernel executes this code. This can lead to subtle errors if you use\n",
      "such chars to do comparisons. For more information, please see\n",
      "https://github.com/IRkernel/repr/wiki/Problems-with-unicode-on-windows"
     ]
    }
   ],
   "source": [
    "## 구두점도 제거하자(구두점 다들 뭔지 아시죠? ㅎㅎ)\n",
    "sms_corpus_clean<-tm_map(sms_corpus_clean, removePunctuation)"
   ]
  },
  {
   "cell_type": "code",
   "execution_count": 15,
   "metadata": {},
   "outputs": [
    {
     "name": "stderr",
     "output_type": "stream",
     "text": [
      "Your code contains a unicode char which cannot be displayed in your\n",
      "current locale and R will silently convert it to an escaped form when the\n",
      "R kernel executes this code. This can lead to subtle errors if you use\n",
      "such chars to do comparisons. For more information, please see\n",
      "https://github.com/IRkernel/repr/wiki/Problems-with-unicode-on-windows"
     ]
    }
   ],
   "source": [
    "## step3. 어간 추출(stemming)\n",
    "## learning, learns, learned 가 있을 때 모두 learn 이된다 \n",
    "## Snowball 패키지의 wordStem()을 사용하자\n",
    "## install.packages(\"SnowballC\")\n",
    "library(SnowballC)\n",
    "sms_corpus_clean<-tm_map(sms_corpus_clean, stemDocument)"
   ]
  },
  {
   "cell_type": "code",
   "execution_count": 16,
   "metadata": {},
   "outputs": [
    {
     "name": "stderr",
     "output_type": "stream",
     "text": [
      "Your code contains a unicode char which cannot be displayed in your\n",
      "current locale and R will silently convert it to an escaped form when the\n",
      "R kernel executes this code. This can lead to subtle errors if you use\n",
      "such chars to do comparisons. For more information, please see\n",
      "https://github.com/IRkernel/repr/wiki/Problems-with-unicode-on-windows"
     ]
    }
   ],
   "source": [
    "## 의미없는 한 줄띄기도 제거해주자\n",
    "sms_corpus_clean<-tm_map(sms_corpus_clean, stripWhitespace)"
   ]
  },
  {
   "cell_type": "code",
   "execution_count": 17,
   "metadata": {},
   "outputs": [
    {
     "name": "stderr",
     "output_type": "stream",
     "text": [
      "Your code contains a unicode char which cannot be displayed in your\n",
      "current locale and R will silently convert it to an escaped form when the\n",
      "R kernel executes this code. This can lead to subtle errors if you use\n",
      "such chars to do comparisons. For more information, please see\n",
      "https://github.com/IRkernel/repr/wiki/Problems-with-unicode-on-windows"
     ]
    },
    {
     "data": {
      "text/html": [
       "<ol class=list-inline>\n",
       "\t<li>5574</li>\n",
       "\t<li>6564</li>\n",
       "</ol>\n"
      ],
      "text/latex": [
       "\\begin{enumerate*}\n",
       "\\item 5574\n",
       "\\item 6564\n",
       "\\end{enumerate*}\n"
      ],
      "text/markdown": [
       "1. 5574\n",
       "2. 6564\n",
       "\n",
       "\n"
      ],
      "text/plain": [
       "[1] 5574 6564"
      ]
     },
     "metadata": {},
     "output_type": "display_data"
    }
   ],
   "source": [
    "## step4. 토큰화(tokenization)\n",
    "## tm 패키지의 DocumentTermMatrix()를 이용해 말뭉치를 입력받는다.\n",
    "## 위의 output은 sparse matrix로 나온다.\n",
    "## 행은 메시지, 열은 단어임!!\n",
    "sms_dtm <- DocumentTermMatrix(sms_corpus_clean)\n",
    "#DocumentTermMatrix 를 이용해서 변형한다.\n",
    "dim(sms_dtm)"
   ]
  },
  {
   "cell_type": "code",
   "execution_count": 18,
   "metadata": {},
   "outputs": [
    {
     "name": "stderr",
     "output_type": "stream",
     "text": [
      "Your code contains a unicode char which cannot be displayed in your\n",
      "current locale and R will silently convert it to an escaped form when the\n",
      "R kernel executes this code. This can lead to subtle errors if you use\n",
      "such chars to do comparisons. For more information, please see\n",
      "https://github.com/IRkernel/repr/wiki/Problems-with-unicode-on-windows"
     ]
    }
   ],
   "source": [
    "## sms_dtm의 내용을 확인하고 싶다면 \n",
    "## View(as.matrix(sms_dtm)) \n",
    "## 를 하시면 되는데요 6597개 열 나오니까 비추천할게요\n",
    "\n",
    "####################################################################\n",
    "############ 와 드디어 텍스트 전처리가 끝났어요~!!! ################\n",
    "\n",
    "## 이제 train/test data를 나눌거에요 \n",
    "sms_dtm_train<-sms_dtm[1:4169, ]\n",
    "sms_dtm_test<-sms_dtm[4170:5572, ]"
   ]
  },
  {
   "cell_type": "code",
   "execution_count": 19,
   "metadata": {},
   "outputs": [
    {
     "name": "stderr",
     "output_type": "stream",
     "text": [
      "Your code contains a unicode char which cannot be displayed in your\n",
      "current locale and R will silently convert it to an escaped form when the\n",
      "R kernel executes this code. This can lead to subtle errors if you use\n",
      "such chars to do comparisons. For more information, please see\n",
      "https://github.com/IRkernel/repr/wiki/Problems-with-unicode-on-windows"
     ]
    },
    {
     "data": {
      "text/plain": [
       "sms_train_labels\n",
       "      ham      spam \n",
       "0.8647158 0.1352842 "
      ]
     },
     "metadata": {},
     "output_type": "display_data"
    },
    {
     "data": {
      "text/plain": [
       "sms_test_labels\n",
       "      ham      spam \n",
       "0.8695652 0.1304348 "
      ]
     },
     "metadata": {},
     "output_type": "display_data"
    }
   ],
   "source": [
    "## 각 메시지가 스팸인지 햄인지 나타내는지 따로 벡터에 저장할게요 \n",
    "## 저장한 문자열 벡터에 스팸의 비율이 적당한지 prop.table로 확인할게요\n",
    "## 오 그냥 짤랐는데 스팸 비율이 환상적이에요!! OMG!!\n",
    "sms_train_labels<-sms_raw[1:4169,]$type\n",
    "sms_test_labels<-sms_raw[4170:5572,]$type\n",
    "prop.table(table(sms_train_labels))\n",
    "prop.table(table(sms_test_labels))"
   ]
  },
  {
   "cell_type": "code",
   "execution_count": 20,
   "metadata": {},
   "outputs": [
    {
     "name": "stderr",
     "output_type": "stream",
     "text": [
      "Your code contains a unicode char which cannot be displayed in your\n",
      "current locale and R will silently convert it to an escaped form when the\n",
      "R kernel executes this code. This can lead to subtle errors if you use\n",
      "such chars to do comparisons. For more information, please see\n",
      "https://github.com/IRkernel/repr/wiki/Problems-with-unicode-on-windowsLoading required package: RColorBrewer\n"
     ]
    },
    {
     "data": {
      "image/png": "[encoded data removed]",
      "text/plain": [
       "plot without title"
      ]
     },
     "metadata": {},
     "output_type": "display_data"
    }
   ],
   "source": [
    "## step5. 워드클라우드(Word Cloud)\n",
    "## 텍스트 데이터에서 단어의 빈도를 시작적으로 묘사하는 방법이에요\n",
    "## install.packages(\"wordcloud\")\n",
    "## random.order = FALSE는 자주 나오는 단어일 수록 가운데 위치하게 해줍니다 \n",
    "## min.freq는 클라우드에 등장하기 위한 최소빈도수를 나타내는데\n",
    "## 말뭉치의 약 10%로 설정하는게 보통이에요 \n",
    "library(wordcloud)\n",
    "wordcloud(sms_corpus_clean, min.freq = 50, random.order = FALSE)"
   ]
  },
  {
   "cell_type": "code",
   "execution_count": null,
   "metadata": {},
   "outputs": [
    {
     "name": "stderr",
     "output_type": "stream",
     "text": [
      "Your code contains a unicode char which cannot be displayed in your\n",
      "current locale and R will silently convert it to an escaped form when the\n",
      "R kernel executes this code. This can lead to subtle errors if you use\n",
      "such chars to do comparisons. For more information, please see\n",
      "https://github.com/IRkernel/repr/wiki/Problems-with-unicode-on-windows"
     ]
    },
    {
     "data": {
      "image/png": "[encoded data removed]",
      "text/plain": [
       "plot without title"
      ]
     },
     "metadata": {},
     "output_type": "display_data"
    }
   ],
   "source": [
    "## subset()함수를 이용해서 sms_raw 데이터에서 스팸과 햄을 나눌게요\n",
    "## 나눈 데이터에 대해 각각 워드클라우드 만들게요\n",
    "## spam은 call, now, free, mobile, stop과 같은 단어 등장\n",
    "## ham은 can, get, like, good, got, come, know와 같은 단어 등장\n",
    "## 이러한 차이는 NBC 모델이 카테고리를 구별할 수 있는 키워드가 됩니다 \n",
    "\n",
    "spam <-subset(sms_raw, type==\"spam\")\n",
    "wordcloud(spam$text, min.freq = 30, scale=c(3,0,5), random.order = FALSE)"
   ]
  },
  {
   "cell_type": "code",
   "execution_count": 32,
   "metadata": {},
   "outputs": [
    {
     "data": {
      "image/png": "[encoded data removed]",
      "text/plain": [
       "plot without title"
      ]
     },
     "metadata": {},
     "output_type": "display_data"
    }
   ],
   "source": [
    "ham <-subset(sms_raw, type==\"ham\")\n",
    "wordcloud(ham$text, min.freq = 30, scale=c(3,0,5), random.order = FALSE)"
   ]
  },
  {
   "cell_type": "code",
   "execution_count": 21,
   "metadata": {},
   "outputs": [
    {
     "name": "stderr",
     "output_type": "stream",
     "text": [
      "Your code contains a unicode char which cannot be displayed in your\n",
      "current locale and R will silently convert it to an escaped form when the\n",
      "R kernel executes this code. This can lead to subtle errors if you use\n",
      "such chars to do comparisons. For more information, please see\n",
      "https://github.com/IRkernel/repr/wiki/Problems-with-unicode-on-windows"
     ]
    },
    {
     "name": "stdout",
     "output_type": "stream",
     "text": [
      " chr [1:1153] \"abiola\" \"abl\" \"abt\" \"accept\" \"access\" \"account\" \"across\" ...\n"
     ]
    }
   ],
   "source": [
    "## step6. sparse matrix 구조 변환하기\n",
    "## 위에서 만든 sparse matrix를 nbc가 훈련하는데 용이하도록 바꿔줄거에요\n",
    "## sms_dtm이 6597열을 갖고 있다고 했잖아요?\n",
    "## 좀 줄이기 위해서 빈도가 5 미만이면 삭제할게요 \n",
    "## 5번 이상 나타난 단어들의 문자 벡터를 sms_freq_words에 저장합니다 \n",
    "## str을 해보니 1158개 단어가 있음을 알 수 있군요!!\n",
    "sms_freq_words<-findFreqTerms(sms_dtm_train, 5)\n",
    "#findFreqTerms(대상, 최소횟수, 최대횟수)\n",
    "# 해당 요소들을 배열로 빼주니까 열 캐치하는 곳에 바로 사용가능하네.\n",
    "str(sms_freq_words)"
   ]
  },
  {
   "cell_type": "code",
   "execution_count": 22,
   "metadata": {},
   "outputs": [
    {
     "name": "stderr",
     "output_type": "stream",
     "text": [
      "Your code contains a unicode char which cannot be displayed in your\n",
      "current locale and R will silently convert it to an escaped form when the\n",
      "R kernel executes this code. This can lead to subtle errors if you use\n",
      "such chars to do comparisons. For more information, please see\n",
      "https://github.com/IRkernel/repr/wiki/Problems-with-unicode-on-windows"
     ]
    }
   ],
   "source": [
    "## 위에서 만든 train/test에서 sms_freq_words에 있는 칼럼만 추출할게요\n",
    "## 그럼 이제 train/test data는 1158 개 단어만 갖고 있는거에요 \n",
    "sms_dtm_freq_train<-sms_dtm_train[,sms_freq_words]\n",
    "sms_dtm_freq_test<-sms_dtm_test[,sms_freq_words]"
   ]
  },
  {
   "cell_type": "code",
   "execution_count": 23,
   "metadata": {},
   "outputs": [
    {
     "name": "stderr",
     "output_type": "stream",
     "text": [
      "Your code contains a unicode char which cannot be displayed in your\n",
      "current locale and R will silently convert it to an escaped form when the\n",
      "R kernel executes this code. This can lead to subtle errors if you use\n",
      "such chars to do comparisons. For more information, please see\n",
      "https://github.com/IRkernel/repr/wiki/Problems-with-unicode-on-windows"
     ]
    }
   ],
   "source": [
    "## NBC는 단어의 빈도는 고려하지 않고 등장여부가 중요해요\n",
    "## 그런데 sparse matrix는 apple단어가 2번 등장하면 2가 저장되어있습니다.\n",
    "## 이렇게되면 nbc는 훈련을 할 수가 없어요.\n",
    "## 그래서 빈도가 0이면 NO, 1이상이면 Yes를 출력하는 함수를 만들게요\n",
    "convert_counts<-function(x){\n",
    "  x<-ifelse(x>0, \"Yes\",\"No\")\n",
    "}"
   ]
  },
  {
   "cell_type": "code",
   "execution_count": 25,
   "metadata": {},
   "outputs": [
    {
     "name": "stderr",
     "output_type": "stream",
     "text": [
      "Your code contains a unicode char which cannot be displayed in your\n",
      "current locale and R will silently convert it to an escaped form when the\n",
      "R kernel executes this code. This can lead to subtle errors if you use\n",
      "such chars to do comparisons. For more information, please see\n",
      "https://github.com/IRkernel/repr/wiki/Problems-with-unicode-on-windows"
     ]
    },
    {
     "data": {
      "text/plain": [
       " abiola      abl        abt       accept     access    \n",
       " No :4158   No :4151   No :4149   No :4163   No :4163  \n",
       " Yes:  11   Yes:  18   Yes:  20   Yes:   6   Yes:   6  "
      ]
     },
     "metadata": {},
     "output_type": "display_data"
    }
   ],
   "source": [
    "## 위 함수를 일괄 적용하기 위해서 apply함수를 쓸게요\n",
    "## 옵션에 MARGIN=2는 conver_counts 함수를 각 열에 대해서 적용한다는 뜻!\n",
    "sms_train<-apply(sms_dtm_freq_train, MARGIN=2, convert_counts)\n",
    "sms_test<-apply(sms_dtm_freq_test, MARGIN=2, convert_counts)\n",
    "summary(sms_train[,1:5])\n",
    "####################################################################\n",
    "############ 와 드디어 train/test 나누기가 끝났어요! ###############"
   ]
  },
  {
   "cell_type": "code",
   "execution_count": 26,
   "metadata": {},
   "outputs": [
    {
     "name": "stderr",
     "output_type": "stream",
     "text": [
      "Your code contains a unicode char which cannot be displayed in your\n",
      "current locale and R will silently convert it to an escaped form when the\n",
      "R kernel executes this code. This can lead to subtle errors if you use\n",
      "such chars to do comparisons. For more information, please see\n",
      "https://github.com/IRkernel/repr/wiki/Problems-with-unicode-on-windows"
     ]
    },
    {
     "data": {
      "text/plain": [
       "$abiola\n",
       "      \n",
       "abiola         ham        spam\n",
       "   No  0.996673136 0.998233216\n",
       "   Yes 0.003326864 0.001766784\n",
       "\n",
       "$abl\n",
       "     \n",
       "abl           ham        spam\n",
       "  No  0.994732465 0.998233216\n",
       "  Yes 0.005267535 0.001766784\n",
       "\n",
       "$abt\n",
       "     \n",
       "abt           ham        spam\n",
       "  No  0.994177987 0.998233216\n",
       "  Yes 0.005822013 0.001766784\n",
       "\n",
       "$accept\n",
       "      \n",
       "accept         ham        spam\n",
       "   No  0.998059329 0.998233216\n",
       "   Yes 0.001940671 0.001766784\n",
       "\n",
       "$access\n",
       "      \n",
       "access          ham         spam\n",
       "   No  0.9991682839 0.9911660777\n",
       "   Yes 0.0008317161 0.0088339223\n",
       "\n",
       "$account\n",
       "       \n",
       "account         ham        spam\n",
       "    No  0.995564181 0.978798587\n",
       "    Yes 0.004435819 0.021201413\n"
      ]
     },
     "metadata": {},
     "output_type": "display_data"
    }
   ],
   "source": [
    "## 전처리한 데이터를 갖고 NB모델을 훈련시킬겁니다\n",
    "## naiveBayes(train, class, laplace=0) 인데\n",
    "## train은 훈련 데이터이고 class는 훈련 데이터의 라벨 벡터에요\n",
    "## laplace는 라플라스 스무딩 사용여부에요 휴 길다길어\n",
    "library(naivebayes)\n",
    "sms_classifier<-naive_bayes(sms_train, sms_train_labels, laplace = 1)\n",
    "head(sms_classifier$table)"
   ]
  },
  {
   "cell_type": "code",
   "execution_count": 27,
   "metadata": {},
   "outputs": [
    {
     "name": "stderr",
     "output_type": "stream",
     "text": [
      "Your code contains a unicode char which cannot be displayed in your\n",
      "current locale and R will silently convert it to an escaped form when the\n",
      "R kernel executes this code. This can lead to subtle errors if you use\n",
      "such chars to do comparisons. For more information, please see\n",
      "https://github.com/IRkernel/repr/wiki/Problems-with-unicode-on-windowsLoading required package: lattice\n",
      "Loading required package: ggplot2\n",
      "\n",
      "Attaching package: 'ggplot2'\n",
      "\n",
      "The following object is masked from 'package:NLP':\n",
      "\n",
      "    annotate\n",
      "\n"
     ]
    },
    {
     "data": {
      "text/plain": [
       "Confusion Matrix and Statistics\n",
       "\n",
       "          Reference\n",
       "Prediction  ham spam\n",
       "      ham  1213   28\n",
       "      spam    7  155\n",
       "                                          \n",
       "               Accuracy : 0.9751          \n",
       "                 95% CI : (0.9655, 0.9826)\n",
       "    No Information Rate : 0.8696          \n",
       "    P-Value [Acc > NIR] : < 2.2e-16       \n",
       "                                          \n",
       "                  Kappa : 0.8844          \n",
       " Mcnemar's Test P-Value : 0.0007232       \n",
       "                                          \n",
       "            Sensitivity : 0.9943          \n",
       "            Specificity : 0.8470          \n",
       "         Pos Pred Value : 0.9774          \n",
       "         Neg Pred Value : 0.9568          \n",
       "             Prevalence : 0.8696          \n",
       "         Detection Rate : 0.8646          \n",
       "   Detection Prevalence : 0.8845          \n",
       "      Balanced Accuracy : 0.9206          \n",
       "                                          \n",
       "       'Positive' Class : ham             \n",
       "                                          "
      ]
     },
     "metadata": {},
     "output_type": "display_data"
    }
   ],
   "source": [
    "## NB모델의 성능을 평가해볼겁니다. \n",
    "## 데스트 데이터에 대한 예측 결과를 sms_test_pred에 저장할거에요\n",
    "## 정확도도 봐야죠? 무려 97.48%!!\n",
    "sms_test_pred<-predict(sms_classifier, sms_test)\n",
    "library(caret)\n",
    "confusionMatrix(sms_test_pred, sms_test_labels)"
   ]
  },
  {
   "cell_type": "code",
   "execution_count": null,
   "metadata": {},
   "outputs": [],
   "source": []
  }
 ],
 "metadata": {
  "kernelspec": {
   "display_name": "R",
   "language": "R",
   "name": "ir"
  },
  "language_info": {
   "codemirror_mode": "r",
   "file_extension": ".r",
   "mimetype": "text/x-r-source",
   "name": "R",
   "pygments_lexer": "r",
   "version": "3.4.3"
  }
 },
 "nbformat": 4,
 "nbformat_minor": 2
}
