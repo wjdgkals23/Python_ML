{
 "cells": [
  {
   "cell_type": "code",
   "execution_count": 2,
   "metadata": {},
   "outputs": [],
   "source": [
    "rm(list=ls())\n",
    "\n",
    "# apt 가격 데이터 셋\n",
    "### setwd \n",
    "# setwd(\"C:/Users/kdg95/Documents\")\n",
    "\n",
    "### packages\n",
    "library(caret)\n",
    "library(e1071)\n",
    "library(dplyr)\n",
    "library(mice)\n",
    "# install.packages(\"lime\"); \n",
    "# library(lime)\n",
    "# install.packages(\"mice\"); "
   ]
  },
  {
   "cell_type": "code",
   "execution_count": 3,
   "metadata": {},
   "outputs": [
    {
     "data": {
      "text/html": [
       "<table>\n",
       "<thead><tr><th scope=col>X</th><th scope=col>mean.radius</th><th scope=col>mean.texture</th><th scope=col>mean.perimeter</th><th scope=col>mean.area</th><th scope=col>mean.smoothness</th><th scope=col>mean.compactness</th><th scope=col>mean.concavity</th><th scope=col>mean.concave.points</th><th scope=col>mean.symmetry</th><th scope=col>...</th><th scope=col>worst.texture</th><th scope=col>worst.perimeter</th><th scope=col>worst.area</th><th scope=col>worst.smoothness</th><th scope=col>worst.compactness</th><th scope=col>worst.concavity</th><th scope=col>worst.concave.points</th><th scope=col>worst.symmetry</th><th scope=col>worst.fractal.dimension</th><th scope=col>is_cancer</th></tr></thead>\n",
       "<tbody>\n",
       "\t<tr><td>0      </td><td>17.99  </td><td>10.38  </td><td>122.80 </td><td>1001.0 </td><td>0.11840</td><td>0.27760</td><td>0.3001 </td><td>0.14710</td><td>0.2419 </td><td>...    </td><td>17.33  </td><td>184.60 </td><td>2019.0 </td><td>0.1622 </td><td>0.6656 </td><td>0.7119 </td><td>0.2654 </td><td>0.4601 </td><td>0.11890</td><td>0      </td></tr>\n",
       "\t<tr><td>1      </td><td>20.57  </td><td>17.77  </td><td>132.90 </td><td>1326.0 </td><td>0.08474</td><td>0.07864</td><td>0.0869 </td><td>0.07017</td><td>0.1812 </td><td>...    </td><td>23.41  </td><td>158.80 </td><td>1956.0 </td><td>0.1238 </td><td>0.1866 </td><td>0.2416 </td><td>0.1860 </td><td>0.2750 </td><td>0.08902</td><td>0      </td></tr>\n",
       "\t<tr><td>2      </td><td>19.69  </td><td>21.25  </td><td>130.00 </td><td>1203.0 </td><td>0.10960</td><td>0.15990</td><td>0.1974 </td><td>0.12790</td><td>0.2069 </td><td>...    </td><td>25.53  </td><td>152.50 </td><td>1709.0 </td><td>0.1444 </td><td>0.4245 </td><td>0.4504 </td><td>0.2430 </td><td>0.3613 </td><td>0.08758</td><td>0      </td></tr>\n",
       "\t<tr><td>3      </td><td>11.42  </td><td>20.38  </td><td> 77.58 </td><td> 386.1 </td><td>0.14250</td><td>0.28390</td><td>0.2414 </td><td>0.10520</td><td>0.2597 </td><td>...    </td><td>26.50  </td><td> 98.87 </td><td> 567.7 </td><td>0.2098 </td><td>0.8663 </td><td>0.6869 </td><td>0.2575 </td><td>0.6638 </td><td>0.17300</td><td>0      </td></tr>\n",
       "\t<tr><td>4      </td><td>20.29  </td><td>14.34  </td><td>135.10 </td><td>1297.0 </td><td>0.10030</td><td>0.13280</td><td>0.1980 </td><td>0.10430</td><td>0.1809 </td><td>...    </td><td>16.67  </td><td>152.20 </td><td>1575.0 </td><td>0.1374 </td><td>0.2050 </td><td>0.4000 </td><td>0.1625 </td><td>0.2364 </td><td>0.07678</td><td>0      </td></tr>\n",
       "\t<tr><td>5      </td><td>12.45  </td><td>15.70  </td><td> 82.57 </td><td> 477.1 </td><td>0.12780</td><td>0.17000</td><td>0.1578 </td><td>0.08089</td><td>0.2087 </td><td>...    </td><td>23.75  </td><td>103.40 </td><td> 741.6 </td><td>0.1791 </td><td>0.5249 </td><td>0.5355 </td><td>0.1741 </td><td>0.3985 </td><td>0.12440</td><td>0      </td></tr>\n",
       "</tbody>\n",
       "</table>\n"
      ],
      "text/latex": [
       "\\begin{tabular}{r|llllllllllllllllllllllllllllllll}\n",
       " X & mean.radius & mean.texture & mean.perimeter & mean.area & mean.smoothness & mean.compactness & mean.concavity & mean.concave.points & mean.symmetry & ... & worst.texture & worst.perimeter & worst.area & worst.smoothness & worst.compactness & worst.concavity & worst.concave.points & worst.symmetry & worst.fractal.dimension & is\\_cancer\\\\\n",
       "\\hline\n",
       "\t 0       & 17.99   & 10.38   & 122.80  & 1001.0  & 0.11840 & 0.27760 & 0.3001  & 0.14710 & 0.2419  & ...     & 17.33   & 184.60  & 2019.0  & 0.1622  & 0.6656  & 0.7119  & 0.2654  & 0.4601  & 0.11890 & 0      \\\\\n",
       "\t 1       & 20.57   & 17.77   & 132.90  & 1326.0  & 0.08474 & 0.07864 & 0.0869  & 0.07017 & 0.1812  & ...     & 23.41   & 158.80  & 1956.0  & 0.1238  & 0.1866  & 0.2416  & 0.1860  & 0.2750  & 0.08902 & 0      \\\\\n",
       "\t 2       & 19.69   & 21.25   & 130.00  & 1203.0  & 0.10960 & 0.15990 & 0.1974  & 0.12790 & 0.2069  & ...     & 25.53   & 152.50  & 1709.0  & 0.1444  & 0.4245  & 0.4504  & 0.2430  & 0.3613  & 0.08758 & 0      \\\\\n",
       "\t 3       & 11.42   & 20.38   &  77.58  &  386.1  & 0.14250 & 0.28390 & 0.2414  & 0.10520 & 0.2597  & ...     & 26.50   &  98.87  &  567.7  & 0.2098  & 0.8663  & 0.6869  & 0.2575  & 0.6638  & 0.17300 & 0      \\\\\n",
       "\t 4       & 20.29   & 14.34   & 135.10  & 1297.0  & 0.10030 & 0.13280 & 0.1980  & 0.10430 & 0.1809  & ...     & 16.67   & 152.20  & 1575.0  & 0.1374  & 0.2050  & 0.4000  & 0.1625  & 0.2364  & 0.07678 & 0      \\\\\n",
       "\t 5       & 12.45   & 15.70   &  82.57  &  477.1  & 0.12780 & 0.17000 & 0.1578  & 0.08089 & 0.2087  & ...     & 23.75   & 103.40  &  741.6  & 0.1791  & 0.5249  & 0.5355  & 0.1741  & 0.3985  & 0.12440 & 0      \\\\\n",
       "\\end{tabular}\n"
      ],
      "text/markdown": [
       "\n",
       "X | mean.radius | mean.texture | mean.perimeter | mean.area | mean.smoothness | mean.compactness | mean.concavity | mean.concave.points | mean.symmetry | ... | worst.texture | worst.perimeter | worst.area | worst.smoothness | worst.compactness | worst.concavity | worst.concave.points | worst.symmetry | worst.fractal.dimension | is_cancer | \n",
       "|---|---|---|---|---|---|\n",
       "| 0       | 17.99   | 10.38   | 122.80  | 1001.0  | 0.11840 | 0.27760 | 0.3001  | 0.14710 | 0.2419  | ...     | 17.33   | 184.60  | 2019.0  | 0.1622  | 0.6656  | 0.7119  | 0.2654  | 0.4601  | 0.11890 | 0       | \n",
       "| 1       | 20.57   | 17.77   | 132.90  | 1326.0  | 0.08474 | 0.07864 | 0.0869  | 0.07017 | 0.1812  | ...     | 23.41   | 158.80  | 1956.0  | 0.1238  | 0.1866  | 0.2416  | 0.1860  | 0.2750  | 0.08902 | 0       | \n",
       "| 2       | 19.69   | 21.25   | 130.00  | 1203.0  | 0.10960 | 0.15990 | 0.1974  | 0.12790 | 0.2069  | ...     | 25.53   | 152.50  | 1709.0  | 0.1444  | 0.4245  | 0.4504  | 0.2430  | 0.3613  | 0.08758 | 0       | \n",
       "| 3       | 11.42   | 20.38   |  77.58  |  386.1  | 0.14250 | 0.28390 | 0.2414  | 0.10520 | 0.2597  | ...     | 26.50   |  98.87  |  567.7  | 0.2098  | 0.8663  | 0.6869  | 0.2575  | 0.6638  | 0.17300 | 0       | \n",
       "| 4       | 20.29   | 14.34   | 135.10  | 1297.0  | 0.10030 | 0.13280 | 0.1980  | 0.10430 | 0.1809  | ...     | 16.67   | 152.20  | 1575.0  | 0.1374  | 0.2050  | 0.4000  | 0.1625  | 0.2364  | 0.07678 | 0       | \n",
       "| 5       | 12.45   | 15.70   |  82.57  |  477.1  | 0.12780 | 0.17000 | 0.1578  | 0.08089 | 0.2087  | ...     | 23.75   | 103.40  |  741.6  | 0.1791  | 0.5249  | 0.5355  | 0.1741  | 0.3985  | 0.12440 | 0       | \n",
       "\n",
       "\n"
      ],
      "text/plain": [
       "  X mean.radius mean.texture mean.perimeter mean.area mean.smoothness\n",
       "1 0 17.99       10.38        122.80         1001.0    0.11840        \n",
       "2 1 20.57       17.77        132.90         1326.0    0.08474        \n",
       "3 2 19.69       21.25        130.00         1203.0    0.10960        \n",
       "4 3 11.42       20.38         77.58          386.1    0.14250        \n",
       "5 4 20.29       14.34        135.10         1297.0    0.10030        \n",
       "6 5 12.45       15.70         82.57          477.1    0.12780        \n",
       "  mean.compactness mean.concavity mean.concave.points mean.symmetry ...\n",
       "1 0.27760          0.3001         0.14710             0.2419        ...\n",
       "2 0.07864          0.0869         0.07017             0.1812        ...\n",
       "3 0.15990          0.1974         0.12790             0.2069        ...\n",
       "4 0.28390          0.2414         0.10520             0.2597        ...\n",
       "5 0.13280          0.1980         0.10430             0.1809        ...\n",
       "6 0.17000          0.1578         0.08089             0.2087        ...\n",
       "  worst.texture worst.perimeter worst.area worst.smoothness worst.compactness\n",
       "1 17.33         184.60          2019.0     0.1622           0.6656           \n",
       "2 23.41         158.80          1956.0     0.1238           0.1866           \n",
       "3 25.53         152.50          1709.0     0.1444           0.4245           \n",
       "4 26.50          98.87           567.7     0.2098           0.8663           \n",
       "5 16.67         152.20          1575.0     0.1374           0.2050           \n",
       "6 23.75         103.40           741.6     0.1791           0.5249           \n",
       "  worst.concavity worst.concave.points worst.symmetry worst.fractal.dimension\n",
       "1 0.7119          0.2654               0.4601         0.11890                \n",
       "2 0.2416          0.1860               0.2750         0.08902                \n",
       "3 0.4504          0.2430               0.3613         0.08758                \n",
       "4 0.6869          0.2575               0.6638         0.17300                \n",
       "5 0.4000          0.1625               0.2364         0.07678                \n",
       "6 0.5355          0.1741               0.3985         0.12440                \n",
       "  is_cancer\n",
       "1 0        \n",
       "2 0        \n",
       "3 0        \n",
       "4 0        \n",
       "5 0        \n",
       "6 0        "
      ]
     },
     "metadata": {},
     "output_type": "display_data"
    },
    {
     "name": "stdout",
     "output_type": "stream",
     "text": [
      "'data.frame':\t569 obs. of  32 variables:\n",
      " $ X                      : int  0 1 2 3 4 5 6 7 8 9 ...\n",
      " $ mean.radius            : num  18 20.6 19.7 11.4 20.3 ...\n",
      " $ mean.texture           : num  10.4 17.8 21.2 20.4 14.3 ...\n",
      " $ mean.perimeter         : num  122.8 132.9 130 77.6 135.1 ...\n",
      " $ mean.area              : num  1001 1326 1203 386 1297 ...\n",
      " $ mean.smoothness        : num  0.1184 0.0847 0.1096 0.1425 0.1003 ...\n",
      " $ mean.compactness       : num  0.2776 0.0786 0.1599 0.2839 0.1328 ...\n",
      " $ mean.concavity         : num  0.3001 0.0869 0.1974 0.2414 0.198 ...\n",
      " $ mean.concave.points    : num  0.1471 0.0702 0.1279 0.1052 0.1043 ...\n",
      " $ mean.symmetry          : num  0.242 0.181 0.207 0.26 0.181 ...\n",
      " $ mean.fractal.dimension : num  0.0787 0.0567 0.06 0.0974 0.0588 ...\n",
      " $ radius.error           : num  1.095 0.543 0.746 0.496 0.757 ...\n",
      " $ texture.error          : num  0.905 0.734 0.787 1.156 0.781 ...\n",
      " $ perimeter.error        : num  8.59 3.4 4.58 3.44 5.44 ...\n",
      " $ area.error             : num  153.4 74.1 94 27.2 94.4 ...\n",
      " $ smoothness.error       : num  0.0064 0.00522 0.00615 0.00911 0.01149 ...\n",
      " $ compactness.error      : num  0.049 0.0131 0.0401 0.0746 0.0246 ...\n",
      " $ concavity.error        : num  0.0537 0.0186 0.0383 0.0566 0.0569 ...\n",
      " $ concave.points.error   : num  0.0159 0.0134 0.0206 0.0187 0.0188 ...\n",
      " $ symmetry.error         : num  0.03 0.0139 0.0225 0.0596 0.0176 ...\n",
      " $ fractal.dimension.error: num  0.00619 0.00353 0.00457 0.00921 0.00511 ...\n",
      " $ worst.radius           : num  25.4 25 23.6 14.9 22.5 ...\n",
      " $ worst.texture          : num  17.3 23.4 25.5 26.5 16.7 ...\n",
      " $ worst.perimeter        : num  184.6 158.8 152.5 98.9 152.2 ...\n",
      " $ worst.area             : num  2019 1956 1709 568 1575 ...\n",
      " $ worst.smoothness       : num  0.162 0.124 0.144 0.21 0.137 ...\n",
      " $ worst.compactness      : num  0.666 0.187 0.424 0.866 0.205 ...\n",
      " $ worst.concavity        : num  0.712 0.242 0.45 0.687 0.4 ...\n",
      " $ worst.concave.points   : num  0.265 0.186 0.243 0.258 0.163 ...\n",
      " $ worst.symmetry         : num  0.46 0.275 0.361 0.664 0.236 ...\n",
      " $ worst.fractal.dimension: num  0.1189 0.089 0.0876 0.173 0.0768 ...\n",
      " $ is_cancer              : int  0 0 0 0 0 0 0 0 0 0 ...\n"
     ]
    }
   ],
   "source": [
    "### data 불러오기\n",
    "dat = read.csv(\"data/dat.csv\")\n",
    "head(dat)\n",
    "str(dat)\n",
    "dat$is_cancer = as.factor(dat$is_cancer)\n",
    "dat <- dat[-1]"
   ]
  },
  {
   "cell_type": "code",
   "execution_count": 4,
   "metadata": {},
   "outputs": [
    {
     "data": {
      "text/plain": [
       "\n",
       "  0   1 \n",
       "212 357 "
      ]
     },
     "metadata": {},
     "output_type": "display_data"
    },
    {
     "data": {
      "text/plain": [
       "\n",
       "  0   1 \n",
       "149 250 "
      ]
     },
     "metadata": {},
     "output_type": "display_data"
    },
    {
     "data": {
      "text/plain": [
       "\n",
       "  0   1 \n",
       " 63 107 "
      ]
     },
     "metadata": {},
     "output_type": "display_data"
    },
    {
     "name": "stdout",
     "output_type": "stream",
     "text": [
      "'data.frame':\t399 obs. of  31 variables:\n",
      " $ mean.radius            : num  20.6 19.7 11.4 18.2 13.7 ...\n",
      " $ mean.texture           : num  17.8 21.2 20.4 20 20.8 ...\n",
      " $ mean.perimeter         : num  132.9 130 77.6 119.6 90.2 ...\n",
      " $ mean.area              : num  1326 1203 386 1040 578 ...\n",
      " $ mean.smoothness        : num  0.0847 0.1096 0.1425 0.0946 0.1189 ...\n",
      " $ mean.compactness       : num  0.0786 0.1599 0.2839 0.109 0.1645 ...\n",
      " $ mean.concavity         : num  0.0869 0.1974 0.2414 0.1127 0.0937 ...\n",
      " $ mean.concave.points    : num  0.0702 0.1279 0.1052 0.074 0.0598 ...\n",
      " $ mean.symmetry          : num  0.181 0.207 0.26 0.179 0.22 ...\n",
      " $ mean.fractal.dimension : num  0.0567 0.06 0.0974 0.0574 0.0745 ...\n",
      " $ radius.error           : num  0.543 0.746 0.496 0.447 0.584 ...\n",
      " $ texture.error          : num  0.734 0.787 1.156 0.773 1.377 ...\n",
      " $ perimeter.error        : num  3.4 4.58 3.44 3.18 3.86 ...\n",
      " $ area.error             : num  74.1 94 27.2 53.9 51 ...\n",
      " $ smoothness.error       : num  0.00522 0.00615 0.00911 0.00431 0.00881 ...\n",
      " $ compactness.error      : num  0.0131 0.0401 0.0746 0.0138 0.0303 ...\n",
      " $ concavity.error        : num  0.0186 0.0383 0.0566 0.0225 0.0249 ...\n",
      " $ concave.points.error   : num  0.0134 0.0206 0.0187 0.0104 0.0145 ...\n",
      " $ symmetry.error         : num  0.0139 0.0225 0.0596 0.0137 0.0149 ...\n",
      " $ fractal.dimension.error: num  0.00353 0.00457 0.00921 0.00218 0.00541 ...\n",
      " $ worst.radius           : num  25 23.6 14.9 22.9 17.1 ...\n",
      " $ worst.texture          : num  23.4 25.5 26.5 27.7 28.1 ...\n",
      " $ worst.perimeter        : num  158.8 152.5 98.9 153.2 110.6 ...\n",
      " $ worst.area             : num  1956 1709 568 1606 897 ...\n",
      " $ worst.smoothness       : num  0.124 0.144 0.21 0.144 0.165 ...\n",
      " $ worst.compactness      : num  0.187 0.424 0.866 0.258 0.368 ...\n",
      " $ worst.concavity        : num  0.242 0.45 0.687 0.378 0.268 ...\n",
      " $ worst.concave.points   : num  0.186 0.243 0.258 0.193 0.156 ...\n",
      " $ worst.symmetry         : num  0.275 0.361 0.664 0.306 0.32 ...\n",
      " $ worst.fractal.dimension: num  0.089 0.0876 0.173 0.0837 0.1151 ...\n",
      " $ is_cancer              : Factor w/ 2 levels \"0\",\"1\": 1 1 1 1 1 1 1 1 1 1 ...\n"
     ]
    }
   ],
   "source": [
    "### train / test 분할\n",
    "set.seed(1)\n",
    "table(dat$is_cancer)\n",
    "idx = createDataPartition(dat$is_cancer, p = 0.7, list=F)\n",
    "train = dat[idx,]\n",
    "test = dat[-idx,]\n",
    "table(train$is_cancer)\n",
    "table(test$is_cancer)\n",
    "str(train)"
   ]
  },
  {
   "cell_type": "code",
   "execution_count": null,
   "metadata": {},
   "outputs": [],
   "source": [
    "### randomforest\n",
    "control = trainControl(method='cv', search='random', number=5,verbose = TRUE)\n",
    "rf.model <- train(\n",
    "  is_cancer ~ .,\n",
    "  data = train,\n",
    "  tuneLength = 10,\n",
    "  trControl = control,\n",
    "  method=\"rf\")\n",
    "\n",
    "\n",
    "rf.grid = expand.grid(\n",
    "  .mtry = c(1,3,5)\n",
    ")\n",
    "control = trainControl(method='cv', search='grid', number=5,verbose = TRUE)\n",
    "rf.model <- train(\n",
    "  is_cancer ~ .,\n",
    "  data = test,\n",
    "  tuneGrid = rf.grid,\n",
    "  trControl = control,\n",
    "  method = 'rf'\n",
    ")\n",
    "rf.model\n",
    "\n",
    "pred.rf <- predict(rf.model,test[-31])\n",
    "confusionMatrix(pred.rf, test[,31])"
   ]
  },
  {
   "cell_type": "code",
   "execution_count": null,
   "metadata": {},
   "outputs": [],
   "source": [
    "### xgboost\n",
    "## random 탐색\n",
    "control = trainControl(method='cv', search='random', number=5,verbose = TRUE)\n",
    "xgb.model <- train(\n",
    "  is_cancer ~ .,\n",
    "  data = train,\n",
    "  tuneLength = 10,\n",
    "  trControl = control,\n",
    "  method=\"xgbTree\")\n",
    "\n",
    "xgb.model\n",
    "\n",
    "pred.xgb <- predict(xgb.model,test[-31])\n",
    "confusionMatrix(pred.xgb, test[,31])"
   ]
  },
  {
   "cell_type": "code",
   "execution_count": null,
   "metadata": {},
   "outputs": [],
   "source": [
    "## 격자 탐색\n",
    "xgb.grid = expand.grid(\n",
    "  nrounds = c(300,500),\n",
    "  eta = c(0.03,0.05),\n",
    "  gamma = c(3,5),\n",
    "  max_depth = c(4,6),\n",
    "  min_child_weight = c(6,8),\n",
    "  colsample_bytree = c(0.3,0.5),\n",
    "  subsample = c(0.2,0.6)\n",
    ")\n",
    "\n",
    "control = trainControl(method='cv', search='grid', number=5,verbose = TRUE)\n",
    "xgb.model <- train(\n",
    "  is_cancer ~ .,\n",
    "  data = test,\n",
    "  tuneGrid = xgb.grid,\n",
    "  trControl = control,\n",
    "  method = 'xgbTree'\n",
    ")"
   ]
  },
  {
   "cell_type": "code",
   "execution_count": null,
   "metadata": {},
   "outputs": [],
   "source": [
    "### gbm\n",
    "## random 탐색\n",
    "control = trainControl(method='cv', search='random', number=2,verbose = TRUE)\n",
    "gbm.model <- train(\n",
    "  is_cancer ~ .,\n",
    "  data = train,\n",
    "  tuneLength = 3,\n",
    "  trControl = control,\n",
    "  method=\"gbm\")\n",
    "\n",
    "gbm.model$bestTune\n",
    "\n",
    "pred.gbm <- predict(gbm.model,test[-31])\n",
    "confusionMatrix(pred.gbm, test[,31])\n",
    "\n",
    "## 격자 탐색\n",
    "gbm.grid = expand.grid(\n",
    "  shrinkage = c(0.1,0.3),\n",
    "  interaction.depth = c(3,6,9),\n",
    "  n.minobsinnode = c(5,10,15),\n",
    "  n.trees = c(500,100,1500)\n",
    ")\n",
    "\n",
    "control = trainControl(method='cv', search='grid', number=5,verbose = TRUE)\n",
    "gbm.model <- train(\n",
    "  is_cancer ~ .,\n",
    "  data = test,\n",
    "  tuneGrid = gbm.grid,\n",
    "  trControl = control,\n",
    "  method = 'gbm'\n",
    ")\n",
    "\n",
    "pred.gbm <- predict(gbm.model,test[-31])\n",
    "confusionMatrix(pred.gbm, test[,31])"
   ]
  },
  {
   "cell_type": "code",
   "execution_count": null,
   "metadata": {},
   "outputs": [],
   "source": [
    "dim(train)\n",
    "# ### lime\n",
    "# #### lime ####\n",
    "# explainer <- lime(train[,-31], xgb.model)\n",
    "# explanation <- explain(test[1:5,-31],            # test data\n",
    "#                        explainer,                # lime 적용 \n",
    "#                        labels = NULL,            # 모델이 분류기일 경우 지정\n",
    "#                        n_labels = 1,          # 모델이 분류기일 경우 지정\n",
    "#                        n_features = 3,           # 각 설명에 사용할 기능의 수\n",
    "#                        #n_permutations = 2,      # 각 설명에 사용할 순열 수\n",
    "#                        feature_select = 'auto',  # auto, highest_weighs, none,\n",
    "#                        # forward_selection, lasso_path, tree\n",
    "#                        dist_fun = 'gower',       # 거리 함수\n",
    "#                        kernel_width = NULL       # dist_fun이 gower일 경우 NULL\n",
    "# )\n",
    "# explanation[,1:9]\n",
    "# plot_features(explanation, ncol = 2)\n",
    "# ?explain\n"
   ]
  },
  {
   "cell_type": "code",
   "execution_count": null,
   "metadata": {},
   "outputs": [],
   "source": []
  }
 ],
 "metadata": {
  "kernelspec": {
   "display_name": "R",
   "language": "R",
   "name": "ir"
  },
  "language_info": {
   "codemirror_mode": "r",
   "file_extension": ".r",
   "mimetype": "text/x-r-source",
   "name": "R",
   "pygments_lexer": "r",
   "version": "3.4.3"
  }
 },
 "nbformat": 4,
 "nbformat_minor": 2
}
