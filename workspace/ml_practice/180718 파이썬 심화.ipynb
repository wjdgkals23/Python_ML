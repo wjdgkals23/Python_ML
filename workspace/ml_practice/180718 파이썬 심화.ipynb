{
 "cells": [
  {
   "cell_type": "markdown",
   "metadata": {
    "collapsed": true
   },
   "source": [
    "# python 특징\n",
    "\n",
    "+ 플랫폼 독립적  \n",
    "플랫폼 (윈도우, 리눅스, 안드로이드 등 프로그램이 실행되는 운영체제)에   \n",
    "독립적 (os에 상관없이 한번 프로그램을 작성(코드를 짜놓으면)하면 사용가능)  \n",
    "\n",
    "\n",
    "+ 인터프리터 언어 ex) 파이썬, 스칼라   \n",
    "통역기를 사용하는 언어 (소스코드를 바로 실행할 수 있게 지원하는 프로그램 실행방법/ 별도의 번역과정 없이 소스코드를 실행시점에 해석)  \n",
    "간단히 작성, 메모리가 적게 필요, but 실행속도가 느림  \n",
    " vs 컴파일러 언어 ex) C C++ C# JAVA...  \n",
    "   ( 소스코드를 기계어로 먼저 번역, 해당 플랫폼에 최적화되어 프로그램을 실행)  \n",
    "   실행속도가 빠름 but 한번의 많은 기억장소 필요  \n",
    "\n",
    "\n",
    "+ 객체지향  \n",
    "실행순서가 아닌 모듈(객체) 중심으로 프로그램을 작성  \n",
    "\n",
    "\n",
    "+ 동적 타이핑 언어  \n",
    "프로그램이 실행하는 시점에 프로그램이 사용해야 할 데이터에 대한 타입을 결정함  "
   ]
  },
  {
   "cell_type": "code",
   "execution_count": 1,
   "metadata": {},
   "outputs": [
    {
     "data": {
      "text/plain": [
       "'Hello, Dongkyu'"
      ]
     },
     "execution_count": 1,
     "metadata": {},
     "output_type": "execute_result"
    }
   ],
   "source": [
    "# Python 함수의 특징\n",
    "# 1. 변수에 할당할 수 있다.\n",
    "def greet(name):\n",
    "    return \"Hello, {}\".format(name)\n",
    "\n",
    "g = greet\n",
    "g('Dongkyu')"
   ]
  },
  {
   "cell_type": "code",
   "execution_count": 2,
   "metadata": {},
   "outputs": [
    {
     "data": {
      "text/plain": [
       "'Hello Hyungyung'"
      ]
     },
     "execution_count": 2,
     "metadata": {},
     "output_type": "execute_result"
    }
   ],
   "source": [
    "# 2. 다른 함수 내에서 정의될 수 있다.\n",
    "def greeting(name):\n",
    "    def greet_message():\n",
    "        return 'Hello'\n",
    "    return \"{} {}\".format(greet_message(), name)\n",
    "\n",
    "greeting('Hyungyung')"
   ]
  },
  {
   "cell_type": "code",
   "execution_count": 3,
   "metadata": {},
   "outputs": [
    {
     "data": {
      "text/plain": [
       "'Hello, Hosung'"
      ]
     },
     "execution_count": 3,
     "metadata": {},
     "output_type": "execute_result"
    }
   ],
   "source": [
    "# 3. 함수의 인자로 전달할 수 있다.\n",
    "def change_name_greet(func):\n",
    "    name = \"Hosung\"\n",
    "    return func(name) # 인자로 받은 함수를 적용\n",
    "\n",
    "change_name_greet(greet)\n",
    "          "
   ]
  },
  {
   "cell_type": "code",
   "execution_count": 7,
   "metadata": {},
   "outputs": [
    {
     "data": {
      "text/plain": [
       "'HELLO, INGGEOL'"
      ]
     },
     "execution_count": 7,
     "metadata": {},
     "output_type": "execute_result"
    }
   ],
   "source": [
    "# 4. 함수의 반환값이 될 수 있다.\n",
    "def uppercase(func): \n",
    "    def wrapper(name):\n",
    "        result = func(name)\n",
    "        return result.upper()\n",
    "    return wrapper # 내부 정의된 함수를 밖으로 꺼낸다?\n",
    "\n",
    "new_greet = uppercase(greet)\n",
    "new_greet(\"Inggeol\")"
   ]
  },
  {
   "cell_type": "code",
   "execution_count": 8,
   "metadata": {},
   "outputs": [
    {
     "name": "stdout",
     "output_type": "stream",
     "text": [
      "0 pen\n",
      "1 apple\n",
      "2 pineapple\n"
     ]
    }
   ],
   "source": [
    "documents = [\"pen\",\"apple\",\"pineapple\"]\n",
    "for i in range(len(documents)):\n",
    "    document = documents[i]\n",
    "    print (i, document) # 파이썬스럽지 않다"
   ]
  },
  {
   "cell_type": "code",
   "execution_count": 9,
   "metadata": {},
   "outputs": [
    {
     "name": "stdout",
     "output_type": "stream",
     "text": [
      "0 pen\n",
      "1 apple\n",
      "2 pineapple\n"
     ]
    }
   ],
   "source": [
    "# 인덱스와 list항목 동시에! 편리함!\n",
    "for i, document in enumerate(documents):\n",
    "    print (i, document)"
   ]
  },
  {
   "cell_type": "code",
   "execution_count": 10,
   "metadata": {},
   "outputs": [
    {
     "name": "stdout",
     "output_type": "stream",
     "text": [
      "0\n",
      "1\n",
      "2\n"
     ]
    }
   ],
   "source": [
    "for i, _ in enumerate(documents): print (i) "
   ]
  },
  {
   "cell_type": "code",
   "execution_count": 11,
   "metadata": {},
   "outputs": [
    {
     "data": {
      "text/plain": [
       "2"
      ]
     },
     "execution_count": 11,
     "metadata": {},
     "output_type": "execute_result"
    }
   ],
   "source": [
    "def find(lst, x):\n",
    "    for (i, e) in enumerate(lst):\n",
    "        if e == x:\n",
    "            return i\n",
    "    return None\n",
    "\n",
    "lst = [5, 4, 3, 2, 1]\n",
    "find(lst, 3)"
   ]
  },
  {
   "cell_type": "code",
   "execution_count": 12,
   "metadata": {},
   "outputs": [
    {
     "name": "stdout",
     "output_type": "stream",
     "text": [
      "True\n",
      "True\n",
      "False\n",
      "True\n"
     ]
    }
   ],
   "source": [
    "# Boolean의 편리한 사용\n",
    "x = 15\n",
    "print(10 < x and x < 20)\n",
    "print(10 < x < 20)\n",
    "print(20 < x == 15)\n",
    "print(15 == x < 20)"
   ]
  },
  {
   "cell_type": "code",
   "execution_count": 10,
   "metadata": {},
   "outputs": [
    {
     "ename": "ZeroDivisionError",
     "evalue": "division by zero",
     "output_type": "error",
     "traceback": [
      "\u001b[1;31m---------------------------------------------------------------------------\u001b[0m",
      "\u001b[1;31mZeroDivisionError\u001b[0m                         Traceback (most recent call last)",
      "\u001b[1;32m<ipython-input-10-c219076ba85b>\u001b[0m in \u001b[0;36m<module>\u001b[1;34m()\u001b[0m\n\u001b[1;32m----> 1\u001b[1;33m \u001b[0mprint\u001b[0m\u001b[1;33m(\u001b[0m\u001b[1;36m5\u001b[0m\u001b[1;33m/\u001b[0m\u001b[1;36m0\u001b[0m \u001b[1;33m==\u001b[0m \u001b[1;36m1\u001b[0m\u001b[1;33m)\u001b[0m \u001b[1;31m# 원래는 error 발생\u001b[0m\u001b[1;33m\u001b[0m\u001b[0m\n\u001b[0m",
      "\u001b[1;31mZeroDivisionError\u001b[0m: division by zero"
     ]
    }
   ],
   "source": [
    "print(5/0 == 1) # 원래는 error 발생"
   ]
  },
  {
   "cell_type": "code",
   "execution_count": 11,
   "metadata": {},
   "outputs": [
    {
     "name": "stdout",
     "output_type": "stream",
     "text": [
      "False\n",
      "False\n",
      "True\n"
     ]
    }
   ],
   "source": [
    "# Short-cut evalutation\n",
    "print(4 == 5 == 3/0)\n",
    "print(4 == 5 and 5/0 == 1)\n",
    "print(5 < 6 or 5/0 == 1)"
   ]
  },
  {
   "cell_type": "code",
   "execution_count": 12,
   "metadata": {},
   "outputs": [
    {
     "name": "stdout",
     "output_type": "stream",
     "text": [
      "---값을 이용하여 위치를 찾는 기능---\n",
      "1\n",
      "---리스트 뒤에 값을 추가 (‘+’연산자 보다 성능이 좋음)---\n",
      "['a', 'c', 'e', 'g', 1, 2, 3]\n",
      "---원하는 위치에 값을 추가---\n",
      "['a', 'c', 'hello', 'e', 'g', 1, 2, 3]\n",
      "---값을 역순으로 정렬---\n",
      "[3, 2, 1, 'g', 'e', 'hello', 'c', 'a']\n"
     ]
    }
   ],
   "source": [
    "# 리스트 기본 함수들\n",
    "list1 = ['a', 'c', 'e', 'g']\n",
    "print('---값을 이용하여 위치를 찾는 기능---')\n",
    "print(list1.index('c'))\n",
    "print('---리스트 뒤에 값을 추가 (‘+’연산자 보다 성능이 좋음)---')\n",
    "list2 = [1,2,3]\n",
    "list1.extend(list2)\n",
    "print(list1)\n",
    "print('---원하는 위치에 값을 추가---')\n",
    "list1.insert(2, 'hello')\n",
    "print(list1)\n",
    "print('---값을 역순으로 정렬---')\n",
    "list1.reverse()\n",
    "print(list1)"
   ]
  },
  {
   "cell_type": "code",
   "execution_count": 13,
   "metadata": {},
   "outputs": [
    {
     "name": "stdout",
     "output_type": "stream",
     "text": [
      "-----리스트와 문자열은 유사합니다-----\n",
      "['h', 'e', 'l', 'l', 'o']\n",
      "----- string ==> list -----\n",
      "['python은', '프로그래밍을', '배우기에', '아주', '좋은', '언어입니다.']\n",
      "['10', '34', '17']\n",
      "----- list ==> string -----\n",
      "10:34:17\n"
     ]
    }
   ],
   "source": [
    "char = list('hello')\n",
    "print('-----리스트와 문자열은 유사합니다-----')\n",
    "print(char)\n",
    "words = \"python은 프로그래밍을 배우기에 아주 좋은 언어입니다.\"\n",
    "words_list = words.split()\n",
    "print('----- string ==> list -----')\n",
    "print(words_list)\n",
    "time_str = \"10:34:17\"\n",
    "time_list = time_str.split(':')\n",
    "print(time_list)\n",
    "print('----- list ==> string -----')\n",
    "time_new_str = ':'.join(time_list)\n",
    "print(time_new_str)"
   ]
  },
  {
   "cell_type": "code",
   "execution_count": 14,
   "metadata": {},
   "outputs": [
    {
     "name": "stdout",
     "output_type": "stream",
     "text": [
      "[3, 2, 1, 'g', 'e', 'hello', 'c', 'a']\n",
      "[1, 'g', 'e', 'hello', 'c', 'a']\n",
      "[3, 2]\n",
      "a\n",
      "[2, 'g', 'hello']\n",
      "['a', 'c', 'hello', 'e']\n",
      "['a', 'hello', 'g', 2]\n"
     ]
    }
   ],
   "source": [
    "print(list1[:])\n",
    "print(list1[2:])\n",
    "print(list1[:2])\n",
    "print(list1[-1])\n",
    "print(list1[1:7:2])\n",
    "print(list1[7:3:-1])\n",
    "print(list1[::-2])"
   ]
  },
  {
   "cell_type": "code",
   "execution_count": 15,
   "metadata": {},
   "outputs": [
    {
     "name": "stdout",
     "output_type": "stream",
     "text": [
      "[3, 8, 'e', 'hello', 'c', 'a']\n",
      "[3, 77, 88, 99, 'hello', 'c', 'a']\n"
     ]
    }
   ],
   "source": [
    "list1[1:4] = [8] # 더 적은 개수로 변환 ([2]와 [3]값은 삭제)\n",
    "print(list1)\n",
    "list1[1:3] = [77,88,99] # 더 많은 개수로 변환 (99값은 그대로 추가)\n",
    "print(list1)"
   ]
  },
  {
   "cell_type": "code",
   "execution_count": 16,
   "metadata": {},
   "outputs": [
    {
     "name": "stdout",
     "output_type": "stream",
     "text": [
      "[1, 3]\n",
      "[1, 3, 2]\n"
     ]
    }
   ],
   "source": [
    "# 단순 객체복제\n",
    "# y는 x와 같은 객체(리스트)의 주소를 바라보는 변수가 됨 \n",
    "# -> 동일한 객체를 참조하기 때문에 값 수정, 삭제, 추가를 공유\n",
    "x = [1,2,3]\n",
    "y = x\n",
    "del y[1]\n",
    "print(x)\n",
    "y.append(2)\n",
    "print(x)"
   ]
  },
  {
   "cell_type": "code",
   "execution_count": 17,
   "metadata": {},
   "outputs": [
    {
     "name": "stdout",
     "output_type": "stream",
     "text": [
      "10\n",
      "2\n",
      "10\n"
     ]
    }
   ],
   "source": [
    "# 예외 경우\n",
    "a = 10\n",
    "b = a     \n",
    "print(b)    # 10 출력력\n",
    "b = 2\n",
    "print(b)    # abc 출력\n",
    "print(a)    # 10 출력"
   ]
  },
  {
   "cell_type": "code",
   "execution_count": 18,
   "metadata": {},
   "outputs": [
    {
     "name": "stdout",
     "output_type": "stream",
     "text": [
      "-------shallow copy 발생-------\n",
      "[1, [1, 2, 3]]\n",
      "-------변경된 copied list-------\n",
      "[[1, 2, 3]]\n",
      "-------original list(no change)-------\n",
      "[1, [1, 2, 3]]\n",
      "-------여전히 append에 대해서도 원 객체는 변동이 없음-------\n",
      "[1, [1, 2, 3]]\n",
      "-------리스트의 두번째 item(내부리스트)에 4를 추가-------\n",
      "[1, [1, 2, 3, 4]]\n",
      "[1, [1, 2, 3, 4]]\n"
     ]
    }
   ],
   "source": [
    "# 얕은 복사 (shallow copy)\n",
    "# 복합객체(리스트)는 별도로 생성하지만 그 안의 내용(내부객체)은 동일한 객체를 참조\n",
    "import copy as cp\n",
    "a = [1, [1,2,3]]\n",
    "b = cp.copy(a)\n",
    "print('-------shallow copy 발생-------')\n",
    "print(b)\n",
    "del b[0]\n",
    "print('-------변경된 copied list-------')\n",
    "print(b)\n",
    "print('-------original list(no change)-------')\n",
    "print(a)\n",
    "# del b[1]\n",
    "c = cp.copy(a)\n",
    "c.append(4)\n",
    "print('-------여전히 append에 대해서도 원 객체는 변동이 없음-------')\n",
    "print(a)\n",
    "print('-------리스트의 두번째 item(내부리스트)에 4를 추가-------')\n",
    "del c[2]\n",
    "c[1].append(4)\n",
    "print(c)\n",
    "print(a)\n",
    "# b의 경우 요소 하나(int)는 immutable하기 때문에 a에는 요소 삭제가 반영되지 않음\n",
    "# c의 경우 내부리스트는 같은 객체를 참조(단순복제와 같음)해 mutable함"
   ]
  },
  {
   "cell_type": "code",
   "execution_count": 19,
   "metadata": {},
   "outputs": [
    {
     "name": "stdout",
     "output_type": "stream",
     "text": [
      "-------deep copy 발생-------\n",
      "[0, [1, 2, 3]]\n",
      "-------original list는 불변-------\n",
      "[100, [1, 2, 3, 4]]\n",
      "[0, [1, 2, 3]]\n"
     ]
    }
   ],
   "source": [
    "# 깊은 복사 (deep copy)\n",
    "# 복합객체 새롭게 생성, 내부객체까지 재귀적으로 새롭게 생성\n",
    "a = [0, [1,2,3]]\n",
    "b = cp.deepcopy(a)\n",
    "print('-------deep copy 발생-------')\n",
    "print(b)\n",
    "b[0] = 100\n",
    "b[1].append(4)\n",
    "print('-------original list는 불변-------')\n",
    "print(b)\n",
    "print(a)"
   ]
  },
  {
   "cell_type": "code",
   "execution_count": 20,
   "metadata": {},
   "outputs": [
    {
     "name": "stdout",
     "output_type": "stream",
     "text": [
      "1 2 3 4 5\n"
     ]
    }
   ],
   "source": [
    "# 패킹과 언패킹\n",
    "numbers = (1, 2, 3, 4, 5)\n",
    "(a, b, c, d, e) = numbers\n",
    "print(a, b, c, d, e)"
   ]
  },
  {
   "cell_type": "code",
   "execution_count": 21,
   "metadata": {},
   "outputs": [
    {
     "name": "stdout",
     "output_type": "stream",
     "text": [
      "1 4\n",
      "-------simple rest-------\n",
      "1 2 (3, 4, 5)\n",
      "-------나머지를 rest에 대입-------\n",
      "1 2 [3, 4, 5]\n",
      "-------print only rest-------\n",
      "[2, 3, 4]\n"
     ]
    }
   ],
   "source": [
    "# 대입문에서는 괄호 생략하는 경우가 많음\n",
    "numbers = 1, 2, 3, 4, 5 # 패킹\n",
    "a, b, c, d, e = numbers # 언패킹\n",
    "a, b, c, _, e = numbers \n",
    "a, _, _, d, _ = numbers\n",
    "print(a, d)\n",
    "# 별 기호가 붙은 변수에는 다른 변수에 대입하고 남은 전체를 리스트에 담아 대입\n",
    "a, b = numbers[0], numbers[1]\n",
    "rest = numbers[2:] # rest = (3, 4, 5)\n",
    "print('-------simple rest-------')\n",
    "print(a, b, rest)\n",
    "print('-------나머지를 rest에 대입-------')\n",
    "a, b, *rest = numbers\n",
    "print(a, b, rest)\n",
    "print('-------print only rest-------')\n",
    "a, *rest, e = numbers\n",
    "print(rest)"
   ]
  },
  {
   "cell_type": "code",
   "execution_count": 22,
   "metadata": {},
   "outputs": [
    {
     "name": "stdout",
     "output_type": "stream",
     "text": [
      "1917년 9월 4일\n",
      "1917년 9월 4일\n",
      "2018년 7월 7일\n",
      "2018년 7월 18일\n",
      "2018년 7월 28일\n"
     ]
    }
   ],
   "source": [
    "def date_to_str(y, m, d):\n",
    "    print (str(y) + '년 '+ str(m) + '월 ' + str(d) + '일')\n",
    "\n",
    "date = (1917, 9, 4)\n",
    "date_dict = {'y': 2018, 'm': 7, 'd': 28}\n",
    "date_to_str(date[0], date[1], date[2])\n",
    "date_to_str(*date) # 언패킹\n",
    "date_to_str(*[2018, 7, 7])\n",
    "date_to_str(2018, *(7, 18))\n",
    "date_to_str(**date_dict)"
   ]
  },
  {
   "cell_type": "code",
   "execution_count": 23,
   "metadata": {},
   "outputs": [
    {
     "ename": "TypeError",
     "evalue": "date_to_str() got an unexpected keyword argument 'a'",
     "output_type": "error",
     "traceback": [
      "\u001b[1;31m---------------------------------------------------------------------------\u001b[0m",
      "\u001b[1;31mTypeError\u001b[0m                                 Traceback (most recent call last)",
      "\u001b[1;32m<ipython-input-23-011609b40e0e>\u001b[0m in \u001b[0;36m<module>\u001b[1;34m()\u001b[0m\n\u001b[0;32m      1\u001b[0m \u001b[0mdict2\u001b[0m \u001b[1;33m=\u001b[0m \u001b[1;33m{\u001b[0m\u001b[1;34m'a'\u001b[0m\u001b[1;33m:\u001b[0m \u001b[1;36m2018\u001b[0m\u001b[1;33m,\u001b[0m \u001b[1;34m'm'\u001b[0m\u001b[1;33m:\u001b[0m \u001b[1;36m7\u001b[0m\u001b[1;33m,\u001b[0m \u001b[1;34m'd'\u001b[0m\u001b[1;33m:\u001b[0m \u001b[1;36m28\u001b[0m\u001b[1;33m}\u001b[0m\u001b[1;33m\u001b[0m\u001b[0m\n\u001b[1;32m----> 2\u001b[1;33m \u001b[0mdate_to_str\u001b[0m\u001b[1;33m(\u001b[0m\u001b[1;33m**\u001b[0m\u001b[0mdict2\u001b[0m\u001b[1;33m)\u001b[0m\u001b[1;33m\u001b[0m\u001b[0m\n\u001b[0m",
      "\u001b[1;31mTypeError\u001b[0m: date_to_str() got an unexpected keyword argument 'a'"
     ]
    }
   ],
   "source": [
    "dict2 = {'a': 2018, 'm': 7, 'd': 28}\n",
    "date_to_str(**dict2)"
   ]
  },
  {
   "cell_type": "code",
   "execution_count": 24,
   "metadata": {},
   "outputs": [
    {
     "name": "stdout",
     "output_type": "stream",
     "text": [
      "3 4\n",
      "2 3\n"
     ]
    }
   ],
   "source": [
    "def draw_point(x, y):\n",
    "# do some magic\n",
    "    print(x, y)\n",
    "    \n",
    "# argument packing (인자 해체)\n",
    "point_foo = (3, 4)\n",
    "point_bar = {'y': 3, 'x': 2}\n",
    "\n",
    "draw_point(*point_foo) # tuple 타입을 해제\n",
    "draw_point(**point_bar) # dictionary 타입을 해제 (mapping을 언패킹)"
   ]
  },
  {
   "cell_type": "code",
   "execution_count": 25,
   "metadata": {},
   "outputs": [],
   "source": [
    "# 매핑으로 인풋 받기\n",
    "def draw_tuple(*args): # tuple 타입으로 변환 후 인풋\n",
    "    print(args)\n",
    "    \n",
    "def draw_dict(**kwargs): # dictionary 타입으로 변환 후 인풋\n",
    "    print(kwargs)\n",
    "    for key in kwargs:\n",
    "        print(key, kwargs[key])"
   ]
  },
  {
   "cell_type": "code",
   "execution_count": 26,
   "metadata": {},
   "outputs": [
    {
     "name": "stdout",
     "output_type": "stream",
     "text": [
      "---empty---\n",
      "()\n",
      "---one element---\n",
      "(1,)\n",
      "---str---\n",
      "('hello', 'world')\n",
      "---dictionary---\n",
      "{'yungje': 80, 'sangjun': 85, 'inggeol': 90}\n",
      "yungje 80\n",
      "sangjun 85\n",
      "inggeol 90\n"
     ]
    }
   ],
   "source": [
    "print(\"---empty---\")\n",
    "draw_tuple()\n",
    "print(\"---one element---\")\n",
    "draw_tuple(1)\n",
    "print(\"---str---\")\n",
    "draw_tuple(\"hello\", 'world')\n",
    "print(\"---dictionary---\")\n",
    "draw_dict(yungje=80, sangjun=85, inggeol=90)"
   ]
  },
  {
   "cell_type": "code",
   "execution_count": 27,
   "metadata": {},
   "outputs": [
    {
     "name": "stdout",
     "output_type": "stream",
     "text": [
      "2018년 7월 30일\n",
      "2018년 7월 30일 2시\n"
     ]
    }
   ],
   "source": [
    "def date_to_str(y, m, d, **kwargs):\n",
    "    result = str(y) + '년 '+ str(m) + '월 ' + str(d) + '일'\n",
    "    if 'h' in kwargs:\n",
    "        result += ' ' + str(kwargs['h']) + '시'\n",
    "    print(result)\n",
    "    \n",
    "date_to_str(2018, 7, 30)\n",
    "date_to_str(2018, 7, 30, h=2)"
   ]
  },
  {
   "cell_type": "code",
   "execution_count": 30,
   "metadata": {},
   "outputs": [
    {
     "name": "stdout",
     "output_type": "stream",
     "text": [
      "1\n",
      "2\n",
      "3\n"
     ]
    },
    {
     "ename": "TypeError",
     "evalue": "'list' object is not an iterator",
     "output_type": "error",
     "traceback": [
      "\u001b[1;31m---------------------------------------------------------------------------\u001b[0m",
      "\u001b[1;31mTypeError\u001b[0m                                 Traceback (most recent call last)",
      "\u001b[1;32m<ipython-input-30-8824b7db4235>\u001b[0m in \u001b[0;36m<module>\u001b[1;34m()\u001b[0m\n\u001b[0;32m      3\u001b[0m \u001b[1;32mfor\u001b[0m \u001b[0mi\u001b[0m \u001b[1;32min\u001b[0m \u001b[0mx\u001b[0m\u001b[1;33m:\u001b[0m\u001b[1;33m\u001b[0m\u001b[0m\n\u001b[0;32m      4\u001b[0m     \u001b[0mprint\u001b[0m\u001b[1;33m(\u001b[0m\u001b[0mi\u001b[0m\u001b[1;33m)\u001b[0m\u001b[1;33m\u001b[0m\u001b[0m\n\u001b[1;32m----> 5\u001b[1;33m \u001b[0mnext\u001b[0m\u001b[1;33m(\u001b[0m\u001b[0mx\u001b[0m\u001b[1;33m)\u001b[0m\u001b[1;33m\u001b[0m\u001b[0m\n\u001b[0m",
      "\u001b[1;31mTypeError\u001b[0m: 'list' object is not an iterator"
     ]
    }
   ],
   "source": [
    "# Iterator\n",
    "x = [1, 2, 3]\n",
    "for i in x:\n",
    "    print(i)\n",
    "next(x) #기본자료형에만 해당"
   ]
  },
  {
   "cell_type": "code",
   "execution_count": 31,
   "metadata": {},
   "outputs": [
    {
     "name": "stdout",
     "output_type": "stream",
     "text": [
      "<class 'list_iterator'>\n",
      "1\n",
      "2\n",
      "3\n"
     ]
    },
    {
     "ename": "StopIteration",
     "evalue": "",
     "output_type": "error",
     "traceback": [
      "\u001b[1;31m---------------------------------------------------------------------------\u001b[0m",
      "\u001b[1;31mStopIteration\u001b[0m                             Traceback (most recent call last)",
      "\u001b[1;32m<ipython-input-31-a257ae1e00e4>\u001b[0m in \u001b[0;36m<module>\u001b[1;34m()\u001b[0m\n\u001b[0;32m      4\u001b[0m \u001b[0mprint\u001b[0m\u001b[1;33m(\u001b[0m\u001b[0mnext\u001b[0m\u001b[1;33m(\u001b[0m\u001b[0my\u001b[0m\u001b[1;33m)\u001b[0m\u001b[1;33m)\u001b[0m\u001b[1;33m\u001b[0m\u001b[0m\n\u001b[0;32m      5\u001b[0m \u001b[0mprint\u001b[0m\u001b[1;33m(\u001b[0m\u001b[0mnext\u001b[0m\u001b[1;33m(\u001b[0m\u001b[0my\u001b[0m\u001b[1;33m)\u001b[0m\u001b[1;33m)\u001b[0m\u001b[1;33m\u001b[0m\u001b[0m\n\u001b[1;32m----> 6\u001b[1;33m \u001b[0mprint\u001b[0m\u001b[1;33m(\u001b[0m\u001b[0mnext\u001b[0m\u001b[1;33m(\u001b[0m\u001b[0my\u001b[0m\u001b[1;33m)\u001b[0m\u001b[1;33m)\u001b[0m\u001b[1;33m\u001b[0m\u001b[0m\n\u001b[0m",
      "\u001b[1;31mStopIteration\u001b[0m: "
     ]
    }
   ],
   "source": [
    "y = iter(x)\n",
    "print(type(y))\n",
    "print(next(y))\n",
    "print(next(y))\n",
    "print(next(y))\n",
    "print(next(y))"
   ]
  },
  {
   "cell_type": "code",
   "execution_count": 32,
   "metadata": {},
   "outputs": [
    {
     "name": "stdout",
     "output_type": "stream",
     "text": [
      "<class 'generator'>\n",
      "1\n",
      "2\n",
      "3\n",
      "1\n",
      "2\n",
      "3\n"
     ]
    }
   ],
   "source": [
    "# Generator\n",
    "def gen():\n",
    "# 제너레이터 함수가 처음 호출되면 실행 중 처음 만나는 yield 값에서 값 리턴\n",
    "# 다시 호출되면 직전에 실행됐던 yield문 다음 부터 다음 yield문을 만날 때까지 문장들 실행\n",
    "    yield 1\n",
    "    yield 2\n",
    "    yield 3\n",
    "    \n",
    "g = gen()\n",
    "print(type(g))\n",
    "n = next(g); print(n)  # 1\n",
    "n = next(g); print(n)  # 2\n",
    "n = next(g); print(n)  # 3\n",
    "\n",
    "for x in gen():\n",
    "    print(x)"
   ]
  },
  {
   "cell_type": "code",
   "execution_count": 33,
   "metadata": {},
   "outputs": [
    {
     "name": "stdout",
     "output_type": "stream",
     "text": [
      "<class 'generator'>\n",
      "0\n",
      "1\n",
      "4\n",
      "9\n",
      "16\n",
      "25\n",
      "36\n",
      "49\n",
      "64\n",
      "81\n",
      "100\n",
      "121\n",
      "144\n",
      "169\n",
      "196\n",
      "225\n",
      "256\n",
      "289\n",
      "324\n",
      "361\n",
      "400\n",
      "441\n",
      "484\n",
      "529\n",
      "576\n",
      "625\n",
      "676\n",
      "729\n",
      "784\n",
      "841\n",
      "900\n",
      "961\n",
      "1024\n",
      "1089\n",
      "1156\n",
      "1225\n",
      "1296\n",
      "1369\n",
      "1444\n",
      "1521\n",
      "1600\n",
      "1681\n",
      "1764\n",
      "1849\n",
      "1936\n",
      "2025\n",
      "2116\n",
      "2209\n",
      "2304\n",
      "2401\n",
      "2500\n",
      "2601\n",
      "2704\n",
      "2809\n",
      "2916\n",
      "3025\n",
      "3136\n",
      "3249\n",
      "3364\n",
      "3481\n",
      "3600\n",
      "3721\n",
      "3844\n",
      "3969\n",
      "4096\n",
      "4225\n",
      "4356\n",
      "4489\n",
      "4624\n",
      "4761\n",
      "4900\n",
      "5041\n",
      "5184\n",
      "5329\n",
      "5476\n",
      "5625\n",
      "5776\n",
      "5929\n",
      "6084\n",
      "6241\n",
      "6400\n",
      "6561\n",
      "6724\n",
      "6889\n",
      "7056\n",
      "7225\n",
      "7396\n",
      "7569\n",
      "7744\n",
      "7921\n",
      "8100\n",
      "8281\n",
      "8464\n",
      "8649\n",
      "8836\n",
      "9025\n",
      "9216\n",
      "9409\n",
      "9604\n",
      "9801\n",
      "10000\n",
      "10201\n",
      "10404\n",
      "10609\n",
      "10816\n",
      "11025\n",
      "11236\n",
      "11449\n",
      "11664\n",
      "11881\n",
      "12100\n",
      "12321\n",
      "12544\n",
      "12769\n",
      "12996\n",
      "13225\n",
      "13456\n",
      "13689\n",
      "13924\n",
      "14161\n",
      "14400\n",
      "14641\n",
      "14884\n",
      "15129\n",
      "15376\n",
      "15625\n",
      "15876\n",
      "16129\n",
      "16384\n",
      "16641\n",
      "16900\n",
      "17161\n",
      "17424\n",
      "17689\n",
      "17956\n",
      "18225\n",
      "18496\n",
      "18769\n",
      "19044\n",
      "19321\n",
      "19600\n",
      "19881\n",
      "20164\n",
      "20449\n",
      "20736\n",
      "21025\n",
      "21316\n",
      "21609\n",
      "21904\n",
      "22201\n",
      "22500\n",
      "22801\n",
      "23104\n",
      "23409\n",
      "23716\n",
      "24025\n",
      "24336\n",
      "24649\n",
      "24964\n",
      "25281\n",
      "25600\n",
      "25921\n",
      "26244\n",
      "26569\n",
      "26896\n",
      "27225\n",
      "27556\n",
      "27889\n",
      "28224\n",
      "28561\n",
      "28900\n",
      "29241\n",
      "29584\n",
      "29929\n",
      "30276\n",
      "30625\n",
      "30976\n",
      "31329\n",
      "31684\n",
      "32041\n",
      "32400\n",
      "32761\n",
      "33124\n",
      "33489\n",
      "33856\n",
      "34225\n",
      "34596\n",
      "34969\n",
      "35344\n",
      "35721\n",
      "36100\n",
      "36481\n",
      "36864\n",
      "37249\n",
      "37636\n",
      "38025\n",
      "38416\n",
      "38809\n",
      "39204\n",
      "39601\n",
      "40000\n",
      "40401\n",
      "40804\n",
      "41209\n",
      "41616\n",
      "42025\n",
      "42436\n",
      "42849\n",
      "43264\n",
      "43681\n",
      "44100\n",
      "44521\n",
      "44944\n",
      "45369\n",
      "45796\n",
      "46225\n",
      "46656\n",
      "47089\n",
      "47524\n",
      "47961\n",
      "48400\n",
      "48841\n",
      "49284\n",
      "49729\n",
      "50176\n",
      "50625\n",
      "51076\n",
      "51529\n",
      "51984\n",
      "52441\n",
      "52900\n",
      "53361\n",
      "53824\n",
      "54289\n",
      "54756\n",
      "55225\n",
      "55696\n",
      "56169\n",
      "56644\n",
      "57121\n",
      "57600\n",
      "58081\n",
      "58564\n",
      "59049\n",
      "59536\n",
      "60025\n",
      "60516\n",
      "61009\n",
      "61504\n",
      "62001\n",
      "62500\n",
      "63001\n",
      "63504\n",
      "64009\n",
      "64516\n",
      "65025\n",
      "65536\n",
      "66049\n",
      "66564\n",
      "67081\n",
      "67600\n",
      "68121\n",
      "68644\n",
      "69169\n",
      "69696\n",
      "70225\n",
      "70756\n",
      "71289\n",
      "71824\n",
      "72361\n",
      "72900\n",
      "73441\n",
      "73984\n",
      "74529\n",
      "75076\n",
      "75625\n",
      "76176\n",
      "76729\n",
      "77284\n",
      "77841\n",
      "78400\n",
      "78961\n",
      "79524\n",
      "80089\n",
      "80656\n",
      "81225\n",
      "81796\n",
      "82369\n",
      "82944\n",
      "83521\n",
      "84100\n",
      "84681\n",
      "85264\n",
      "85849\n",
      "86436\n",
      "87025\n",
      "87616\n",
      "88209\n",
      "88804\n",
      "89401\n",
      "90000\n",
      "90601\n",
      "91204\n",
      "91809\n",
      "92416\n",
      "93025\n",
      "93636\n",
      "94249\n",
      "94864\n",
      "95481\n",
      "96100\n",
      "96721\n",
      "97344\n",
      "97969\n",
      "98596\n",
      "99225\n",
      "99856\n",
      "100489\n",
      "101124\n",
      "101761\n",
      "102400\n",
      "103041\n",
      "103684\n",
      "104329\n",
      "104976\n",
      "105625\n",
      "106276\n",
      "106929\n",
      "107584\n",
      "108241\n",
      "108900\n",
      "109561\n",
      "110224\n",
      "110889\n",
      "111556\n",
      "112225\n",
      "112896\n",
      "113569\n",
      "114244\n",
      "114921\n",
      "115600\n",
      "116281\n",
      "116964\n",
      "117649\n",
      "118336\n",
      "119025\n",
      "119716\n",
      "120409\n",
      "121104\n",
      "121801\n",
      "122500\n",
      "123201\n",
      "123904\n",
      "124609\n",
      "125316\n",
      "126025\n",
      "126736\n",
      "127449\n",
      "128164\n",
      "128881\n",
      "129600\n",
      "130321\n",
      "131044\n",
      "131769\n",
      "132496\n",
      "133225\n",
      "133956\n",
      "134689\n",
      "135424\n",
      "136161\n",
      "136900\n",
      "137641\n",
      "138384\n",
      "139129\n",
      "139876\n",
      "140625\n",
      "141376\n",
      "142129\n",
      "142884\n",
      "143641\n",
      "144400\n",
      "145161\n",
      "145924\n",
      "146689\n",
      "147456\n",
      "148225\n",
      "148996\n",
      "149769\n",
      "150544\n",
      "151321\n",
      "152100\n",
      "152881\n",
      "153664\n",
      "154449\n",
      "155236\n",
      "156025\n",
      "156816\n",
      "157609\n",
      "158404\n",
      "159201\n",
      "160000\n",
      "160801\n",
      "161604\n",
      "162409\n",
      "163216\n",
      "164025\n",
      "164836\n",
      "165649\n",
      "166464\n",
      "167281\n",
      "168100\n",
      "168921\n",
      "169744\n",
      "170569\n",
      "171396\n",
      "172225\n",
      "173056\n",
      "173889\n",
      "174724\n",
      "175561\n",
      "176400\n",
      "177241\n",
      "178084\n",
      "178929\n",
      "179776\n",
      "180625\n",
      "181476\n",
      "182329\n",
      "183184\n",
      "184041\n",
      "184900\n",
      "185761\n",
      "186624\n",
      "187489\n",
      "188356\n",
      "189225\n",
      "190096\n",
      "190969\n",
      "191844\n",
      "192721\n",
      "193600\n",
      "194481\n",
      "195364\n",
      "196249\n",
      "197136\n",
      "198025\n",
      "198916\n",
      "199809\n",
      "200704\n",
      "201601\n",
      "202500\n",
      "203401\n",
      "204304\n",
      "205209\n",
      "206116\n",
      "207025\n",
      "207936\n",
      "208849\n",
      "209764\n",
      "210681\n",
      "211600\n",
      "212521\n",
      "213444\n",
      "214369\n",
      "215296\n",
      "216225\n",
      "217156\n",
      "218089\n",
      "219024\n",
      "219961\n",
      "220900\n",
      "221841\n",
      "222784\n",
      "223729\n",
      "224676\n",
      "225625\n",
      "226576\n",
      "227529\n",
      "228484\n",
      "229441\n",
      "230400\n",
      "231361\n",
      "232324\n",
      "233289\n",
      "234256\n",
      "235225\n",
      "236196\n",
      "237169\n",
      "238144\n",
      "239121\n",
      "240100\n",
      "241081\n",
      "242064\n",
      "243049\n",
      "244036\n",
      "245025\n",
      "246016\n",
      "247009\n",
      "248004\n",
      "249001\n",
      "250000\n",
      "251001\n",
      "252004\n",
      "253009\n",
      "254016\n",
      "255025\n",
      "256036\n",
      "257049\n",
      "258064\n",
      "259081\n",
      "260100\n",
      "261121\n",
      "262144\n",
      "263169\n",
      "264196\n",
      "265225\n",
      "266256\n",
      "267289\n",
      "268324\n",
      "269361\n",
      "270400\n",
      "271441\n",
      "272484\n",
      "273529\n",
      "274576\n",
      "275625\n",
      "276676\n",
      "277729\n",
      "278784\n",
      "279841\n",
      "280900\n",
      "281961\n",
      "283024\n",
      "284089\n",
      "285156\n",
      "286225\n",
      "287296\n",
      "288369\n",
      "289444\n",
      "290521\n",
      "291600\n",
      "292681\n",
      "293764\n",
      "294849\n",
      "295936\n",
      "297025\n",
      "298116\n",
      "299209\n",
      "300304\n",
      "301401\n",
      "302500\n",
      "303601\n",
      "304704\n",
      "305809\n",
      "306916\n",
      "308025\n",
      "309136\n",
      "310249\n",
      "311364\n",
      "312481\n",
      "313600\n",
      "314721\n",
      "315844\n",
      "316969\n",
      "318096\n",
      "319225\n",
      "320356\n",
      "321489\n",
      "322624\n",
      "323761\n",
      "324900\n",
      "326041\n",
      "327184\n",
      "328329\n",
      "329476\n",
      "330625\n",
      "331776\n",
      "332929\n",
      "334084\n",
      "335241\n",
      "336400\n",
      "337561\n",
      "338724\n",
      "339889\n",
      "341056\n",
      "342225\n",
      "343396\n",
      "344569\n",
      "345744\n",
      "346921\n",
      "348100\n",
      "349281\n",
      "350464\n",
      "351649\n",
      "352836\n",
      "354025\n",
      "355216\n",
      "356409\n",
      "357604\n",
      "358801\n",
      "360000\n",
      "361201\n",
      "362404\n",
      "363609\n",
      "364816\n",
      "366025\n",
      "367236\n",
      "368449\n",
      "369664\n",
      "370881\n",
      "372100\n",
      "373321\n",
      "374544\n",
      "375769\n",
      "376996\n",
      "378225\n",
      "379456\n",
      "380689\n",
      "381924\n",
      "383161\n",
      "384400\n",
      "385641\n",
      "386884\n",
      "388129\n",
      "389376\n",
      "390625\n",
      "391876\n",
      "393129\n",
      "394384\n",
      "395641\n",
      "396900\n",
      "398161\n",
      "399424\n",
      "400689\n",
      "401956\n",
      "403225\n",
      "404496\n",
      "405769\n",
      "407044\n",
      "408321\n",
      "409600\n",
      "410881\n",
      "412164\n",
      "413449\n",
      "414736\n",
      "416025\n",
      "417316\n",
      "418609\n",
      "419904\n",
      "421201\n",
      "422500\n",
      "423801\n",
      "425104\n",
      "426409\n",
      "427716\n",
      "429025\n",
      "430336\n",
      "431649\n",
      "432964\n",
      "434281\n",
      "435600\n",
      "436921\n",
      "438244\n",
      "439569\n",
      "440896\n",
      "442225\n",
      "443556\n",
      "444889\n",
      "446224\n",
      "447561\n",
      "448900\n",
      "450241\n",
      "451584\n",
      "452929\n",
      "454276\n",
      "455625\n",
      "456976\n",
      "458329\n",
      "459684\n",
      "461041\n",
      "462400\n",
      "463761\n",
      "465124\n",
      "466489\n",
      "467856\n",
      "469225\n",
      "470596\n",
      "471969\n",
      "473344\n",
      "474721\n",
      "476100\n",
      "477481\n",
      "478864\n",
      "480249\n",
      "481636\n",
      "483025\n",
      "484416\n",
      "485809\n",
      "487204\n",
      "488601\n",
      "490000\n",
      "491401\n",
      "492804\n",
      "494209\n",
      "495616\n",
      "497025\n",
      "498436\n",
      "499849\n",
      "501264\n",
      "502681\n",
      "504100\n",
      "505521\n",
      "506944\n",
      "508369\n",
      "509796\n",
      "511225\n",
      "512656\n",
      "514089\n",
      "515524\n",
      "516961\n",
      "518400\n",
      "519841\n",
      "521284\n",
      "522729\n",
      "524176\n",
      "525625\n",
      "527076\n",
      "528529\n",
      "529984\n",
      "531441\n",
      "532900\n",
      "534361\n",
      "535824\n",
      "537289\n",
      "538756\n",
      "540225\n",
      "541696\n",
      "543169\n",
      "544644\n",
      "546121\n",
      "547600\n",
      "549081\n",
      "550564\n",
      "552049\n",
      "553536\n",
      "555025\n",
      "556516\n",
      "558009\n",
      "559504\n",
      "561001\n",
      "562500\n",
      "564001\n",
      "565504\n",
      "567009\n",
      "568516\n",
      "570025\n",
      "571536\n",
      "573049\n",
      "574564\n",
      "576081\n",
      "577600\n",
      "579121\n",
      "580644\n",
      "582169\n",
      "583696\n",
      "585225\n",
      "586756\n",
      "588289\n",
      "589824\n",
      "591361\n",
      "592900\n",
      "594441\n",
      "595984\n",
      "597529\n",
      "599076\n",
      "600625\n",
      "602176\n",
      "603729\n",
      "605284\n",
      "606841\n",
      "608400\n",
      "609961\n",
      "611524\n",
      "613089\n",
      "614656\n",
      "616225\n",
      "617796\n",
      "619369\n",
      "620944\n",
      "622521\n",
      "624100\n",
      "625681\n",
      "627264\n",
      "628849\n",
      "630436\n",
      "632025\n",
      "633616\n",
      "635209\n",
      "636804\n",
      "638401\n",
      "640000\n",
      "641601\n",
      "643204\n",
      "644809\n",
      "646416\n",
      "648025\n",
      "649636\n",
      "651249\n",
      "652864\n",
      "654481\n",
      "656100\n",
      "657721\n",
      "659344\n",
      "660969\n",
      "662596\n",
      "664225\n",
      "665856\n",
      "667489\n",
      "669124\n",
      "670761\n",
      "672400\n",
      "674041\n",
      "675684\n",
      "677329\n",
      "678976\n",
      "680625\n",
      "682276\n",
      "683929\n",
      "685584\n",
      "687241\n",
      "688900\n",
      "690561\n",
      "692224\n",
      "693889\n",
      "695556\n",
      "697225\n",
      "698896\n",
      "700569\n",
      "702244\n",
      "703921\n",
      "705600\n",
      "707281\n",
      "708964\n",
      "710649\n",
      "712336\n",
      "714025\n",
      "715716\n",
      "717409\n",
      "719104\n",
      "720801\n",
      "722500\n",
      "724201\n",
      "725904\n",
      "727609\n",
      "729316\n",
      "731025\n",
      "732736\n",
      "734449\n",
      "736164\n",
      "737881\n",
      "739600\n",
      "741321\n",
      "743044\n",
      "744769\n",
      "746496\n",
      "748225\n",
      "749956\n",
      "751689\n",
      "753424\n",
      "755161\n",
      "756900\n",
      "758641\n",
      "760384\n",
      "762129\n",
      "763876\n",
      "765625\n",
      "767376\n",
      "769129\n",
      "770884\n",
      "772641\n",
      "774400\n",
      "776161\n",
      "777924\n",
      "779689\n",
      "781456\n",
      "783225\n",
      "784996\n",
      "786769\n",
      "788544\n",
      "790321\n",
      "792100\n",
      "793881\n",
      "795664\n",
      "797449\n",
      "799236\n",
      "801025\n",
      "802816\n",
      "804609\n",
      "806404\n",
      "808201\n",
      "810000\n",
      "811801\n",
      "813604\n",
      "815409\n",
      "817216\n",
      "819025\n",
      "820836\n",
      "822649\n",
      "824464\n",
      "826281\n",
      "828100\n",
      "829921\n",
      "831744\n",
      "833569\n",
      "835396\n",
      "837225\n",
      "839056\n",
      "840889\n",
      "842724\n",
      "844561\n",
      "846400\n",
      "848241\n",
      "850084\n",
      "851929\n",
      "853776\n",
      "855625\n",
      "857476\n",
      "859329\n",
      "861184\n",
      "863041\n",
      "864900\n",
      "866761\n",
      "868624\n",
      "870489\n",
      "872356\n",
      "874225\n",
      "876096\n",
      "877969\n",
      "879844\n",
      "881721\n",
      "883600\n",
      "885481\n",
      "887364\n",
      "889249\n",
      "891136\n",
      "893025\n",
      "894916\n",
      "896809\n",
      "898704\n",
      "900601\n",
      "902500\n",
      "904401\n",
      "906304\n",
      "908209\n",
      "910116\n",
      "912025\n",
      "913936\n",
      "915849\n",
      "917764\n",
      "919681\n",
      "921600\n",
      "923521\n",
      "925444\n",
      "927369\n",
      "929296\n",
      "931225\n",
      "933156\n",
      "935089\n",
      "937024\n",
      "938961\n",
      "940900\n",
      "942841\n",
      "944784\n",
      "946729\n",
      "948676\n",
      "950625\n",
      "952576\n",
      "954529\n",
      "956484\n",
      "958441\n",
      "960400\n",
      "962361\n",
      "964324\n",
      "966289\n",
      "968256\n",
      "970225\n",
      "972196\n",
      "974169\n",
      "976144\n",
      "978121\n",
      "980100\n",
      "982081\n",
      "984064\n",
      "986049\n",
      "988036\n",
      "990025\n",
      "992016\n",
      "994009\n",
      "996004\n",
      "998001\n",
      "1000000\n"
     ]
    }
   ],
   "source": [
    "# Generator Expression\n",
    "# \n",
    "g = (i*i for i in range(1001))\n",
    "print(type(g))\n",
    "for itr in range(10):\n",
    "    val = next(g)\n",
    "    print(val)\n",
    "    \n",
    "for itr in g:\n",
    "    print(itr)"
   ]
  },
  {
   "cell_type": "code",
   "execution_count": 34,
   "metadata": {},
   "outputs": [
    {
     "name": "stdout",
     "output_type": "stream",
     "text": [
      "0\n",
      "1\n",
      "2\n",
      "3\n",
      "4\n"
     ]
    }
   ],
   "source": [
    "def gener(n):\n",
    "    i=0\n",
    "    while i < n:\n",
    "        yield i\n",
    "        i += 1\n",
    "        \n",
    "for x in gener(5):\n",
    "    print(x)\n",
    "\n",
    "# 1. for 문이 실행되며, 먼저 generator 함수가 호출된다.\n",
    "# 2. generator 함수는 일반함수와 동일한 절차로 실행된다.\n",
    "# 3. 실행 중 while 문 안에서 yield를 만나게 된다. 그러면 return과 비슷하게 함수를\n",
    "#    호출했던 구문으로 반환한다. 여기서는 첫번째 i 값인 0을 반환하게 된다. 하지만 \n",
    "#    반환하였다고 함수가 종료되는 것이 아니라 그대로 유지한 상태이다.\n",
    "# 4. x 값엔 yield에서 전달된 0값이 저장된 후 print된다. 그 후 for 문에 의해\n",
    "#    다시 함수가 호출된다.\n",
    "# 5. 이 때는 함수가 처음부터 시작되는 게 아니라 yield 이후 구문부터 시작되게 된다. \n",
    "#    따라서 i+=1 구문이 실행되고 i는 1로 증가한다.\n",
    "# 6. 아직 while 문 내부이기 때문에 yield 구문을 만나 i값인 1이 전달된다.\n",
    "# 7. x값은 1을 전달 받고 print된다. 이후 반복. "
   ]
  },
  {
   "cell_type": "code",
   "execution_count": 35,
   "metadata": {},
   "outputs": [
    {
     "name": "stdout",
     "output_type": "stream",
     "text": [
      "[1, 3, 5, 7, 9]\n",
      "<generator object <genexpr> at 0x000001FEDA857D58>\n"
     ]
    }
   ],
   "source": [
    "list1 = [ i for i in range(10) if i % 2 ]\n",
    "gen = ( i for i in range(10) if i % 2 )\n",
    "print(list1); print(gen)"
   ]
  },
  {
   "cell_type": "code",
   "execution_count": 36,
   "metadata": {},
   "outputs": [
    {
     "name": "stdout",
     "output_type": "stream",
     "text": [
      "528\n",
      "4272\n",
      "88\n",
      "88\n"
     ]
    }
   ],
   "source": [
    "# 메모리의 효율적 사용\n",
    "# 제너레이터는 next() 메소드를 통해 차례로 값에 접근할 때마다 메모리에 적재하기 때문\n",
    "import sys\n",
    "print(sys.getsizeof( [i for i in range(100) if i % 2] ))\n",
    "print(sys.getsizeof( [i for i in range(1000) if i % 2] ))\n",
    "print(sys.getsizeof( (i for i in range(100) if i % 2) ) )\n",
    "print(sys.getsizeof( (i for i in range(1000) if i % 2) ))"
   ]
  },
  {
   "cell_type": "code",
   "execution_count": 37,
   "metadata": {},
   "outputs": [
    {
     "name": "stdout",
     "output_type": "stream",
     "text": [
      "sl...eep...\n",
      "sl...eep...\n",
      "sl...eep...\n",
      "sl...eep...\n",
      "sl...eep...\n",
      "0\n",
      "1\n",
      "2\n",
      "3\n",
      "4\n"
     ]
    }
   ],
   "source": [
    "import time\n",
    "def sleep_fun(x):\n",
    "    print('sl...eep...')\n",
    "    time.sleep(1)\n",
    "    return x\n",
    "\n",
    "ls = [sleep_fun(x) for x in range(5)]\n",
    "for itr in ls:\n",
    "    print(itr)"
   ]
  },
  {
   "cell_type": "code",
   "execution_count": 38,
   "metadata": {},
   "outputs": [
    {
     "name": "stdout",
     "output_type": "stream",
     "text": [
      "sl...eep...\n",
      "0\n",
      "sl...eep...\n",
      "1\n",
      "sl...eep...\n",
      "2\n",
      "sl...eep...\n",
      "3\n",
      "sl...eep...\n",
      "4\n"
     ]
    }
   ],
   "source": [
    "gn = (sleep_fun(x) for x in range(5))\n",
    "for itr in gn:\n",
    "    print(itr)"
   ]
  },
  {
   "cell_type": "code",
   "execution_count": 4,
   "metadata": {},
   "outputs": [
    {
     "name": "stdout",
     "output_type": "stream",
     "text": [
      "red\n",
      "white\n",
      "blue\n",
      "red\n",
      "-------무한 시퀀스에서 유한 시퀀스로-------\n",
      "white\n",
      "blue\n",
      "red\n",
      "white\n"
     ]
    }
   ],
   "source": [
    "from itertools import islice\n",
    "from itertools import cycle\n",
    "colors = cycle(['red', 'white', 'blue'])\n",
    "print(next(colors))\n",
    "print(next(colors))\n",
    "print(next(colors))\n",
    "print(next(colors))\n",
    "print('-------무한 시퀀스에서 유한 시퀀스로-------')\n",
    "limited = islice(colors, 0, 4)\n",
    "for x in limited:\n",
    "    print(x)"
   ]
  },
  {
   "cell_type": "code",
   "execution_count": 5,
   "metadata": {},
   "outputs": [
    {
     "data": {
      "text/plain": [
       "[1, 1, 2, 3, 5, 8, 13, 21, 34, 55]"
      ]
     },
     "execution_count": 5,
     "metadata": {},
     "output_type": "execute_result"
    }
   ],
   "source": [
    "def fibonacci():\n",
    "    prev, curr = 0, 1\n",
    "    while True:\n",
    "        yield curr\n",
    "        prev, curr = curr, prev + curr\n",
    "        \n",
    "f = fibonacci()\n",
    "list(islice(f, 0, 10))"
   ]
  },
  {
   "cell_type": "code",
   "execution_count": 8,
   "metadata": {},
   "outputs": [
    {
     "data": {
      "text/plain": [
       "[0, 1, 2, 3, 4]"
      ]
     },
     "execution_count": 8,
     "metadata": {},
     "output_type": "execute_result"
    }
   ],
   "source": [
    "def something():\n",
    "    result = []\n",
    "    for i in range(5):\n",
    "        result.append(i)\n",
    "    return result\n",
    "something()"
   ]
  },
  {
   "cell_type": "code",
   "execution_count": 13,
   "metadata": {},
   "outputs": [
    {
     "data": {
      "text/plain": [
       "[0, 1, 2, 3, 4]"
      ]
     },
     "execution_count": 13,
     "metadata": {},
     "output_type": "execute_result"
    }
   ],
   "source": [
    "def iter_something():\n",
    "    for i in range(5):\n",
    "        yield i\n",
    "        \n",
    "list(iter_something())"
   ]
  },
  {
   "cell_type": "code",
   "execution_count": 29,
   "metadata": {},
   "outputs": [],
   "source": [
    "# Docktest\n",
    "# Ellipsis\n",
    "# Decorator"
   ]
  },
  {
   "cell_type": "markdown",
   "metadata": {},
   "source": [
    "## Docktest, Ellipsis, Decorator\n",
    "## Numpy : http://aikorea.org/cs231n/python-numpy-tutorial/#numpy\n",
    "## Pandas : https://pandas.pydata.org/pandas-docs/stable/10min.html\n",
    "## Matplotlib : http://doorbw.tistory.com/173"
   ]
  },
  {
   "cell_type": "markdown",
   "metadata": {},
   "source": [
    "# *수고하셨어요~!*"
   ]
  },
  {
   "cell_type": "code",
   "execution_count": 25,
   "metadata": {},
   "outputs": [
    {
     "data": {
      "text/plain": [
       "[0, 1, 1, 2, 3, 5, 8, 13, 21, 34, 55]"
      ]
     },
     "execution_count": 25,
     "metadata": {},
     "output_type": "execute_result"
    }
   ],
   "source": [
    "def fibo(n):\n",
    "    if n < 2:\n",
    "        return n\n",
    "    return fibo(n-1) + fibo(n-2)\n",
    "        \n",
    "[fibo(i) for i in range(11)]"
   ]
  },
  {
   "cell_type": "code",
   "execution_count": 30,
   "metadata": {},
   "outputs": [
    {
     "data": {
      "text/plain": [
       "[0, 1, 1, 2, 3, 5, 8, 13, 21, 34, 55]"
      ]
     },
     "execution_count": 30,
     "metadata": {},
     "output_type": "execute_result"
    }
   ],
   "source": [
    "memo = {1:1, 2:1}\n",
    "def fibo2(n):\n",
    "    if n == 0:\n",
    "        return 0\n",
    "    if n not in memo:\n",
    "        for itr in range(3,n+1):\n",
    "            memo[itr] = fibo2(itr-2) + fibo2(itr-1)\n",
    "    return memo[n]\n",
    "\n",
    "[fibo2(i) for i in range(11)]"
   ]
  }
 ],
 "metadata": {
  "kernelspec": {
   "display_name": "Python 3",
   "language": "python",
   "name": "python3"
  },
  "language_info": {
   "codemirror_mode": {
    "name": "ipython",
    "version": 3
   },
   "file_extension": ".py",
   "mimetype": "text/x-python",
   "name": "python",
   "nbconvert_exporter": "python",
   "pygments_lexer": "ipython3",
   "version": "3.6.6"
  }
 },
 "nbformat": 4,
 "nbformat_minor": 2
}
