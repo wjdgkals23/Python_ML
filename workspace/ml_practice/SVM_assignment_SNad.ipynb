{
 "cells": [
  {
   "cell_type": "code",
   "execution_count": 2,
   "metadata": {},
   "outputs": [],
   "source": [
    "import numpy as np\n",
    "import pandas as pd\n",
    "from matplotlib import style\n",
    "import matplotlib.pyplot as plt\n",
    "from sklearn.model_selection import train_test_split\n",
    "from sklearn.metrics import confusion_matrix\n",
    "from collections import Counter\n",
    "from sklearn.svm import SVC\n",
    "from sklearn.preprocessing import MinMaxScaler\n",
    "from sklearn.cross_validation import StratifiedKFold\n",
    "from sklearn.grid_search import GridSearchCV\n",
    "\n",
    "\n",
    "data = pd.read_csv('data/SN_ad.csv')\n",
    "data = data.drop(['User ID'], axis=1)\n",
    "\n",
    "dummies_gender = pd.get_dummies(data['Gender']).rename(columns=lambda x: 'Gender_' + str(x))\n",
    "\n",
    "# userid 제거 범주화 -> 나이 범위로 나눠서 범주화\n",
    "\n",
    "bins = [10,20,30,40,50,60]\n",
    "labels = [1,2,3,4,5]\n",
    "\n",
    "data['Age_label'] = pd.cut(data['Age'], bins=bins, labels=labels)\n",
    "dummies_age = pd.get_dummies(data['Age_label']).rename(columns=lambda x: 'Age_' + str(x))\n",
    "\n",
    "X = data.drop(['Age', 'Age_label', 'Gender'], axis=1)\n",
    "\n",
    "Set_data = pd.concat([X, dummies_age, dummies_gender], axis=1)\n",
    "Set_data\n",
    "\n",
    "y = Set_data['Purchased']\n",
    "y = y.astype('category')\n",
    "\n",
    "X = Set_data.drop(['Purchased'], axis=1)\n",
    "\n",
    "X_train, X_test, y_train, y_test = train_test_split(X, y, test_size=0.3)\n",
    "\n",
    "def svc_param_selection (X,y, nfolds):\n",
    "    Cs = [0.001, 0.01, 0.1, 1, 10]\n",
    "    gammas = [0.001, 0.01, 0.1, 1]\n",
    "    param_grid = {'C': Cs, 'gamma' : gammas}\n",
    "    grid_search = GridSearchCV(SVC(kernel='rbf'), param_grid, cv=nfolds)\n",
    "    grid_search.fit(X, y)\n",
    "    grid_search.best_params_\n",
    "    return grid_search\n",
    "\n",
    "best_model = svc_param_selection(X_train, y_train, 10);\n",
    "\n",
    "clf = best_model.best_estimator_.fit(X_train, y_train)\n",
    "\n",
    "clf.predict(X_test)\n",
    "\n",
    "confusion_matrix(clf.predict(X_test), y_test)"
   ]
  },
  {
   "cell_type": "code",
   "execution_count": null,
   "metadata": {},
   "outputs": [],
   "source": []
  }
 ],
 "metadata": {
  "kernelspec": {
   "display_name": "Python 3",
   "language": "python",
   "name": "python3"
  },
  "language_info": {
   "codemirror_mode": {
    "name": "ipython",
    "version": 3
   },
   "file_extension": ".py",
   "mimetype": "text/x-python",
   "name": "python",
   "nbconvert_exporter": "python",
   "pygments_lexer": "ipython3",
   "version": "3.6.6"
  }
 },
 "nbformat": 4,
 "nbformat_minor": 2
}
