{
 "cells": [
  {
   "cell_type": "code",
   "execution_count": 1,
   "metadata": {},
   "outputs": [
    {
     "name": "stderr",
     "output_type": "stream",
     "text": [
      "Loading required package: rgl\n"
     ]
    }
   ],
   "source": [
    "#####################################\n",
    "# Principal Component Analysis(PCA) #\n",
    "# 2018-08-08 Tobigs Week 04 Class   #\n",
    "#####################################\n",
    "\n",
    "rm(list=ls()) \n",
    "\n",
    "### 디렉토리 및 라이브러리 설정 ###\n",
    "# setwd(\"C:/Users/lady1/Desktop/Tobigs/180718- 10주 세미나/180808 4주차 수업/PCA\")\n",
    "if(!require(rgl)) install.packages(\"rgl\"); library(rgl) # scatter plot 을 3D로 표현하는 library"
   ]
  },
  {
   "cell_type": "code",
   "execution_count": 3,
   "metadata": {},
   "outputs": [
    {
     "data": {},
     "metadata": {},
     "output_type": "display_data"
    }
   ],
   "source": [
    "### 1. Random Data 형성 ###\n",
    "## 3차원 데이터를 만들어보자 \n",
    "## (주의) PCA 구현하는 데이터를 형성할 때에는 데이터셋의 평균을 항상 0으로 맞춰줘야 합니다!\n",
    "set.seed(10) # 10기니까 10으로 난수 형성 \n",
    "X <- rnorm(n=1000, mean=0, sd=100) \n",
    "Y <- rnorm(n=1000, mean=0, sd=10)\n",
    "Z <- rnorm(n=1000, mean=0, sd=50)\n",
    "range <- c(min(X), max(X)) # 분산이 가장 큰 축인 x축에 맞춰서 range를 변환\n",
    "plot3d(X, Y, Z, xlim=range, ylim=range, zlim=range) # rgl패키지로 만든 3D Plot"
   ]
  },
  {
   "cell_type": "code",
   "execution_count": 12,
   "metadata": {},
   "outputs": [
    {
     "data": {},
     "metadata": {},
     "output_type": "display_data"
    }
   ],
   "source": [
    "# data의 point가 x 축을 기준으로 분포하고, y축의 샘플들이 굉장히 좁은 것을 볼 수 있습니다.\n",
    "# x,z로 data 설명할 수 있어보이니 x축과 z축을 corr이 있도록 sorting을 해보겠습니다.\n",
    "X <- sort(rnorm(n=1000, mean=0, sd=100))\n",
    "Y <- rnorm(n=1000, mean=0, sd=10)\n",
    "Z <- sort(rnorm(n=1000, mean=0, sd=50))\n",
    "range <- c(min(X), max(X))\n",
    "plot3d(X, Y, Z, xlim=range, ylim=range, zlim=range) \n",
    "### Random Data 형성 완료! ###"
   ]
  },
  {
   "cell_type": "code",
   "execution_count": 13,
   "metadata": {},
   "outputs": [
    {
     "data": {
      "text/html": [
       "<table>\n",
       "<thead><tr><th scope=col>X</th><th scope=col>Y</th><th scope=col>Z</th></tr></thead>\n",
       "<tbody>\n",
       "\t<tr><td>-307.6790</td><td> 3.189416</td><td>-161.4083</td></tr>\n",
       "\t<tr><td>-287.2399</td><td> 9.643960</td><td>-155.6731</td></tr>\n",
       "\t<tr><td>-285.2709</td><td>-1.506479</td><td>-142.1160</td></tr>\n",
       "\t<tr><td>-267.1175</td><td>-6.793282</td><td>-136.9821</td></tr>\n",
       "\t<tr><td>-246.0366</td><td>14.781523</td><td>-129.6964</td></tr>\n",
       "\t<tr><td>-243.9406</td><td> 3.893267</td><td>-129.3881</td></tr>\n",
       "</tbody>\n",
       "</table>\n"
      ],
      "text/latex": [
       "\\begin{tabular}{lll}\n",
       " X & Y & Z\\\\\n",
       "\\hline\n",
       "\t -307.6790 &  3.189416 & -161.4083\\\\\n",
       "\t -287.2399 &  9.643960 & -155.6731\\\\\n",
       "\t -285.2709 & -1.506479 & -142.1160\\\\\n",
       "\t -267.1175 & -6.793282 & -136.9821\\\\\n",
       "\t -246.0366 & 14.781523 & -129.6964\\\\\n",
       "\t -243.9406 &  3.893267 & -129.3881\\\\\n",
       "\\end{tabular}\n"
      ],
      "text/markdown": [
       "\n",
       "X | Y | Z | \n",
       "|---|---|---|---|---|---|\n",
       "| -307.6790 |  3.189416 | -161.4083 | \n",
       "| -287.2399 |  9.643960 | -155.6731 | \n",
       "| -285.2709 | -1.506479 | -142.1160 | \n",
       "| -267.1175 | -6.793282 | -136.9821 | \n",
       "| -246.0366 | 14.781523 | -129.6964 | \n",
       "| -243.9406 |  3.893267 | -129.3881 | \n",
       "\n",
       "\n"
      ],
      "text/plain": [
       "     X         Y         Z        \n",
       "[1,] -307.6790  3.189416 -161.4083\n",
       "[2,] -287.2399  9.643960 -155.6731\n",
       "[3,] -285.2709 -1.506479 -142.1160\n",
       "[4,] -267.1175 -6.793282 -136.9821\n",
       "[5,] -246.0366 14.781523 -129.6964\n",
       "[6,] -243.9406  3.893267 -129.3881"
      ]
     },
     "metadata": {},
     "output_type": "display_data"
    },
    {
     "data": {
      "text/html": [
       "<table>\n",
       "<thead><tr><th></th><th scope=col>X</th><th scope=col>Y</th><th scope=col>Z</th></tr></thead>\n",
       "<tbody>\n",
       "\t<tr><th scope=row>X</th><td>10597.18596</td><td>-26.39423  </td><td>4939.83815 </td></tr>\n",
       "\t<tr><th scope=row>Y</th><td>  -26.39423</td><td>101.50328  </td><td> -12.87054 </td></tr>\n",
       "\t<tr><th scope=row>Z</th><td> 4939.83815</td><td>-12.87054  </td><td>2317.17995 </td></tr>\n",
       "</tbody>\n",
       "</table>\n"
      ],
      "text/latex": [
       "\\begin{tabular}{r|lll}\n",
       "  & X & Y & Z\\\\\n",
       "\\hline\n",
       "\tX & 10597.18596 & -26.39423   & 4939.83815 \\\\\n",
       "\tY &   -26.39423 & 101.50328   &  -12.87054 \\\\\n",
       "\tZ &  4939.83815 & -12.87054   & 2317.17995 \\\\\n",
       "\\end{tabular}\n"
      ],
      "text/markdown": [
       "\n",
       "| <!--/--> | X | Y | Z | \n",
       "|---|---|---|\n",
       "| X | 10597.18596 | -26.39423   | 4939.83815  | \n",
       "| Y |   -26.39423 | 101.50328   |  -12.87054  | \n",
       "| Z |  4939.83815 | -12.87054   | 2317.17995  | \n",
       "\n",
       "\n"
      ],
      "text/plain": [
       "  X           Y         Z         \n",
       "X 10597.18596 -26.39423 4939.83815\n",
       "Y   -26.39423 101.50328  -12.87054\n",
       "Z  4939.83815 -12.87054 2317.17995"
      ]
     },
     "metadata": {},
     "output_type": "display_data"
    },
    {
     "data": {
      "text/plain": [
       "eigen() decomposition\n",
       "$values\n",
       "[1] 12902.52964   101.43874    11.90081\n",
       "\n",
       "$vectors\n",
       "            [,1]         [,2]         [,3]\n",
       "[1,]  0.90617942  0.004445807  0.422870077\n",
       "[2,] -0.00229362  0.999981700 -0.005598159\n",
       "[3,]  0.42288723 -0.004103033 -0.906173029\n"
      ]
     },
     "metadata": {},
     "output_type": "display_data"
    },
    {
     "data": {
      "text/html": [
       "<table>\n",
       "<tbody>\n",
       "\t<tr><td>-347.0772</td><td> 2.483740</td><td>16.13773 </td></tr>\n",
       "\t<tr><td>-326.1451</td><td> 9.005502</td><td>19.54760 </td></tr>\n",
       "\t<tr><td>-318.6022</td><td>-2.191604</td><td> 8.15758 </td></tr>\n",
       "\t<tr><td>-299.9687</td><td>-7.418668</td><td>11.21154 </td></tr>\n",
       "\t<tr><td>-277.8342</td><td>14.219570</td><td>13.40313 </td></tr>\n",
       "\t<tr><td>-275.7795</td><td> 3.339566</td><td>14.07098 </td></tr>\n",
       "</tbody>\n",
       "</table>\n"
      ],
      "text/latex": [
       "\\begin{tabular}{lll}\n",
       "\t -347.0772 &  2.483740 & 16.13773 \\\\\n",
       "\t -326.1451 &  9.005502 & 19.54760 \\\\\n",
       "\t -318.6022 & -2.191604 &  8.15758 \\\\\n",
       "\t -299.9687 & -7.418668 & 11.21154 \\\\\n",
       "\t -277.8342 & 14.219570 & 13.40313 \\\\\n",
       "\t -275.7795 &  3.339566 & 14.07098 \\\\\n",
       "\\end{tabular}\n"
      ],
      "text/markdown": [
       "\n",
       "| -347.0772 |  2.483740 | 16.13773  | \n",
       "| -326.1451 |  9.005502 | 19.54760  | \n",
       "| -318.6022 | -2.191604 |  8.15758  | \n",
       "| -299.9687 | -7.418668 | 11.21154  | \n",
       "| -277.8342 | 14.219570 | 13.40313  | \n",
       "| -275.7795 |  3.339566 | 14.07098  | \n",
       "\n",
       "\n"
      ],
      "text/plain": [
       "     [,1]      [,2]      [,3]    \n",
       "[1,] -347.0772  2.483740 16.13773\n",
       "[2,] -326.1451  9.005502 19.54760\n",
       "[3,] -318.6022 -2.191604  8.15758\n",
       "[4,] -299.9687 -7.418668 11.21154\n",
       "[5,] -277.8342 14.219570 13.40313\n",
       "[6,] -275.7795  3.339566 14.07098"
      ]
     },
     "metadata": {},
     "output_type": "display_data"
    },
    {
     "data": {},
     "metadata": {},
     "output_type": "display_data"
    },
    {
     "data": {},
     "metadata": {},
     "output_type": "display_data"
    },
    {
     "data": {
      "text/html": [
       "0.893624763037937"
      ],
      "text/latex": [
       "0.893624763037937"
      ],
      "text/markdown": [
       "0.893624763037937"
      ],
      "text/plain": [
       "[1] 0.8936248"
      ]
     },
     "metadata": {},
     "output_type": "display_data"
    },
    {
     "data": {
      "text/html": [
       "0.0792354799461492"
      ],
      "text/latex": [
       "0.0792354799461492"
      ],
      "text/markdown": [
       "0.0792354799461492"
      ],
      "text/plain": [
       "[1] 0.07923548"
      ]
     },
     "metadata": {},
     "output_type": "display_data"
    },
    {
     "data": {
      "text/html": [
       "0.027139757015914"
      ],
      "text/latex": [
       "0.027139757015914"
      ],
      "text/markdown": [
       "0.027139757015914"
      ],
      "text/plain": [
       "[1] 0.02713976"
      ]
     },
     "metadata": {},
     "output_type": "display_data"
    },
    {
     "data": {
      "image/png": "[encoded data removed]",
      "text/plain": [
       "plot without title"
      ]
     },
     "metadata": {},
     "output_type": "display_data"
    }
   ],
   "source": [
    "### 2. PCA를 간단히 구현해보자 ###\n",
    "## PDF 26p의 과정과 함께 보세용!\n",
    "## 2-1. Data Matrix 형성\n",
    "OriginMatrix <- cbind(X, Y, Z) # 1000*3의 Matrix 형성\n",
    "head(OriginMatrix)\n",
    "\n",
    "## 2-2. Covariance Matrix 형성\n",
    "CovMatrix <- cov(OriginMatrix) # cov(): Covariance Matrix를 형성해주는 함수 \n",
    "CovMatrix\n",
    "\n",
    "## 2-3. eigen value, eigen vector\n",
    "lambdaA <- eigen(CovMatrix) # eigen(): Eigen Value와 Eigen Vector를 형성해주는 함수 \n",
    "lambdaA # value와 vector를 확인하려면 각각 lambdaA$values, lambdaA$vectors\n",
    "## Values의 component와 vectors의 열이 일대일 대응된다.\n",
    "\n",
    "## 2-4. 새로운 data set 생성(OriginMatrix의 선형 결합)\n",
    "TransformedMatrix <- OriginMatrix %*% lambdaA$vectors\n",
    "head(TransformedMatrix)\n",
    "\n",
    "## 2-5. Dataset 선형 변환여부 확인\n",
    "range2 <- c(min(TransformedMatrix[,1]), max(TransformedMatrix[,1]))\n",
    "plot3d(TransformedMatrix[,1], TransformedMatrix[,2], TransformedMatrix[,3], xlim=range2, ylim=range2, zlim=range2, col='red')\n",
    "plot3d(X, Y, Z, xlim=range, ylim=range, zlim=range, add=T)\n",
    "## 차원축소한 것이 아니므로 새로 생성된 변수 TransformedMatrix는 OriginMatrix의 선형 변환 \n",
    "\n",
    "## 2-6. 변수의 Component Impact 확인 \n",
    "sd(TransformedMatrix[,1])/(sd(TransformedMatrix[,1])+sd(TransformedMatrix[,2])+sd(TransformedMatrix[,3]))# 0.9030655\n",
    "sd(TransformedMatrix[,2])/(sd(TransformedMatrix[,1])+sd(TransformedMatrix[,2])+sd(TransformedMatrix[,3]))# 0.07973736\n",
    "sd(TransformedMatrix[,3])/(sd(TransformedMatrix[,1])+sd(TransformedMatrix[,2])+sd(TransformedMatrix[,3]))# 0.01719718\n",
    "## 제3변수 Impact가 작으니 제거하고 ploting \n",
    "plot(TransformedMatrix[,1], TransformedMatrix[,2]) # 모든 data가 pc1 pc2 에 분포"
   ]
  },
  {
   "cell_type": "code",
   "execution_count": 14,
   "metadata": {},
   "outputs": [
    {
     "data": {
      "text/html": [
       "<ol class=list-inline>\n",
       "\t<li>1.4135846463003</li>\n",
       "\t<li>0.999323184492515</li>\n",
       "\t<li>0.0559608852663373</li>\n",
       "</ol>\n"
      ],
      "text/latex": [
       "\\begin{enumerate*}\n",
       "\\item 1.4135846463003\n",
       "\\item 0.999323184492515\n",
       "\\item 0.0559608852663373\n",
       "\\end{enumerate*}\n"
      ],
      "text/markdown": [
       "1. 1.4135846463003\n",
       "2. 0.999323184492515\n",
       "3. 0.0559608852663373\n",
       "\n",
       "\n"
      ],
      "text/plain": [
       "[1] 1.41358465 0.99932318 0.05596089"
      ]
     },
     "metadata": {},
     "output_type": "display_data"
    },
    {
     "data": {
      "text/html": [
       "<table>\n",
       "<thead><tr><th></th><th scope=col>PC1</th><th scope=col>PC2</th><th scope=col>PC3</th></tr></thead>\n",
       "<tbody>\n",
       "\t<tr><th scope=row>X</th><td> 0.70661774  </td><td>-0.02656929  </td><td> 0.7070964884</td></tr>\n",
       "\t<tr><th scope=row>Y</th><td>-0.03680141  </td><td>-0.99932230  </td><td>-0.0007732406</td></tr>\n",
       "\t<tr><th scope=row>Z</th><td> 0.70663783  </td><td>-0.02547577  </td><td>-0.7071166510</td></tr>\n",
       "</tbody>\n",
       "</table>\n"
      ],
      "text/latex": [
       "\\begin{tabular}{r|lll}\n",
       "  & PC1 & PC2 & PC3\\\\\n",
       "\\hline\n",
       "\tX &  0.70661774   & -0.02656929   &  0.7070964884\\\\\n",
       "\tY & -0.03680141   & -0.99932230   & -0.0007732406\\\\\n",
       "\tZ &  0.70663783   & -0.02547577   & -0.7071166510\\\\\n",
       "\\end{tabular}\n"
      ],
      "text/markdown": [
       "\n",
       "| <!--/--> | PC1 | PC2 | PC3 | \n",
       "|---|---|---|\n",
       "| X |  0.70661774   | -0.02656929   |  0.7070964884 | \n",
       "| Y | -0.03680141   | -0.99932230   | -0.0007732406 | \n",
       "| Z |  0.70663783   | -0.02547577   | -0.7071166510 | \n",
       "\n",
       "\n"
      ],
      "text/plain": [
       "  PC1         PC2         PC3          \n",
       "X  0.70661774 -0.02656929  0.7070964884\n",
       "Y -0.03680141 -0.99932230 -0.0007732406\n",
       "Z  0.70663783 -0.02547577 -0.7071166510"
      ]
     },
     "metadata": {},
     "output_type": "display_data"
    }
   ],
   "source": [
    "### 3. 구현한 PCA와 PCA 함수를 비교해보자 ###\n",
    "## SVD(Singular Value Decomposition) 이용(prcomp와 princomp)\n",
    "## prcomp(x, retx = TRUE, center = TRUE, scale. = FALSE, tol = NULL, rank. = NULL, ...)\n",
    "## x : data, retx : 변수축 회전 여부, center=zero:원점 설정 여부, scale : 표준화여부\n",
    "## prcomp : sdev, rotation(eigenvetors), center, scale, x(principal component)\n",
    "pca <- prcomp(OriginMatrix, center=T, scale=T) # center=T(데이터 중앙을 0으로), scale=T(분산을 1로)\n",
    "## 해석: PC1 =  0.70636575 * X + 0.04628937 * Y + 0.70633188 * Z의 선형식을 가지는 변수\n",
    "pca$sdev\n",
    "pca$rotation # rotation(eigenvetors)"
   ]
  },
  {
   "cell_type": "code",
   "execution_count": 2,
   "metadata": {},
   "outputs": [
    {
     "name": "stdout",
     "output_type": "stream",
     "text": [
      "'data.frame':\t178 obs. of  14 variables:\n",
      " $ Cvs                         : int  1 1 1 1 1 1 1 1 1 1 ...\n",
      " $ Alcohol                     : num  14.2 13.2 13.2 14.4 13.2 ...\n",
      " $ Malic acid                  : num  1.71 1.78 2.36 1.95 2.59 1.76 1.87 2.15 1.64 1.35 ...\n",
      " $ Ash                         : num  2.43 2.14 2.67 2.5 2.87 2.45 2.45 2.61 2.17 2.27 ...\n",
      " $ Alcalinity of ash           : num  15.6 11.2 18.6 16.8 21 15.2 14.6 17.6 14 16 ...\n",
      " $ Magnesium                   : int  127 100 101 113 118 112 96 121 97 98 ...\n",
      " $ Total phenols               : num  2.8 2.65 2.8 3.85 2.8 3.27 2.5 2.6 2.8 2.98 ...\n",
      " $ Flavanoids                  : num  3.06 2.76 3.24 3.49 2.69 3.39 2.52 2.51 2.98 3.15 ...\n",
      " $ Nonflavanoid phenols        : num  0.28 0.26 0.3 0.24 0.39 0.34 0.3 0.31 0.29 0.22 ...\n",
      " $ Proanthocyanins             : num  2.29 1.28 2.81 2.18 1.82 1.97 1.98 1.25 1.98 1.85 ...\n",
      " $ Color intensity             : num  5.64 4.38 5.68 7.8 4.32 6.75 5.25 5.05 5.2 7.22 ...\n",
      " $ Hue                         : num  1.04 1.05 1.03 0.86 1.04 1.05 1.02 1.06 1.08 1.01 ...\n",
      " $ OD280/OD315 of diluted wines: num  3.92 3.4 3.17 3.45 2.93 2.85 3.58 3.58 2.85 3.55 ...\n",
      " $ Proline                     : int  1065 1050 1185 1480 735 1450 1290 1295 1045 1045 ...\n"
     ]
    },
    {
     "data": {
      "text/html": [
       "<table>\n",
       "<thead><tr><th scope=col>Cvs</th><th scope=col>Alcohol</th><th scope=col>Malic acid</th><th scope=col>Ash</th><th scope=col>Alcalinity of ash</th><th scope=col>Magnesium</th><th scope=col>Total phenols</th><th scope=col>Flavanoids</th><th scope=col>Nonflavanoid phenols</th><th scope=col>Proanthocyanins</th><th scope=col>Color intensity</th><th scope=col>Hue</th><th scope=col>OD280/OD315 of diluted wines</th><th scope=col>Proline</th></tr></thead>\n",
       "<tbody>\n",
       "\t<tr><td>1    </td><td>14.23</td><td>1.71 </td><td>2.43 </td><td>15.6 </td><td>127  </td><td>2.80 </td><td>3.06 </td><td>0.28 </td><td>2.29 </td><td>5.64 </td><td>1.04 </td><td>3.92 </td><td>1065 </td></tr>\n",
       "\t<tr><td>1    </td><td>13.20</td><td>1.78 </td><td>2.14 </td><td>11.2 </td><td>100  </td><td>2.65 </td><td>2.76 </td><td>0.26 </td><td>1.28 </td><td>4.38 </td><td>1.05 </td><td>3.40 </td><td>1050 </td></tr>\n",
       "\t<tr><td>1    </td><td>13.16</td><td>2.36 </td><td>2.67 </td><td>18.6 </td><td>101  </td><td>2.80 </td><td>3.24 </td><td>0.30 </td><td>2.81 </td><td>5.68 </td><td>1.03 </td><td>3.17 </td><td>1185 </td></tr>\n",
       "\t<tr><td>1    </td><td>14.37</td><td>1.95 </td><td>2.50 </td><td>16.8 </td><td>113  </td><td>3.85 </td><td>3.49 </td><td>0.24 </td><td>2.18 </td><td>7.80 </td><td>0.86 </td><td>3.45 </td><td>1480 </td></tr>\n",
       "\t<tr><td>1    </td><td>13.24</td><td>2.59 </td><td>2.87 </td><td>21.0 </td><td>118  </td><td>2.80 </td><td>2.69 </td><td>0.39 </td><td>1.82 </td><td>4.32 </td><td>1.04 </td><td>2.93 </td><td> 735 </td></tr>\n",
       "\t<tr><td>1    </td><td>14.20</td><td>1.76 </td><td>2.45 </td><td>15.2 </td><td>112  </td><td>3.27 </td><td>3.39 </td><td>0.34 </td><td>1.97 </td><td>6.75 </td><td>1.05 </td><td>2.85 </td><td>1450 </td></tr>\n",
       "</tbody>\n",
       "</table>\n"
      ],
      "text/latex": [
       "\\begin{tabular}{r|llllllllllllll}\n",
       " Cvs & Alcohol & Malic acid & Ash & Alcalinity of ash & Magnesium & Total phenols & Flavanoids & Nonflavanoid phenols & Proanthocyanins & Color intensity & Hue & OD280/OD315 of diluted wines & Proline\\\\\n",
       "\\hline\n",
       "\t 1     & 14.23 & 1.71  & 2.43  & 15.6  & 127   & 2.80  & 3.06  & 0.28  & 2.29  & 5.64  & 1.04  & 3.92  & 1065 \\\\\n",
       "\t 1     & 13.20 & 1.78  & 2.14  & 11.2  & 100   & 2.65  & 2.76  & 0.26  & 1.28  & 4.38  & 1.05  & 3.40  & 1050 \\\\\n",
       "\t 1     & 13.16 & 2.36  & 2.67  & 18.6  & 101   & 2.80  & 3.24  & 0.30  & 2.81  & 5.68  & 1.03  & 3.17  & 1185 \\\\\n",
       "\t 1     & 14.37 & 1.95  & 2.50  & 16.8  & 113   & 3.85  & 3.49  & 0.24  & 2.18  & 7.80  & 0.86  & 3.45  & 1480 \\\\\n",
       "\t 1     & 13.24 & 2.59  & 2.87  & 21.0  & 118   & 2.80  & 2.69  & 0.39  & 1.82  & 4.32  & 1.04  & 2.93  &  735 \\\\\n",
       "\t 1     & 14.20 & 1.76  & 2.45  & 15.2  & 112   & 3.27  & 3.39  & 0.34  & 1.97  & 6.75  & 1.05  & 2.85  & 1450 \\\\\n",
       "\\end{tabular}\n"
      ],
      "text/markdown": [
       "\n",
       "Cvs | Alcohol | Malic acid | Ash | Alcalinity of ash | Magnesium | Total phenols | Flavanoids | Nonflavanoid phenols | Proanthocyanins | Color intensity | Hue | OD280/OD315 of diluted wines | Proline | \n",
       "|---|---|---|---|---|---|\n",
       "| 1     | 14.23 | 1.71  | 2.43  | 15.6  | 127   | 2.80  | 3.06  | 0.28  | 2.29  | 5.64  | 1.04  | 3.92  | 1065  | \n",
       "| 1     | 13.20 | 1.78  | 2.14  | 11.2  | 100   | 2.65  | 2.76  | 0.26  | 1.28  | 4.38  | 1.05  | 3.40  | 1050  | \n",
       "| 1     | 13.16 | 2.36  | 2.67  | 18.6  | 101   | 2.80  | 3.24  | 0.30  | 2.81  | 5.68  | 1.03  | 3.17  | 1185  | \n",
       "| 1     | 14.37 | 1.95  | 2.50  | 16.8  | 113   | 3.85  | 3.49  | 0.24  | 2.18  | 7.80  | 0.86  | 3.45  | 1480  | \n",
       "| 1     | 13.24 | 2.59  | 2.87  | 21.0  | 118   | 2.80  | 2.69  | 0.39  | 1.82  | 4.32  | 1.04  | 2.93  |  735  | \n",
       "| 1     | 14.20 | 1.76  | 2.45  | 15.2  | 112   | 3.27  | 3.39  | 0.34  | 1.97  | 6.75  | 1.05  | 2.85  | 1450  | \n",
       "\n",
       "\n"
      ],
      "text/plain": [
       "  Cvs Alcohol Malic acid Ash  Alcalinity of ash Magnesium Total phenols\n",
       "1 1   14.23   1.71       2.43 15.6              127       2.80         \n",
       "2 1   13.20   1.78       2.14 11.2              100       2.65         \n",
       "3 1   13.16   2.36       2.67 18.6              101       2.80         \n",
       "4 1   14.37   1.95       2.50 16.8              113       3.85         \n",
       "5 1   13.24   2.59       2.87 21.0              118       2.80         \n",
       "6 1   14.20   1.76       2.45 15.2              112       3.27         \n",
       "  Flavanoids Nonflavanoid phenols Proanthocyanins Color intensity Hue \n",
       "1 3.06       0.28                 2.29            5.64            1.04\n",
       "2 2.76       0.26                 1.28            4.38            1.05\n",
       "3 3.24       0.30                 2.81            5.68            1.03\n",
       "4 3.49       0.24                 2.18            7.80            0.86\n",
       "5 2.69       0.39                 1.82            4.32            1.04\n",
       "6 3.39       0.34                 1.97            6.75            1.05\n",
       "  OD280/OD315 of diluted wines Proline\n",
       "1 3.92                         1065   \n",
       "2 3.40                         1050   \n",
       "3 3.17                         1185   \n",
       "4 3.45                         1480   \n",
       "5 2.93                          735   \n",
       "6 2.85                         1450   "
      ]
     },
     "metadata": {},
     "output_type": "display_data"
    },
    {
     "data": {
      "text/plain": [
       "      Cvs           Alcohol        Malic acid         Ash       \n",
       " Min.   :1.000   Min.   :11.03   Min.   :0.740   Min.   :1.360  \n",
       " 1st Qu.:1.000   1st Qu.:12.36   1st Qu.:1.603   1st Qu.:2.210  \n",
       " Median :2.000   Median :13.05   Median :1.865   Median :2.360  \n",
       " Mean   :1.938   Mean   :13.00   Mean   :2.336   Mean   :2.367  \n",
       " 3rd Qu.:3.000   3rd Qu.:13.68   3rd Qu.:3.083   3rd Qu.:2.558  \n",
       " Max.   :3.000   Max.   :14.83   Max.   :5.800   Max.   :3.230  \n",
       " Alcalinity of ash   Magnesium      Total phenols     Flavanoids   \n",
       " Min.   :10.60     Min.   : 70.00   Min.   :0.980   Min.   :0.340  \n",
       " 1st Qu.:17.20     1st Qu.: 88.00   1st Qu.:1.742   1st Qu.:1.205  \n",
       " Median :19.50     Median : 98.00   Median :2.355   Median :2.135  \n",
       " Mean   :19.49     Mean   : 99.74   Mean   :2.295   Mean   :2.029  \n",
       " 3rd Qu.:21.50     3rd Qu.:107.00   3rd Qu.:2.800   3rd Qu.:2.875  \n",
       " Max.   :30.00     Max.   :162.00   Max.   :3.880   Max.   :5.080  \n",
       " Nonflavanoid phenols Proanthocyanins Color intensity       Hue        \n",
       " Min.   :0.1300       Min.   :0.410   Min.   : 1.280   Min.   :0.4800  \n",
       " 1st Qu.:0.2700       1st Qu.:1.250   1st Qu.: 3.220   1st Qu.:0.7825  \n",
       " Median :0.3400       Median :1.555   Median : 4.690   Median :0.9650  \n",
       " Mean   :0.3619       Mean   :1.591   Mean   : 5.058   Mean   :0.9574  \n",
       " 3rd Qu.:0.4375       3rd Qu.:1.950   3rd Qu.: 6.200   3rd Qu.:1.1200  \n",
       " Max.   :0.6600       Max.   :3.580   Max.   :13.000   Max.   :1.7100  \n",
       " OD280/OD315 of diluted wines    Proline      \n",
       " Min.   :1.270                Min.   : 278.0  \n",
       " 1st Qu.:1.938                1st Qu.: 500.5  \n",
       " Median :2.780                Median : 673.5  \n",
       " Mean   :2.612                Mean   : 746.9  \n",
       " 3rd Qu.:3.170                3rd Qu.: 985.0  \n",
       " Max.   :4.000                Max.   :1680.0  "
      ]
     },
     "metadata": {},
     "output_type": "display_data"
    }
   ],
   "source": [
    "### 4. dataset으로 전처리 단계에서 주성분분석 ###\n",
    "\n",
    "### 데이터 확인 ###\n",
    "wine <- read.table(\"http://archive.ics.uci.edu/ml/machine-learning-databases/wine/wine.data\", sep=\",\")\n",
    "colnames(wine) <- c(\"Cvs\",\"Alcohol\",\"Malic acid\",\"Ash\",\"Alcalinity of ash\", \"Magnesium\", \"Total phenols\", \"Flavanoids\", \"Nonflavanoid phenols\", \"Proanthocyanins\", \"Color intensity\", \"Hue\", \"OD280/OD315 of diluted wines\", \"Proline\") # 변수명 설정 \n",
    "str(wine) # 데이터 구조 확인\n",
    "head(wine) # 데이터 내용 확인 \n",
    "summary(wine)"
   ]
  },
  {
   "cell_type": "code",
   "execution_count": 5,
   "metadata": {},
   "outputs": [
    {
     "data": {
      "text/html": [
       "<ol class=list-inline>\n",
       "\t<li>1</li>\n",
       "\t<li>2</li>\n",
       "\t<li>3</li>\n",
       "</ol>\n"
      ],
      "text/latex": [
       "\\begin{enumerate*}\n",
       "\\item 1\n",
       "\\item 2\n",
       "\\item 3\n",
       "\\end{enumerate*}\n"
      ],
      "text/markdown": [
       "1. 1\n",
       "2. 2\n",
       "3. 3\n",
       "\n",
       "\n"
      ],
      "text/plain": [
       "[1] 1 2 3\n",
       "Levels: 1 2 3"
      ]
     },
     "metadata": {},
     "output_type": "display_data"
    },
    {
     "data": {
      "image/png": "[encoded data removed]",
      "text/plain": [
       "plot without title"
      ]
     },
     "metadata": {},
     "output_type": "display_data"
    }
   ],
   "source": [
    "# 13개 변수로 이루어진 178개의 데이터\n",
    "# 설명변수는 모두 연속형변수\n",
    "# 종속변수 Y인 Cvs는 factor로 변환해야(Cvs: The type of wine into one of three classes)\n",
    "unique(wine$Cvs) \n",
    "wine$Cvs <- factor(wine$Cvs) # 종속변수 Y인 Cvs는 factor로 변환\n",
    "pairs(wine[,-1], col = wine$Cvs, upper.panel = NULL, pch = 16, cex = 0.5) # 변수 간 상관성 확인 # upper.panel = NULL은 위쪽 panel을 안보이겠다는 의미 \n",
    "legend(\"topright\", bty = \"n\", legend = c(\"Cv1\",\"Cv2\",\"Cv3\"), pch = 16, col = c(\"black\",\"red\",\"green\"),xpd = T, cex = 2, y.intersp = 0.5) # 범례 "
   ]
  },
  {
   "cell_type": "code",
   "execution_count": 6,
   "metadata": {},
   "outputs": [
    {
     "data": {
      "text/html": [
       "<strong>null device:</strong> 1"
      ],
      "text/latex": [
       "\\textbf{null device:} 1"
      ],
      "text/markdown": [
       "**null device:** 1"
      ],
      "text/plain": [
       "null device \n",
       "          1 "
      ]
     },
     "metadata": {},
     "output_type": "display_data"
    }
   ],
   "source": [
    "## data partition\n",
    "set.seed(10)\n",
    "idx <- sample(1:nrow(wine), round(nrow(wine)*0.7), replace = F)\n",
    "train <- wine[idx, -1] ; test <- wine[-idx, -1] \n",
    "train_label <- wine[idx, 1] ; test_label <- wine[-idx, 1]\n",
    "\n",
    "dev.off() # plot 갱신 \n",
    "winePCA <- prcomp(scale(train)) # 종속변수를 제외한 데이터 PCA \n",
    "plot(winePCA$x[,1:2], col = wine$Cvs)"
   ]
  },
  {
   "cell_type": "code",
   "execution_count": 7,
   "metadata": {},
   "outputs": [
    {
     "data": {
      "text/plain": [
       "Importance of components:\n",
       "                          PC1    PC2    PC3     PC4    PC5     PC6     PC7\n",
       "Standard deviation     2.1836 1.5345 1.2270 0.99107 0.9107 0.83600 0.70106\n",
       "Proportion of Variance 0.3668 0.1811 0.1158 0.07556 0.0638 0.05376 0.03781\n",
       "Cumulative Proportion  0.3668 0.5479 0.6637 0.73928 0.8031 0.85683 0.89464\n",
       "                          PC8     PC9    PC10   PC11    PC12    PC13\n",
       "Standard deviation     0.5958 0.53997 0.49801 0.4755 0.38986 0.31146\n",
       "Proportion of Variance 0.0273 0.02243 0.01908 0.0174 0.01169 0.00746\n",
       "Cumulative Proportion  0.9219 0.94437 0.96345 0.9808 0.99254 1.00000"
      ]
     },
     "metadata": {},
     "output_type": "display_data"
    },
    {
     "data": {
      "text/html": [
       "6"
      ],
      "text/latex": [
       "6"
      ],
      "text/markdown": [
       "6"
      ],
      "text/plain": [
       "[1] 6"
      ]
     },
     "metadata": {},
     "output_type": "display_data"
    },
    {
     "data": {
      "image/png": "[encoded data removed]",
      "text/plain": [
       "Plot with title \"winePCA\""
      ]
     },
     "metadata": {},
     "output_type": "display_data"
    }
   ],
   "source": [
    "## 변수의 개수 결정(elbow point & Cumulative Proportion)\n",
    "plot(winePCA, type=\"l\") # 3~4번째에서 끊으면 되겠다.\n",
    "summary(winePCA)# Elbow point인 PC4까지로는 74%정도까지 설명할 수 있다. \n",
    "min(which(summary(winePCA)[[6]][3,] >= 0.85)) # 누적비율을 원하는 비율까지 올려서 누적설명력이 85% 이상인 주성분의 index 뽑기\n",
    "## summary(winePCA)[[6]]  =>  Importance of components 부분\n",
    "## summary(winePCA)[[6]][3,]  =>  Cumulative Proportion 부분"
   ]
  },
  {
   "cell_type": "code",
   "execution_count": 8,
   "metadata": {},
   "outputs": [
    {
     "name": "stdout",
     "output_type": "stream",
     "text": [
      "'data.frame':\t125 obs. of  14 variables:\n",
      " $ PC1  : num  163 351 150 165 501 ...\n",
      " $ PC2  : num  -191 -397 -177 -197 -558 ...\n",
      " $ PC3  : num  58.6 153.5 49.2 42.9 241.6 ...\n",
      " $ PC4  : num  113 216 115 132 275 ...\n",
      " $ PC5  : num  45.5 132.2 27.4 22.4 230.6 ...\n",
      " $ PC6  : num  -94.2 -197.4 -87.5 -93.7 -277.7 ...\n",
      " $ PC7  : num  -40.8 -78.2 -42 -47.1 -100 ...\n",
      " $ PC8  : num  1.8 10.31 6.34 4.86 9.31 ...\n",
      " $ PC9  : num  -161 -383 -135 -139 -587 ...\n",
      " $ PC10 : num  -0.145 7.022 0.039 0.856 13.954 ...\n",
      " $ PC11 : num  -345 -757 -308 -339 -1101 ...\n",
      " $ PC12 : num  -4.74 -6.69 -3.19 -3.19 -9.49 ...\n",
      " $ PC13 : num  27.7 66.3 23 22 102.1 ...\n",
      " $ label: Factor w/ 3 levels \"1\",\"2\",\"3\": 2 1 2 2 1 1 1 1 2 2 ...\n"
     ]
    }
   ],
   "source": [
    "## 기존 data matrix와 Eigenvetor 내적\n",
    "## 행렬곱을 통해 새로운 주성분을 만드는 과정\n",
    "## 새로운 주성분 PC의 성분의 구성 값 계산\n",
    "## rotation이 계수값\n",
    "## 주성분 구성할때의 pc1 <- a*x1 + b*x2 +... 에서 a,b\n",
    "trainPRC <- as.matrix(train) %*% winePCA$rotation\n",
    "testPRC <- as.matrix(test) %*% winePCA$rotation\n",
    "\n",
    "trainF <- cbind(as.data.frame(trainPRC), train_label)\n",
    "testF <- cbind(as.data.frame(testPRC), test_label)\n",
    "colnames(trainF)[14] <- \"label\"; colnames(testF)[14] <- \"label\"\n",
    "str(trainF)"
   ]
  },
  {
   "cell_type": "code",
   "execution_count": 9,
   "metadata": {},
   "outputs": [
    {
     "name": "stderr",
     "output_type": "stream",
     "text": [
      "Warning message in model.response(mf, \"numeric\"):\n",
      "\"using type = \"numeric\" with a factor response will be ignored\"Warning message:\n",
      "\"In lm.fit(x, y, offset = offset, singular.ok = singular.ok, ...) :\n",
      " extra argument 'family' will be disregarded\"Warning message in Ops.factor(y, z$residuals):\n",
      "\"'-' not meaningful for factors\"Warning message in Ops.factor(r, 2):\n",
      "\"'^' not meaningful for factors\"ERROR while rich displaying an object: Error in quantile.default(resid): factors are not allowed\n",
      "\n",
      "Traceback:\n",
      "1. FUN(X[[i]], ...)\n",
      "2. tryCatch(withCallingHandlers({\n",
      " .     rpr <- mime2repr[[mime]](obj)\n",
      " .     if (is.null(rpr)) \n",
      " .         return(NULL)\n",
      " .     prepare_content(is.raw(rpr), rpr)\n",
      " . }, error = error_handler), error = outer_handler)\n",
      "3. tryCatchList(expr, classes, parentenv, handlers)\n",
      "4. tryCatchOne(expr, names, parentenv, handlers[[1L]])\n",
      "5. doTryCatch(return(expr), name, parentenv, handler)\n",
      "6. withCallingHandlers({\n",
      " .     rpr <- mime2repr[[mime]](obj)\n",
      " .     if (is.null(rpr)) \n",
      " .         return(NULL)\n",
      " .     prepare_content(is.raw(rpr), rpr)\n",
      " . }, error = error_handler)\n",
      "7. mime2repr[[mime]](obj)\n",
      "8. repr_text.default(obj)\n",
      "9. paste(capture.output(print(obj)), collapse = \"\\n\")\n",
      "10. capture.output(print(obj))\n",
      "11. evalVis(expr)\n",
      "12. withVisible(eval(expr, pf))\n",
      "13. eval(expr, pf)\n",
      "14. eval(expr, pf)\n",
      "15. print(obj)\n",
      "16. print.summary.lm(obj)\n",
      "17. zapsmall(quantile(resid), digits + 1L)\n",
      "18. quantile(resid)\n",
      "19. quantile.default(resid)\n",
      "20. stop(\"factors are not allowed\")\n"
     ]
    },
    {
     "data": {},
     "metadata": {},
     "output_type": "display_data"
    },
    {
     "data": {
      "text/plain": [
       "          test_pred\n",
       "test_label  1  2  3\n",
       "         1 12  0  0\n",
       "         2  0 25  1\n",
       "         3  0  1 14"
      ]
     },
     "metadata": {},
     "output_type": "display_data"
    },
    {
     "data": {
      "text/html": [
       "0.962264150943396"
      ],
      "text/latex": [
       "0.962264150943396"
      ],
      "text/markdown": [
       "0.962264150943396"
      ],
      "text/plain": [
       "[1] 0.9622642"
      ]
     },
     "metadata": {},
     "output_type": "display_data"
    }
   ],
   "source": [
    "## 만든 주성분으로 회귀분석\n",
    "fit <- lm(label~., family = \"binomial\", data = trainF)\n",
    "summary(fit)\n",
    "\n",
    "## 예측\n",
    "fit_pred <- predict(fit, type=\"response\", newdata = testF)\n",
    "test_pred<- round(fit_pred)\n",
    "\n",
    "table <- table(test_label, test_pred)\n",
    "table\n",
    "sum(diag(table))/sum(table) # 96%"
   ]
  },
  {
   "cell_type": "code",
   "execution_count": null,
   "metadata": {},
   "outputs": [],
   "source": []
  }
 ],
 "metadata": {
  "kernelspec": {
   "display_name": "R",
   "language": "R",
   "name": "ir"
  },
  "language_info": {
   "codemirror_mode": "r",
   "file_extension": ".r",
   "mimetype": "text/x-r-source",
   "name": "R",
   "pygments_lexer": "r",
   "version": "3.4.3"
  }
 },
 "nbformat": 4,
 "nbformat_minor": 2
}
