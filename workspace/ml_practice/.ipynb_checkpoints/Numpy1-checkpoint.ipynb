{
 "cells": [
  {
   "cell_type": "markdown",
   "metadata": {},
   "source": [
    "## 선형대수로 표현하여 계산을 위해 numpy를 사용해보자!\n",
    "### 특징\n",
    "    1. matric vector 와 같은 array 계산을 편하게 해준다\n",
    "    2. List에 비해 빠르고 메모리를 효율적으로 사용한다.\n",
    "    3. 반복문 없이 배열에 대한 처리를 지원한다\n",
    "    4. 선형대수 관련 기능을 제공한다."
   ]
  },
  {
   "cell_type": "markdown",
   "metadata": {},
   "source": [
    "### ndarray\n",
    "    1. np.array 함수를 활용하여 생성\n",
    "    2. numpy 는 한가지의 통일된 데이터만 넣을 수 있다.\n",
    "    3. List 와의 큰 차이점 Dynamic typing not suppoerted(즉, 숫자 문자 섞어서 못한다)\n",
    "    \n",
    "### numpy.Array 와 List 차이\n",
    "    1. 메모리 사용방법 \n",
    "        - numpy 는 데이터가 들어있다.\n",
    "        - list 는 데이터의 주소값을 저장한다. (너무 귀찮아... 주소이기 때문에 실제 값에 접근하려면 속도의 차이가 있다)\n",
    "        \n",
    "### dtype 을 통한 메모리 크기 설정\n",
    "    1. c의 데이터 타입들과 완전히 유사\n",
    "    2. data 의 유형,크기에 따라 char,bool,float32,int16 int32 등 을 지정한다.\n",
    "    3. nbytes 를 이용해 해당 배열이 차지하고 있는 용량을 점검할 수 있다."
   ]
  },
  {
   "cell_type": "code",
   "execution_count": 7,
   "metadata": {},
   "outputs": [
    {
     "data": {
      "text/plain": [
       "numpy.float64"
      ]
     },
     "execution_count": 7,
     "metadata": {},
     "output_type": "execute_result"
    }
   ],
   "source": [
    "# 예제\n",
    "import numpy as np\n",
    "test_array = np.array([1 ,4 ,5 ,8], float)\n",
    "test_array\n",
    "\n",
    "type(test_array[3]) #8byte 짜리 데이터"
   ]
  },
  {
   "cell_type": "code",
   "execution_count": 10,
   "metadata": {},
   "outputs": [
    {
     "data": {
      "text/plain": [
       "dtype('float64')"
      ]
     },
     "execution_count": 10,
     "metadata": {},
     "output_type": "execute_result"
    }
   ],
   "source": [
    "test_array.dtype #배열 전체의 데이터 type 반환"
   ]
  },
  {
   "cell_type": "code",
   "execution_count": 11,
   "metadata": {},
   "outputs": [
    {
     "data": {
      "text/plain": [
       "(4,)"
      ]
     },
     "execution_count": 11,
     "metadata": {},
     "output_type": "execute_result"
    }
   ],
   "source": [
    "test_array.shape #배열의 모양을 보여줌"
   ]
  },
  {
   "cell_type": "code",
   "execution_count": 33,
   "metadata": {},
   "outputs": [
    {
     "name": "stdout",
     "output_type": "stream",
     "text": [
      "[[[1 2 5 8]\n",
      "  [1 2 5 8]\n",
      "  [1 2 5 8]\n",
      "  [1 2 5 8]]\n",
      "\n",
      " [[1 2 5 8]\n",
      "  [1 2 5 8]\n",
      "  [1 2 5 8]\n",
      "  [1 2 5 8]]\n",
      "\n",
      " [[1 2 5 8]\n",
      "  [1 2 5 8]\n",
      "  [1 2 5 8]\n",
      "  [1 2 5 8]]\n",
      "\n",
      " [[1 2 5 8]\n",
      "  [1 2 5 8]\n",
      "  [1 2 5 8]\n",
      "  [1 2 5 8]]] \n",
      " (4, 4, 4)\n"
     ]
    }
   ],
   "source": [
    "tensor = [[[1,2,5,8],[1,2,5,8],[1,2,5,8],[1,2,5,8]],\n",
    "            [[1,2,5,8],[1,2,5,8],[1,2,5,8],[1,2,5,8]],\n",
    "            [[1,2,5,8],[1,2,5,8],[1,2,5,8],[1,2,5,8]],\n",
    "            [[1,2,5,8],[1,2,5,8],[1,2,5,8],[1,2,5,8]]]\n",
    "temp = np.array(tensor, dtype=np.int8) # 한칸에 1byte만 사용한다.\n",
    "print(temp,\"\\n\" ,temp.shape) # 배열 _ 배열의 모양"
   ]
  },
  {
   "cell_type": "code",
   "execution_count": 34,
   "metadata": {},
   "outputs": [
    {
     "data": {
      "text/plain": [
       "3"
      ]
     },
     "execution_count": 34,
     "metadata": {},
     "output_type": "execute_result"
    }
   ],
   "source": [
    "temp.ndim # 배열 차원 "
   ]
  },
  {
   "cell_type": "code",
   "execution_count": 35,
   "metadata": {},
   "outputs": [
    {
     "data": {
      "text/plain": [
       "64"
      ]
     },
     "execution_count": 35,
     "metadata": {},
     "output_type": "execute_result"
    }
   ],
   "source": [
    "temp.size # 배열안의 원소의 총 개수"
   ]
  },
  {
   "cell_type": "code",
   "execution_count": 36,
   "metadata": {},
   "outputs": [
    {
     "data": {
      "text/plain": [
       "64"
      ]
     },
     "execution_count": 36,
     "metadata": {},
     "output_type": "execute_result"
    }
   ],
   "source": [
    "temp.nbytes"
   ]
  },
  {
   "cell_type": "markdown",
   "metadata": {},
   "source": [
    "## Handling shape\n",
    "    - Array 의 shape을 바꾸는 방법을 배운다.0\n",
    "    - !!!!!! element의 개수가 동일해야한다. !!!!!!\n",
    "    - Array의 size만 같다면 다차원으로 자유로이 변형가능\n",
    "    - np.array(test_matrix.reshape(-1,2).shape) \n",
    "       => -1: 전체 원소의 개수를 2씩 나눌 수 있는 row 개수를 설정하라는 뜻\n",
    "    - flatten 다차원 array를 1차원 array로 변환"
   ]
  },
  {
   "cell_type": "code",
   "execution_count": 41,
   "metadata": {
    "scrolled": true
   },
   "outputs": [
    {
     "data": {
      "text/plain": [
       "(2, 4)"
      ]
     },
     "execution_count": 41,
     "metadata": {},
     "output_type": "execute_result"
    }
   ],
   "source": [
    "test_matrix = [[1,2,3,4],[1,2,3,4]]\n",
    "np.array(test_matrix).shape"
   ]
  },
  {
   "cell_type": "code",
   "execution_count": 42,
   "metadata": {},
   "outputs": [
    {
     "data": {
      "text/plain": [
       "array([1, 2, 3, 4, 1, 2, 3, 4])"
      ]
     },
     "execution_count": 42,
     "metadata": {},
     "output_type": "execute_result"
    }
   ],
   "source": [
    "np.array(test_matrix).reshape(8,) # 8개의 원소를 담는 1차원 배열로 바꾼다."
   ]
  },
  {
   "cell_type": "code",
   "execution_count": 43,
   "metadata": {
    "scrolled": true
   },
   "outputs": [
    {
     "data": {
      "text/plain": [
       "(8,)"
      ]
     },
     "execution_count": 43,
     "metadata": {},
     "output_type": "execute_result"
    }
   ],
   "source": [
    "np.array(test_matrix).reshape(8,).shape"
   ]
  },
  {
   "cell_type": "code",
   "execution_count": 45,
   "metadata": {},
   "outputs": [
    {
     "data": {
      "text/plain": [
       "(4, 2)"
      ]
     },
     "execution_count": 45,
     "metadata": {},
     "output_type": "execute_result"
    }
   ],
   "source": [
    "np.array(test_matrix).reshape(-1,2).shape"
   ]
  },
  {
   "cell_type": "code",
   "execution_count": 47,
   "metadata": {},
   "outputs": [
    {
     "data": {
      "text/plain": [
       "(2, 2, 2)"
      ]
     },
     "execution_count": 47,
     "metadata": {},
     "output_type": "execute_result"
    }
   ],
   "source": [
    "np.array(test_matrix).reshape(2,-1,2).shape"
   ]
  }
 ],
 "metadata": {
  "kernelspec": {
   "display_name": "Python 3",
   "language": "python",
   "name": "python3"
  }
 },
 "nbformat": 4,
 "nbformat_minor": 2
}
